{
 "cells": [
  {
   "cell_type": "markdown",
   "id": "ce2f7d15",
   "metadata": {
    "slideshow": {
     "slide_type": "slide"
    }
   },
   "source": [
    "# Introduction to Python\n",
    "## UCSAS 2021\n",
    "### Surya Teja Eada"
   ]
  },
  {
   "cell_type": "markdown",
   "id": "f80c7746",
   "metadata": {
    "slideshow": {
     "slide_type": "slide"
    }
   },
   "source": [
    "## Welcome\n",
    "\n",
    "- Welcome to today's workshop for Introduction to Python as part of [UCSAS 2021](https://statds.org/events/ucsas2021/) Conference.\n",
    "- This workshop aims at giving a quick tour to Python\n",
    "- The workshop may slightly lean towards statistics, data visualizations.\n",
    "- Prerequsites: A laptop with Anaconda installed. Anaconda can be downloaded for windows users [here](https://repo.anaconda.com/archive/Anaconda3-2020.07-Windows-x86_64.exe) and for Mac users [here](https://repo.anaconda.com/archive/Anaconda3-2020.07-MacOSX-x86_64.pkg)."
   ]
  },
  {
   "cell_type": "markdown",
   "id": "524485f9",
   "metadata": {
    "slideshow": {
     "slide_type": "subslide"
    }
   },
   "source": [
    "### Anaconda\n",
    "- When you install Anaconda which is a package manager, it comes with `Python 3.8` (not the latest one), `pip 20`, `conda forge` and many other modules such as `Numpy`, `Scipy`, `Matplotlib` and many more.\n",
    "- As we progress along to further topics, let us learn how Anaconda can be helpful. Anaconda allows to keep track of modules required in data science along with appropriate version.\n",
    "- It also allows to create environments which are helpful to run multiple versions of software, modules and more.\n",
    "- pip and conda forge allows for these without a GUI using command line as well.\n",
    "- [More](https://conda.io/projects/conda/en/latest/user-guide/tasks/manage-environments.html#creating-an-environment-with-commands) documentation on Conda to create environments are available here."
   ]
  },
  {
   "cell_type": "markdown",
   "id": "95732c6f",
   "metadata": {
    "slideshow": {
     "slide_type": "slide"
    }
   },
   "source": [
    "## About Me\n",
    "\n",
    "- Third year Ph.D. student from Department of Statistics at UConn\n",
    "- **Research Interests**: \n",
    "    + Stochastic Processes, Diffusion Processes.\n",
    "    + Financial Risk Modeling, Model Risk Assessment.\n",
    "- **Aspirations**:\n",
    "    + Collaborate in various domains to contribute with Statistics.\n",
    "    + Research and Academics\n",
    "- **Hobbies**:\n",
    "    + Sports, Painting, Travel, Learning new things"
   ]
  },
  {
   "cell_type": "markdown",
   "id": "08d6d857",
   "metadata": {
    "slideshow": {
     "slide_type": "slide"
    }
   },
   "source": [
    "## Motivation\n",
    "\n",
    "Let us look from around us what brings motivation to learning a new language.\n",
    "\n",
    "- Data is growing richer, bigger and broader and that means more utility for Data Science\n",
    "- Python provides us with a utilitarian, easy to read and write language\n",
    "- Most deep learning models are implemented here first and there is a \n",
    "  lot of demand for Python\n",
    "- It is an open source which implies it improves all the time\n",
    "- And also adaptation is key to survival with the job market"
   ]
  },
  {
   "cell_type": "markdown",
   "id": "19c0a7d3",
   "metadata": {
    "slideshow": {
     "slide_type": "subslide"
    }
   },
   "source": [
    "<!-- ![Data Per Day](figs/data_size_domo.png) -->\n",
    "<img src=\"figs/data_size_domo.png\" alt=\"Data Per Day\" style=\"width:600px; height:600px;\"/>"
   ]
  },
  {
   "cell_type": "markdown",
   "id": "c6bde13d",
   "metadata": {
    "slideshow": {
     "slide_type": "subslide"
    }
   },
   "source": [
    "<!-- ![\"Rankings of Computer Languages\"](figs/language_rankings.png) -->\n",
    "<img src=\"figs/language_rankings.png\" alt=\"Rankings of Computer Languages\" style=\"width:600px; height:600px;\"/>"
   ]
  },
  {
   "cell_type": "markdown",
   "id": "a6ff6ce8",
   "metadata": {
    "slideshow": {
     "slide_type": "subslide"
    }
   },
   "source": [
    "<img src=\"figs/likely_python.png\" alt=\"Anaconda Most used language\" style=\"width:600px; height:600px;\"/>"
   ]
  },
  {
   "cell_type": "code",
   "execution_count": null,
   "id": "3235a68b",
   "metadata": {},
   "outputs": [],
   "source": []
  },
  {
   "cell_type": "code",
   "execution_count": null,
   "id": "f0e8ce6b",
   "metadata": {},
   "outputs": [],
   "source": []
  },
  {
   "cell_type": "code",
   "execution_count": null,
   "id": "9c90a6c6",
   "metadata": {},
   "outputs": [],
   "source": []
  },
  {
   "cell_type": "code",
   "execution_count": null,
   "id": "3faeffc8",
   "metadata": {},
   "outputs": [],
   "source": []
  },
  {
   "cell_type": "code",
   "execution_count": null,
   "id": "9dde204a",
   "metadata": {},
   "outputs": [],
   "source": []
  },
  {
   "cell_type": "code",
   "execution_count": null,
   "id": "b32f8e8a",
   "metadata": {},
   "outputs": [],
   "source": []
  },
  {
   "cell_type": "code",
   "execution_count": null,
   "id": "ba5ba7e4",
   "metadata": {},
   "outputs": [],
   "source": []
  },
  {
   "cell_type": "code",
   "execution_count": null,
   "id": "c20f5a73",
   "metadata": {},
   "outputs": [],
   "source": []
  },
  {
   "cell_type": "code",
   "execution_count": null,
   "id": "34adbabc",
   "metadata": {},
   "outputs": [],
   "source": []
  },
  {
   "cell_type": "code",
   "execution_count": null,
   "id": "1ad80ca0",
   "metadata": {},
   "outputs": [],
   "source": []
  },
  {
   "cell_type": "code",
   "execution_count": null,
   "id": "1bb6c6e5",
   "metadata": {},
   "outputs": [],
   "source": []
  },
  {
   "cell_type": "code",
   "execution_count": null,
   "id": "6a572da6",
   "metadata": {},
   "outputs": [],
   "source": []
  },
  {
   "cell_type": "code",
   "execution_count": null,
   "id": "fa220b3f",
   "metadata": {},
   "outputs": [],
   "source": []
  }
 ],
 "metadata": {
  "celltoolbar": "Slideshow",
  "kernelspec": {
   "display_name": "Python 3 (ipykernel)",
   "language": "python",
   "name": "python3"
  },
  "language_info": {
   "codemirror_mode": {
    "name": "ipython",
    "version": 3
   },
   "file_extension": ".py",
   "mimetype": "text/x-python",
   "name": "python",
   "nbconvert_exporter": "python",
   "pygments_lexer": "ipython3",
   "version": "3.9.7"
  }
 },
 "nbformat": 4,
 "nbformat_minor": 5
}
