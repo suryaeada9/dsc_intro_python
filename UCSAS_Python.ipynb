{
 "cells": [
  {
   "cell_type": "markdown",
   "metadata": {
    "slideshow": {
     "slide_type": "slide"
    }
   },
   "source": [
    "# Introduction to Python\n",
    "\n",
    "## [UCSAS 2021](https://statds.org/events/ucsas2021/)  Conference\n",
    "\n",
    "## Surya Teja Eada\n",
    "\n",
    "## October 09, 2021"
   ]
  },
  {
   "cell_type": "markdown",
   "metadata": {
    "slideshow": {
     "slide_type": "notes"
    }
   },
   "source": [
    "## Welcome\n",
    "\n",
    "- Welcome to today's workshop for Introduction to Python as part of [UCSAS 2021](https://statds.org/events/ucsas2021/) Conference.\n",
    "- This workshop aims at giving a quick tour to Python\n",
    "- The workshop may slightly lean towards statistics, data visualizations."
   ]
  },
  {
   "cell_type": "markdown",
   "metadata": {
    "slideshow": {
     "slide_type": "slide"
    }
   },
   "source": [
    "## About Me\n",
    " \n",
    "<!-- <img src = 'figs/profile.JPG' alt=\"Anaconda Learning Library\" style=\"width:200px; height:200px; align:right;\"/> -->\n",
    "\n",
    "<div class=\"wrapingimage\">   \n",
    "<img src=    \n",
    "\"figs/profile.JPG\" height=\"100px\" width=\"100px\"  \n",
    "alt=\"image\">\n",
    "</div>  \n",
    "\n",
    "Third year Ph.D. student from Department of Statistics at UConn\n",
    "\n",
    "**Research Interests**: \n",
    "   - Stochastic Processes, Diffusion Processes.\n",
    "   - Financial Risk Modeling, Model Risk Assessment.\n",
    "   \n",
    "**Aspirations**:\n",
    "   - Collaborate in various domains to contribute with Statistics.\n",
    "   - Research and Academics\n",
    "   \n",
    "**Hobbies**:\n",
    "   - Sports, Painting, Travel, Learning new things"
   ]
  },
  {
   "cell_type": "markdown",
   "metadata": {
    "slideshow": {
     "slide_type": "slide"
    }
   },
   "source": [
    "## Prerequisites\n",
    "\n",
    "- Prerequsites: A laptop with Anaconda installed. Anaconda can be downloaded for windows users [here](https://repo.anaconda.com/archive/Anaconda3-2020.07-Windows-x86_64.exe) and for Mac users [here](https://repo.anaconda.com/archive/Anaconda3-2020.07-MacOSX-x86_64.pkg).\n",
    "- The slides and Practice workbook for today's workshop can be found at: [Github UCSAS 2021](https://github.com/suryaeada9/ucsas_intro_python)"
   ]
  },
  {
   "cell_type": "markdown",
   "metadata": {
    "slideshow": {
     "slide_type": "subslide"
    }
   },
   "source": [
    "### Anaconda\n",
    "- When you install Anaconda GUI (package manager), it comes with `Python 3.8` (not the latest one), `pip 20`, `conda forge` and most of the important modules such as `Numpy`, `Scipy`, `Matplotlib`, etc.\n",
    "- Anaconda allows to keep track of useful modules along with right version required for your project via environments\n",
    "- pip and conda forge allows for these without a GUI using command line.\n",
    "- [More](https://conda.io/projects/conda/en/latest/user-guide/tasks/manage-environments.html#creating-an-environment-with-commands) documentation on how conda allows to create environments are available here.\n",
    "- Anaconda also provides Jupyter notebook, a very useful tool in data science similar to Rmarkdown allowing for markdown and code runs.\n",
    "- Furthermore a library full of documentation regarding important modules is present as you can see below:"
   ]
  },
  {
   "cell_type": "markdown",
   "metadata": {
    "slideshow": {
     "slide_type": "subslide"
    }
   },
   "source": [
    "<img src = 'figs/anaconda_library.png' alt=\"Anaconda Learning Library\" align=\"center\" style=\"width:600px; height:600px;\"/>"
   ]
  },
  {
   "cell_type": "markdown",
   "metadata": {
    "slideshow": {
     "slide_type": "slide"
    }
   },
   "source": [
    "## Motivation\n",
    "\n",
    "Let us look from around us what brings motivation to learning a new language.\n",
    "\n",
    "- Data is growing richer, bigger and broader and that means more application of Data Science\n",
    "- Python provides us with a utilitarian, easy to read and write language\n",
    "- Most deep learning models are implemented here first and there is a \n",
    "  lot of demand for Python\n",
    "- It is an open source which implies it improves all the time\n",
    "- And also adaptation is key to survival with the job market"
   ]
  },
  {
   "cell_type": "markdown",
   "metadata": {
    "slideshow": {
     "slide_type": "subslide"
    }
   },
   "source": [
    "<!-- ![Data Per Day](figs/data_size_domo.png) -->\n",
    "<img src=\"figs/data_size_domo.png\" alt=\"Data Per Day\" style=\"width:600px; height:600px;\"/>"
   ]
  },
  {
   "cell_type": "markdown",
   "metadata": {
    "slideshow": {
     "slide_type": "subslide"
    }
   },
   "source": [
    "<!-- ![\"Rankings of Computer Languages\"](figs/language_rankings.png) -->\n",
    "<img src=\"figs/language_rankings.png\" alt=\"Rankings of Computer Languages\" style=\"width:600px; height:600px;\"/>"
   ]
  },
  {
   "cell_type": "markdown",
   "metadata": {
    "slideshow": {
     "slide_type": "subslide"
    }
   },
   "source": [
    "<img src=\"figs/likely_python.png\" alt=\"Anaconda Most used language\" style=\"width:600px; height:600px;\"/>"
   ]
  },
  {
   "cell_type": "markdown",
   "metadata": {
    "slideshow": {
     "slide_type": "slide"
    }
   },
   "source": [
    "## Python Intro\n",
    "\n",
    "- Python is one of the most promising programming language released in 1991 by `Guido Van Rossum`.\n",
    "- It is useful for creation of web applications, for software development, and now a lot in data science and constantly evolving.\n",
    "- It has an easy `syntax` similar to English, simple to read and write.\n",
    "- The most recent major version of Python is `Python 3` although Python 2 is still used majorly inside mac systems for development.\n",
    "- We can use Python via `command line`, IDE's like `PyCharm`, or applications such as `Jupyter Notebook`. \n",
    "- Python works on all the different platforms like `Windows, Mac, Linux`."
   ]
  },
  {
   "cell_type": "markdown",
   "metadata": {
    "slideshow": {
     "slide_type": "slide"
    }
   },
   "source": [
    "## Aims of the Workshop\n",
    "\n",
    "- **Python Syntax**\n",
    "    + Variable\n",
    "    + Indentation\n",
    "    + Comments\n",
    "    + Python Help\n",
    "- **Data Types and Methods**: Mutable and Immutable\n",
    "    + **Text Type**: `str`\n",
    "    + **Numeric Types**: `int, float, complex`\n",
    "    + **Sequence Types**: `list, tuple, range`\n",
    "    + **Mapping Type**:\t`dict`\n",
    "    + **Set Types**: `set, frozenset`\n",
    "    + **Boolean Type**:\t`bool`\n",
    "- **Conditions, Loops, Functions**\n",
    "- **Basic Modules** and respective Functions\n",
    "    + **`Numpy`**: Arrays, Universal Functions (Vectorized), Random numbers (Simulations)\n",
    "    + **`Pandas`**: DataFrames, Data Manipulation\n",
    "    + **`Scipy`**: Stats functions, optimize functions\n",
    "    + **`Matplotlib`**: Visualization\n",
    "- Exercises "
   ]
  },
  {
   "cell_type": "markdown",
   "metadata": {
    "slideshow": {
     "slide_type": "slide"
    }
   },
   "source": [
    "## Let's get Started\n",
    "\n",
    "- We will be working on Jupyter Notebook to open a `Practice.ipynb` located in the [Github UCSAS 2021](https://github.com/suryaeada9/ucsas_intro_python).\n",
    "- Download the file `Practice.ipynb`\n",
    "- Open a Jupyter notebook from Anaconda GUI or from command line using command `jupyter notebook`\n",
    "- Open the `Practice.ipynb` file"
   ]
  },
  {
   "cell_type": "markdown",
   "metadata": {
    "slideshow": {
     "slide_type": "subslide"
    }
   },
   "source": [
    "## Jupyter Notebook\n",
    "\n",
    "### Some Useful comments for Jupyter\n",
    "- In order to work with a jupyter notebook that allows for `markdown` and `code chunks`, it is most importanat to note the difference between `command` mode and `edit` mode. \n",
    "    + `Command` mode is activated when a `blue border` is around the highlighted chunk and often can be obtained by pressing `ESC`\n",
    "    + This implies that you can add a new chunk using `A` or `B`, change the current chunk into a markdown chunk using `M`, or a code chunk using `Y`, activate help to find all shortcuts using `H` \n",
    "    + During the `Command` mode anything you type is considered a command for the notebook and will not be typed into the chunk. \n",
    "    + `Edit` mode is activated when a `green border` is highlighting the chunk you are at and can be attained by pressing `Enter`.\n",
    "    + This implies you are editing the current chunk by writing code or text depending on the type of chunk it is.\n",
    "    + A code chunk can be determined by a `In []` to the left of the chunk and a markdown chunk does not have the same. Moreover, a markdown chunk can be run using `CMD + ENTER` in which case it looks like a PDF."
   ]
  },
  {
   "cell_type": "markdown",
   "metadata": {
    "slideshow": {
     "slide_type": "slide"
    }
   },
   "source": [
    "### Python Installation Check and our first Python run"
   ]
  },
  {
   "cell_type": "code",
   "execution_count": 1,
   "metadata": {
    "slideshow": {
     "slide_type": "fragment"
    }
   },
   "outputs": [
    {
     "name": "stdout",
     "output_type": "stream",
     "text": [
      "Python 3.8.8\n",
      "Hello World!\n"
     ]
    }
   ],
   "source": [
    "## Check Python Installation & Version (`!`)\n",
    "!python --version\n",
    "\n",
    "## print Hello World\n",
    "print(\"Hello World!\")"
   ]
  },
  {
   "cell_type": "markdown",
   "metadata": {
    "slideshow": {
     "slide_type": "subslide"
    }
   },
   "source": [
    "## Python \"f-string\" and \"input\" function\n",
    "\n",
    "- Python \"f-string\" allows concatenation of strings with variables"
   ]
  },
  {
   "cell_type": "code",
   "execution_count": 2,
   "metadata": {
    "slideshow": {
     "slide_type": "fragment"
    }
   },
   "outputs": [
    {
     "name": "stdout",
     "output_type": "stream",
     "text": [
      "Enter your name: Surya\n",
      "Enter your age: 29\n",
      "My name is Surya and I am 29 years old\n"
     ]
    }
   ],
   "source": [
    "## taking user input\n",
    "name = input(\"Enter your name: \")\n",
    "age  = input(\"Enter your age: \")\n",
    "print(f\"My name is {name} and I am {age} years old\")"
   ]
  },
  {
   "cell_type": "markdown",
   "metadata": {
    "slideshow": {
     "slide_type": "subslide"
    }
   },
   "source": [
    "## Save this a source file to run multiple times\n",
    "\n",
    "%save is a magic function that allows us to save a source file once we like a function run, application run etc by running it in Jupyter and using the chunk number dynamically as an input."
   ]
  },
  {
   "cell_type": "code",
   "execution_count": 3,
   "metadata": {
    "slideshow": {
     "slide_type": "fragment"
    }
   },
   "outputs": [
    {
     "name": "stdout",
     "output_type": "stream",
     "text": [
      "The following commands were written to file `firstscript.py`:\n",
      "## taking user input\n",
      "name = input(\"Enter your name: \")\n",
      "age  = input(\"Enter your age: \")\n",
      "print(f\"My name is {name} and I am {age} years old\")\n"
     ]
    }
   ],
   "source": [
    "## magic command allows you to save second run chunk in `.py`\n",
    "## and -a allows to append to that rather than overwrite.\n",
    "\n",
    "## I will run this once and comment it as it is a dynamic function\n",
    "## and I don't want to create mutliple files.\n",
    "\n",
    "# %save firstscript.py -n 2 -a "
   ]
  },
  {
   "cell_type": "markdown",
   "metadata": {
    "slideshow": {
     "slide_type": "fragment"
    }
   },
   "source": [
    "- `!` allows for magic use of `bash` within jupyter notebook. \n",
    "- `%save` allows for magic save of a code chunk into a `.py` file that you can run using python in bash."
   ]
  },
  {
   "cell_type": "markdown",
   "metadata": {
    "slideshow": {
     "slide_type": "slide"
    }
   },
   "source": [
    "## Python Syntax\n",
    "\n",
    "- Python uses `new line` to inform `end` of command or function.\n",
    "- This is unlike other programs that use brackets or semi-colons.\n",
    "\n",
    "### Comments\n",
    "- Comments are applied using `#` or apply shortcut `CMD + /`"
   ]
  },
  {
   "cell_type": "code",
   "execution_count": 4,
   "metadata": {
    "slideshow": {
     "slide_type": "fragment"
    }
   },
   "outputs": [
    {
     "name": "stdout",
     "output_type": "stream",
     "text": [
      "Hello UCSAS\n",
      "Workshop is going good??\n"
     ]
    }
   ],
   "source": [
    "# Demo: Print, End of command, Commenting\n",
    "print(\"Hello UCSAS\")\n",
    "print(\"Workshop is going good??\")"
   ]
  },
  {
   "cell_type": "markdown",
   "metadata": {
    "slideshow": {
     "slide_type": "subslide"
    }
   },
   "source": [
    "## Python Syntax\n",
    "\n",
    "### Variable Assignment\n",
    "- Variable is a pointer associated to an object (int, list) in Python and thus stores address of where the object is saved. \n",
    "- We use \"=\" for assignment of a variable to such a name. \n",
    "- We can assign integers, floats, strings, boolean, lists, functions or any class object to a variable.\n",
    "- Python also allows multiple assignment in a single line from multiple objects or single list.\n",
    "- \"is\" verifies if it is the same object in the same address while \"==\" verifies the equality pointwise."
   ]
  },
  {
   "cell_type": "code",
   "execution_count": 8,
   "metadata": {
    "slideshow": {
     "slide_type": "subslide"
    }
   },
   "outputs": [
    {
     "name": "stdout",
     "output_type": "stream",
     "text": [
      "2\n",
      "UCSAS\n",
      "True\n",
      "[1, 2, 3, 4]\n",
      "12\n"
     ]
    }
   ],
   "source": [
    "# Integer Assignment to a variable\n",
    "x = 2\n",
    "\n",
    "# String\n",
    "z = \"UCSAS\"\n",
    "\n",
    "## Boolean\n",
    "w = True\n",
    "\n",
    "## list\n",
    "a = [1, 2, 3, 4]\n",
    "\n",
    "## function\n",
    "def function_that_adds_10(x):\n",
    "    return(x + 10)\n",
    "\n",
    "f = function_that_adds_10\n",
    "\n",
    "print(x)\n",
    "print(z)\n",
    "print(w)\n",
    "print(a)\n",
    "print(f(2))"
   ]
  },
  {
   "cell_type": "code",
   "execution_count": 9,
   "metadata": {
    "slideshow": {
     "slide_type": "fragment"
    }
   },
   "outputs": [
    {
     "name": "stdout",
     "output_type": "stream",
     "text": [
      "2 , UCSAS , True\n"
     ]
    }
   ],
   "source": [
    "## Mutliple Assignment at once\n",
    "a1,  a2, a3 = 2, \"UCSAS\", True\n",
    "\n",
    "print(a1, ',', a2, ',', a3)"
   ]
  },
  {
   "cell_type": "markdown",
   "metadata": {
    "slideshow": {
     "slide_type": "subslide"
    }
   },
   "source": [
    "### Indentation\n",
    "- Indentation refers to the spaces at the beginning of a code line used to inform scope of conditional, loop, or a function.\n",
    "    + You have to use some white space and it depends on programmer but should be `at least one space`\n",
    "    + Use `same number` of space in same block of code\n",
    "    + It informs that the next line does not mean end of the earlier code"
   ]
  },
  {
   "cell_type": "code",
   "execution_count": 30,
   "metadata": {
    "slideshow": {
     "slide_type": "fragment"
    }
   },
   "outputs": [
    {
     "name": "stdout",
     "output_type": "stream",
     "text": [
      "Less than 2\n"
     ]
    }
   ],
   "source": [
    "# Indentation using one space to continue `if`\n",
    "# Also see the use of `:`\n",
    "x = 0\n",
    "\n",
    "if x>2: \n",
    " print(\"Greater than 2\")\n",
    "else: \n",
    " print(\"Less than 2\")"
   ]
  },
  {
   "cell_type": "markdown",
   "metadata": {
    "slideshow": {
     "slide_type": "slide"
    }
   },
   "source": [
    "### Help in Python\n",
    "\n",
    "- In python help can be required of three types.\n",
    "    + you don't know what function to use: google, tutorials can be helpful\n",
    "    + you know a function but don't know its usage: use `help`(function)\n",
    "    + you know module but forgot the name of the function: use `tab` after module name and a dot\n",
    "    + you want to use methods for your data type but don't know them: use `dir(type)`\n",
    "- `dir()` allows you to get all the built-in methods applicable to a certain object.\n",
    "- One can apply these by using a `.` at the end of the list name, similar to `x.sort()` or `x.append(4)`\n",
    "- If you wish to get only the meaningful ones that are predominantly used, the following \"`if` condition\" avoiding all those that start with `__` or `_` may be helpful.  "
   ]
  },
  {
   "cell_type": "code",
   "execution_count": 36,
   "metadata": {
    "slideshow": {
     "slide_type": "subslide"
    }
   },
   "outputs": [
    {
     "name": "stdout",
     "output_type": "stream",
     "text": [
      "['append', 'clear', 'copy', 'count', 'extend', 'index', 'insert', 'pop', 'remove', 'reverse', 'sort']\n",
      "Help on built-in function sum in module builtins:\n",
      "\n",
      "sum(iterable, /, start=0)\n",
      "    Return the sum of a 'start' value (default: 0) plus an iterable of numbers\n",
      "    \n",
      "    When the iterable is empty, return the start value.\n",
      "    This function is intended specifically for use with numeric values and may\n",
      "    reject non-numeric types.\n",
      "\n"
     ]
    },
    {
     "data": {
      "text/plain": [
       "array([3, 4, 5])"
      ]
     },
     "execution_count": 36,
     "metadata": {},
     "output_type": "execute_result"
    }
   ],
   "source": [
    "## Using dir to find the methods for list\n",
    "MyClass = list\n",
    "method_list = [method for method in dir(MyClass) if method.startswith('__') is False]\n",
    "print(method_list)\n",
    "\n",
    "## Help on function `sum`\n",
    "help(sum)\n",
    "\n",
    "x = [1, 2, 3]\n",
    "sum(x, 2)"
   ]
  },
  {
   "cell_type": "markdown",
   "metadata": {
    "slideshow": {
     "slide_type": "subslide"
    }
   },
   "source": [
    "## Quiz on Help with variables: \n",
    "\n",
    "Use the above manner of using `dir` to find the list of methods applicable\n",
    "to class `list` and apply those that are most appropriate for the following task:\n",
    "\n",
    "**Task:** Use `x = [3, 10, 7]` and using the methods for a `list` and \n",
    "    - concatenate 4 to the list\n",
    "    - sort in descending order\n",
    "    - remove the item at index 2 from original variable and return removed value to a new variable\n",
    "    - clear the entire list\n",
    "    - Also find using help, the difference between `pop` and `remove`.\n",
    "    \n",
    " Use print statements at the end of every task to view x at the end of every method application.\n",
    "\n",
    "**Note:** If you are unsure of a particular method, use `help(type.method)` or `help(object.method)`"
   ]
  },
  {
   "cell_type": "code",
   "execution_count": 49,
   "metadata": {
    "slideshow": {
     "slide_type": "subslide"
    }
   },
   "outputs": [
    {
     "name": "stdout",
     "output_type": "stream",
     "text": [
      "[3, 10, 7, 4]\n",
      "[3, 4, 7, 10]\n",
      "[10, 7, 4, 3]\n",
      "[10, 7, 3]\n",
      "4\n",
      "[10, 7]\n",
      "[]\n",
      "Help on built-in function pop:\n",
      "\n",
      "pop(index=-1, /) method of builtins.list instance\n",
      "    Remove and return item at index (default last).\n",
      "    \n",
      "    Raises IndexError if list is empty or index is out of range.\n",
      "\n",
      "None\n",
      "Help on built-in function remove:\n",
      "\n",
      "remove(value, /) method of builtins.list instance\n",
      "    Remove first occurrence of value.\n",
      "    \n",
      "    Raises ValueError if the value is not present.\n",
      "\n",
      "None\n"
     ]
    }
   ],
   "source": [
    "## Initiate a list\n",
    "x = [3, 10, 7]\n",
    "\n",
    "## Append 4\n",
    "x.append(4)\n",
    "print(x)\n",
    "\n",
    "# Sort in ascending\n",
    "x.sort()\n",
    "print(x)\n",
    "\n",
    "# Reverse order\n",
    "x.reverse()\n",
    "print(x)\n",
    "\n",
    "# Pop and remove application\n",
    "y = x.pop(2)  ## uses index, defaults last\n",
    "print(x)\n",
    "print(y)\n",
    "x.remove(3)  ## uses value, removes its first occurence, no default\n",
    "print(x)\n",
    "\n",
    "## Clear\n",
    "x.clear()\n",
    "print(x)\n",
    "\n",
    "print(help(x.pop))\n",
    "print(help(x.remove))"
   ]
  },
  {
   "cell_type": "markdown",
   "metadata": {
    "slideshow": {
     "slide_type": "slide"
    }
   },
   "source": [
    "## Data Types, Methods, Casting.\n",
    "\n",
    "\n",
    "Every object containing data has a data type that can be found using `type()`. You can access `type()` on the variable pointing to the object.\n",
    "\n",
    "- **Data Types**:\n",
    "    + **Text**: `str`\n",
    "    + **Numeric**: `int, float, complex`\n",
    "    + **Sequence**: `list, tuple, range`\n",
    "    + **Mapping**:\t`dict`\n",
    "    + **Set**: `set, frozenset`\n",
    "    + **Boolean**:\t`bool`\n",
    "\n",
    "- The above is not an exhaustive set of all possibilities\n",
    "\n",
    "### Guess/Try:\n",
    "Do you know what happens if you try `type(type(str))`"
   ]
  },
  {
   "cell_type": "markdown",
   "metadata": {
    "slideshow": {
     "slide_type": "subslide"
    }
   },
   "source": [
    "### Illustration:\n",
    "\n",
    "The following is an illustration of obtaining objects of different data types.\n",
    "\n",
    "- String is an array of bytes representing unicode characters and thus elemets can be accessed.\n",
    "- Multiline strings need three quotes and keep line breaks in tact while printing.\n",
    "- Operators like `+` concatenates strings, `in` searches for membership\n",
    "- Commonly used methods:\n",
    "    + `upper()`: upper case\n",
    "    + `lower()`: lower case\n",
    "    + `strip()`: removes white space from beginning and end\n",
    "    + ``replace(`a`, `b`)``: replaces a with b in string\n",
    "    + ``split(`,`)``: splits based on given seperator\n",
    "    + `format(a)`: adds variable a at the `{}` left in the string\n",
    "    + `capitalize()`: converts first character to upper case.\n",
    "    + `casefold()`: converts string into lower case\n",
    "    + `count('a')`: counts number of times a specified value occurs in a string.\n",
    "    + `endswith()`, `startswith`, `find`, `index`, `isalphabet`, `isdigit`"
   ]
  },
  {
   "cell_type": "code",
   "execution_count": 152,
   "metadata": {
    "slideshow": {
     "slide_type": "subslide"
    }
   },
   "outputs": [
    {
     "name": "stdout",
     "output_type": "stream",
     "text": [
      "`abcd` is of type: <class 'str'>\n",
      "abcd\n",
      "let me show what line breaks do\n",
      "`I` is the first character in string x\n",
      "` am at UC` are the next nine characters including spaces\n",
      "`I am` are the first four characters in x excluding index 4\n",
      "` at UCSAS` are the characters from location 4 including till end\n",
      "`S` is the last character\n",
      "True\n"
     ]
    },
    {
     "data": {
      "text/plain": [
       "'I am Surya and I teach Statistics'"
      ]
     },
     "execution_count": 152,
     "metadata": {},
     "output_type": "execute_result"
    }
   ],
   "source": [
    "## Primitive type\n",
    "\n",
    "# String\n",
    "x = 'abcd'\n",
    "print(f\"`{x}` is of type: {type(x)}\")\n",
    "\n",
    "# multiline string\n",
    "x = '''abcd\n",
    "let me show what line breaks do'''\n",
    "print(x)\n",
    "\n",
    "# string access and slicing\n",
    "x = 'I am at UCSAS'\n",
    "print(f\"`{x[0]}` is the first character in string x\")\n",
    "print(f\"`{x[1:10]}` are the next nine characters including spaces\")  # from index 1 to index 9\n",
    "print(f\"`{x[:4]}` are the first four characters in x excluding index 4\")\n",
    "print(f\"`{x[4:]}` are the characters from location 4 including till end\")\n",
    "print(f\"`{x[-1]}` is the last character\")\n",
    "\n",
    "# check string is Boolean\n",
    "print(\"at\" in x)\n",
    "\n",
    "# format\n",
    "x = \"I am {} and I teach {}\"\n",
    "x.format('Surya', 'Statistics')"
   ]
  },
  {
   "cell_type": "code",
   "execution_count": 58,
   "metadata": {
    "slideshow": {
     "slide_type": "fragment"
    }
   },
   "outputs": [
    {
     "name": "stdout",
     "output_type": "stream",
     "text": [
      "12 is of type: <class 'int'>\n"
     ]
    }
   ],
   "source": [
    "# integer \n",
    "y = 12\n",
    "print(f\"{y} is of type: {type(y)}\")"
   ]
  },
  {
   "cell_type": "code",
   "execution_count": 59,
   "metadata": {
    "slideshow": {
     "slide_type": "fragment"
    }
   },
   "outputs": [
    {
     "name": "stdout",
     "output_type": "stream",
     "text": [
      "12.0 if of type: <class 'float'>\n"
     ]
    }
   ],
   "source": [
    "# float\n",
    "z = 12.0\n",
    "print(f\"{z} if of type: {type(z)}\")"
   ]
  },
  {
   "cell_type": "code",
   "execution_count": 60,
   "metadata": {
    "slideshow": {
     "slide_type": "fragment"
    }
   },
   "outputs": [
    {
     "name": "stdout",
     "output_type": "stream",
     "text": [
      "(2+3j) is of type: <class 'complex'>\n"
     ]
    }
   ],
   "source": [
    "# complex\n",
    "a = 2 + 3j  # can use J as well, or casting like complex(2, 3)\n",
    "print(f\"{a} is of type: {type(a)}\")"
   ]
  },
  {
   "cell_type": "code",
   "execution_count": 62,
   "metadata": {
    "slideshow": {
     "slide_type": "fragment"
    }
   },
   "outputs": [
    {
     "name": "stdout",
     "output_type": "stream",
     "text": [
      "True is object of type: <class 'bool'>\n"
     ]
    }
   ],
   "source": [
    "# Boolean\n",
    "x = True\n",
    "print(f\"{x} is object of type: {type(x)}\")"
   ]
  },
  {
   "cell_type": "markdown",
   "metadata": {
    "slideshow": {
     "slide_type": "subslide"
    }
   },
   "source": [
    "### Data types containing multiple objects:\n",
    "\n",
    "- In base python, we already have `list`, `tuple`, `range` for sequence like objects that allow repetitions while we have `set`, `dictionary` for objects that contain multiple items but without allowance for replacements.\n",
    "- Note that the `indexing` for sequence like objects starts at `0` in Python and using index such as `x[0]`, value can be accessed.\n",
    "- Sequence like objects can be accessed using index as `item[index]` to obtain element at a particular index.\n",
    "- `List` uses a `[]` whereas `tuple` uses a `()`, set uses a `{}`, dictionary also uses a `{key: value}` .\n",
    "\n",
    "- `List` is an immutable object containing a sequence of other objects where objects are of type `int`, `list`, or `functions`.\n",
    "- `Set` has a collection of objects but without allowance for replacements. Also all objects in a set has to be simple or primitive and cannot have a list as an element.\n",
    "\n",
    "#### Mapping object\n",
    "- `dict` allows a mapping of an immutable key to any kind of objects. This is slightly different as it is also a mapping kind of object"
   ]
  },
  {
   "cell_type": "code",
   "execution_count": 114,
   "metadata": {
    "slideshow": {
     "slide_type": "fragment"
    }
   },
   "outputs": [
    {
     "name": "stdout",
     "output_type": "stream",
     "text": [
      "[1, 2, 'abc', [1, 2]] is of type: <class 'list'>\n",
      "element in x at index 0 is 1\n",
      "sliced elements between locations 0 and 3(until location 2) is [1, 2, 'abc']\n"
     ]
    }
   ],
   "source": [
    "# list\n",
    "x = [1, 2, \"abc\", [1, 2]]\n",
    "print(f\"{x} is of type: {type(x)}\")\n",
    "\n",
    "print(f\"element in x at index 0 is {x[0]}\")\n",
    "print(f\"sliced elements between locations 0 and 3(until location 2) is {x[0:3]}\")"
   ]
  },
  {
   "cell_type": "code",
   "execution_count": 115,
   "metadata": {
    "slideshow": {
     "slide_type": "fragment"
    }
   },
   "outputs": [
    {
     "data": {
      "text/plain": [
       "['1', '2']"
      ]
     },
     "execution_count": 115,
     "metadata": {},
     "output_type": "execute_result"
    }
   ],
   "source": [
    "## list of functions\n",
    "def a(x):\n",
    "    return(x[0])\n",
    "\n",
    "def b(x):\n",
    "    return(x[1])\n",
    "\n",
    "z = [a, b]\n",
    "[x('123') for x in z]"
   ]
  },
  {
   "cell_type": "code",
   "execution_count": 116,
   "metadata": {
    "slideshow": {
     "slide_type": "fragment"
    }
   },
   "outputs": [
    {
     "name": "stdout",
     "output_type": "stream",
     "text": [
      "(1, 2, [1, 2], 'abc') is element of type: <class 'tuple'>\n"
     ]
    }
   ],
   "source": [
    "# tuple `immutable equivalent of list`\n",
    "y = (1, 2, [1, 2], \"abc\")\n",
    "print(f\"{y} is element of type: {type(y)}\")"
   ]
  },
  {
   "cell_type": "code",
   "execution_count": 117,
   "metadata": {
    "slideshow": {
     "slide_type": "fragment"
    }
   },
   "outputs": [
    {
     "name": "stdout",
     "output_type": "stream",
     "text": [
      "range(1, 5) is element of type: <class 'range'>\n"
     ]
    }
   ],
   "source": [
    "# range(## start, stop, step). Also step can only be integers. This gives i, i+1, ... j-1\n",
    "z = range(1, 5, 1)   \n",
    "print(f\"{z} is element of type: {type(z)}\")"
   ]
  },
  {
   "cell_type": "code",
   "execution_count": 118,
   "metadata": {
    "slideshow": {
     "slide_type": "fragment"
    }
   },
   "outputs": [
    {
     "data": {
      "text/plain": [
       "{'ab', 'cd', 'ed'}"
      ]
     },
     "execution_count": 118,
     "metadata": {},
     "output_type": "execute_result"
    }
   ],
   "source": [
    "# set\n",
    "x = {\"ab\", \"cd\", \"ed\", \"ab\"}\n",
    "x"
   ]
  },
  {
   "cell_type": "code",
   "execution_count": 120,
   "metadata": {
    "slideshow": {
     "slide_type": "fragment"
    }
   },
   "outputs": [
    {
     "name": "stdout",
     "output_type": "stream",
     "text": [
      "{'a': [2, 4], 'b': (2, 3), 'c': [1, 5]}\n"
     ]
    }
   ],
   "source": [
    "# dict\n",
    "x = {'a': [1, 2, 3], 'b': (2, 3), 'a': [2, 4]}\n",
    "\n",
    "# dict can update\n",
    "x.update({'c':[1, 5]})\n",
    "print(x)"
   ]
  },
  {
   "cell_type": "markdown",
   "metadata": {
    "slideshow": {
     "slide_type": "slide"
    }
   },
   "source": [
    "## Methods for each data type\n",
    "\n",
    "- Every data type has certain built in methods defined based on characteristics of data type such as mutability, repetitions, kind of elements it can contain.\n",
    "- A method is often applied at the end of name of the variable and that is what makes Python readable like English.\n",
    "\n",
    "- Int: "
   ]
  },
  {
   "cell_type": "code",
   "execution_count": 125,
   "metadata": {
    "slideshow": {
     "slide_type": "subslide"
    }
   },
   "outputs": [
    {
     "name": "stdout",
     "output_type": "stream",
     "text": [
      "<class 'int'>:{'conjugate', 'bit_length', 'as_integer_ratio', 'to_bytes', 'denominator', 'imag', 'real', 'from_bytes', 'numerator'}\n",
      "<class 'float'>:{'conjugate', 'as_integer_ratio', 'hex', 'imag', 'fromhex', 'real', 'is_integer'}\n",
      "<class 'str'>:{'rsplit', 'islower', 'maketrans', 'replace', 'encode', 'isspace', 'capitalize', 'endswith', 'isdecimal', 'swapcase', 'rstrip', 'splitlines', 'isdigit', 'rjust', 'format_map', 'istitle', 'lower', 'translate', 'format', 'split', 'upper', 'isidentifier', 'rfind', 'expandtabs', 'partition', 'isascii', 'join', 'startswith', 'rpartition', 'isalnum', 'rindex', 'title', 'ljust', 'isprintable', 'isalpha', 'index', 'strip', 'center', 'isnumeric', 'lstrip', 'count', 'casefold', 'find', 'isupper', 'zfill'}\n",
      "<class 'complex'>:{'conjugate', 'imag', 'real'}\n",
      "<class 'bool'>:{'conjugate', 'bit_length', 'as_integer_ratio', 'to_bytes', 'denominator', 'imag', 'real', 'from_bytes', 'numerator'}\n",
      "<class 'list'>:{'append', 'insert', 'remove', 'index', 'count', 'copy', 'extend', 'reverse', 'sort', 'clear', 'pop'}\n",
      "<class 'tuple'>:{'index', 'count'}\n",
      "<class 'set'>:{'update', 'remove', 'difference', 'add', 'discard', 'intersection', 'symmetric_difference', 'symmetric_difference_update', 'difference_update', 'intersection_update', 'copy', 'union', 'issubset', 'isdisjoint', 'clear', 'pop', 'issuperset'}\n",
      "<class 'dict'>:{'setdefault', 'update', 'values', 'fromkeys', 'get', 'popitem', 'copy', 'items', 'keys', 'clear', 'pop'}\n"
     ]
    }
   ],
   "source": [
    "def methods(x):\n",
    "    y = {method for method in dir(x) if method.startswith(\"__\") is False}\n",
    "    print(f\"{x}:{y}\")\n",
    "\n",
    "# primitive object methods\n",
    "methods(int)\n",
    "methods(float)\n",
    "methods(str)\n",
    "methods(complex)\n",
    "methods(bool)\n",
    "\n",
    "# methods for objects containing multiple objects\n",
    "methods(list)\n",
    "methods(tuple)\n",
    "methods(set)\n",
    "methods(dict)"
   ]
  },
  {
   "cell_type": "code",
   "execution_count": 131,
   "metadata": {},
   "outputs": [
    {
     "ename": "TypeError",
     "evalue": "can't convert complex to float",
     "output_type": "error",
     "traceback": [
      "\u001b[0;31m---------------------------------------------------------------------------\u001b[0m",
      "\u001b[0;31mTypeError\u001b[0m                                 Traceback (most recent call last)",
      "\u001b[0;32m<ipython-input-131-fb0b536e9f4b>\u001b[0m in \u001b[0;36m<module>\u001b[0;34m\u001b[0m\n\u001b[1;32m      1\u001b[0m \u001b[0mx\u001b[0m \u001b[0;34m=\u001b[0m \u001b[0;36m1\u001b[0m \u001b[0;34m+\u001b[0m \u001b[0;36m2j\u001b[0m\u001b[0;34m\u001b[0m\u001b[0;34m\u001b[0m\u001b[0m\n\u001b[0;32m----> 2\u001b[0;31m \u001b[0mprint\u001b[0m\u001b[0;34m(\u001b[0m\u001b[0mfloat\u001b[0m\u001b[0;34m(\u001b[0m\u001b[0mx\u001b[0m\u001b[0;34m)\u001b[0m\u001b[0;34m)\u001b[0m\u001b[0;34m\u001b[0m\u001b[0;34m\u001b[0m\u001b[0m\n\u001b[0m\u001b[1;32m      3\u001b[0m \u001b[0mprint\u001b[0m\u001b[0;34m(\u001b[0m\u001b[0mx\u001b[0m\u001b[0;34m.\u001b[0m\u001b[0mconjugate\u001b[0m\u001b[0;34m(\u001b[0m\u001b[0;34m)\u001b[0m\u001b[0;34m)\u001b[0m\u001b[0;34m\u001b[0m\u001b[0;34m\u001b[0m\u001b[0m\n",
      "\u001b[0;31mTypeError\u001b[0m: can't convert complex to float"
     ]
    }
   ],
   "source": [
    "x = 1.2\n",
    "print(complex(x))\n",
    "print(x.conjugate())"
   ]
  },
  {
   "cell_type": "markdown",
   "metadata": {
    "slideshow": {
     "slide_type": "slide"
    }
   },
   "source": [
    "## Mutability and Immutability\n",
    "\n",
    "- Few data types are mutable and few data types are immutable and Python handles them differently.\n",
    "- Mutable objects: easy to change, less time expensive, doesn't create a copy\n",
    "- Immutable objects: expensive to change, creates a copy.\n",
    "- As a rule of thumb:\n",
    "    + primitive like types like `int`, `float`, `complex`, `str`, `bool` are immutable\n",
    "    + container like types like `list`, `set`\n",
    "    + `dict` contains a mapping of `keys` to `values`. \n",
    "    + While `dict` values can be mutable or immutable from the above list, `dict` keys are immutable\n",
    "- Others: \n",
    "    + `tuple` is immutable equivalent of `list`\n",
    "    + `frozen set` is immutable equivalent of `set`\n",
    "\n",
    "- **Exception:** immutable objects can contain mutable objects and may allow for mutation\n",
    "\n",
    "- Most methods for mutable objects can be applied at the same address while modifying the original\n",
    "- Methods on immutable objects often create a new object\n",
    "- Even though data types can be mutable, we may have some methods or functions that may change location.\n",
    "- Common way to find a immutable object is trying to change value and observing its id. \n",
    "\n",
    "#### Check address change\n",
    "- `id` allows to find the address of the object.\n",
    "- `is` allows to check if variables are at the same address."
   ]
  },
  {
   "cell_type": "code",
   "execution_count": 93,
   "metadata": {
    "slideshow": {
     "slide_type": "subslide"
    }
   },
   "outputs": [
    {
     "name": "stdout",
     "output_type": "stream",
     "text": [
      "4582376688\n",
      "4582376688\n",
      "4582558512\n",
      "4582376688\n",
      "Error obtained\n"
     ]
    }
   ],
   "source": [
    "## Primitive objects are immutable\n",
    "x = 'abcd'\n",
    "y = 'abcd'\n",
    "print(id(x))\n",
    "print(id(y))\n",
    "\n",
    "x = x.capitalize()\n",
    "print(id(x))\n",
    "print(id(y))\n",
    "\n",
    "\n",
    "## tuples are immutable\n",
    "x = (1, 2, 3)\n",
    "\n",
    "try:\n",
    "    x[1] = 1\n",
    "except: \n",
    "    print(\"Error obtained\")"
   ]
  },
  {
   "cell_type": "code",
   "execution_count": 112,
   "metadata": {
    "slideshow": {
     "slide_type": "subslide"
    }
   },
   "outputs": [
    {
     "name": "stdout",
     "output_type": "stream",
     "text": [
      "([1, 2], 'str')\n",
      "4572223872\n",
      "4582660224\n",
      "([1, 2, 3], 'str')\n",
      "4572223872\n",
      "4582660224\n"
     ]
    }
   ],
   "source": [
    "## Exception on Mutations: list within tuples\n",
    "x = ([1,2], \"str\")\n",
    "print(x)\n",
    "print(id(x))\n",
    "print(id(x[0]))  ## list is immutable, stays in same location\n",
    "x[0].append(3)\n",
    "print(x)\n",
    "print(id(x))\n",
    "print(id(x[0]))"
   ]
  },
  {
   "cell_type": "code",
   "execution_count": 91,
   "metadata": {
    "slideshow": {
     "slide_type": "subslide"
    }
   },
   "outputs": [
    {
     "name": "stdout",
     "output_type": "stream",
     "text": [
      "[1, 2, [1, 2]]\n",
      "[1, 2, [1, 2]]\n",
      "[1, 2, [1, 2]]\n",
      "True\n",
      "False\n",
      "True\n",
      "True\n",
      "[2, 2, [1, 2], 4]\n",
      "[1, 2, [1, 2]]\n"
     ]
    }
   ],
   "source": [
    "## Mutable Data type  - Example: List\n",
    "x = [1, 2, [1,2]]\n",
    "y = x\n",
    "z = x[:]   ## [:] is method that changes location\n",
    "\n",
    "print(x)\n",
    "print(y)\n",
    "print(z)\n",
    "\n",
    "## is vs == \n",
    "print(x is y)\n",
    "print(x is z)\n",
    "print(x == z)\n",
    "\n",
    "## append is a method of class list\n",
    "a = x.append(4)\n",
    "x[0] = 2\n",
    "print(x is y)\n",
    "print(y)\n",
    "print(z)"
   ]
  },
  {
   "cell_type": "markdown",
   "metadata": {
    "slideshow": {
     "slide_type": "slide"
    }
   },
   "source": [
    "## Operators:\n",
    "\n",
    "- Arithmetic Operators: \n",
    "    + `add: +, subtract: -, multiply: *, division: /, modulus: %, exponentiation: **, floor division: //`\n",
    "    \n",
    "- Assignment Operators: \n",
    "    + `equals: =, add and equal: +=, subtract and equal: -=, multiply and equal: *=, divide and equal: /=, remainder and equal: %=, floor division and equal: //=, power and equal: **=`\n",
    "    + `Boolean and and equal &=, Boolean or and equal |=, Boolean xor and equal ^=`\n",
    "    \n",
    "- Comparison Operators: \n",
    "    + `value equality: ==, value not equal: !=, value greater than: >, value less than: <, value greater than equal: >=, value less than equal: <=`\n",
    "\n",
    "- Logical Operators: \n",
    "    + `and, or, ^, not`\n",
    "\n",
    "- Identity Operators: \n",
    "    + `is, is not` (checks for object being same)\n",
    "    \n",
    "- Membership Operators for being part of list or tuple: \n",
    "    + `in, not in`"
   ]
  },
  {
   "cell_type": "markdown",
   "metadata": {
    "slideshow": {
     "slide_type": "slide"
    }
   },
   "source": [
    "## Data Casting to types\n",
    "\n",
    "- Some type of data can be cast to a different type as long as it is reasonable.\n",
    "- Casting can be done using `type name` as a `function`\n",
    "- For example, an `integer` can be cast into a `float` or a `complex` number. A `float` can become `int` by removing decimals (taking floor). However, a `complex` number cannot be cast into `int`\n",
    "- A `list`, `tuple` can always be cast to each other\n",
    "- A `list` can be cast into a `set` even if there are repetitions but not if they contain non-primitive elements.\n",
    "- A `set` is already a similar to the keys of a dictionary but remember set is unordered and unindexed.\n",
    "- Use `zip` function to map values to keys thus setting up a dictionary"
   ]
  },
  {
   "cell_type": "code",
   "execution_count": 134,
   "metadata": {
    "slideshow": {
     "slide_type": "fragment"
    }
   },
   "outputs": [
    {
     "name": "stdout",
     "output_type": "stream",
     "text": [
      "1.0\n",
      "(1+0j)\n",
      "1\n"
     ]
    }
   ],
   "source": [
    "## Integer to Float\n",
    "x = 1\n",
    "print(float(x))\n",
    "print(complex(x))\n",
    "\n",
    "## Boolean to Integer\n",
    "x = True\n",
    "print(int(x))\n",
    "\n",
    "## List to Integer\n",
    "x = [1, 2, 3]\n",
    "a, b, c = x"
   ]
  },
  {
   "cell_type": "code",
   "execution_count": 135,
   "metadata": {
    "slideshow": {
     "slide_type": "subslide"
    }
   },
   "outputs": [
    {
     "name": "stdout",
     "output_type": "stream",
     "text": [
      "{1, 2, 'a', (1+2j)}\n"
     ]
    },
    {
     "data": {
      "text/plain": [
       "{1: 1, 2: 2, 'a': (1+2j), (1+2j): 'a'}"
      ]
     },
     "execution_count": 135,
     "metadata": {},
     "output_type": "execute_result"
    }
   ],
   "source": [
    "# list to a set\n",
    "x = [1, 2, 1+2j, \"a\"]\n",
    "y = set(x)\n",
    "print(y)\n",
    "\n",
    "# set and list to a dictionary use y as set of keys and x as values\n",
    "dict(zip(y, x))"
   ]
  },
  {
   "cell_type": "markdown",
   "metadata": {},
   "source": [
    "## Conditionals\n",
    "\n",
    "- "
   ]
  },
  {
   "cell_type": "markdown",
   "metadata": {},
   "source": [
    "## Loops"
   ]
  },
  {
   "cell_type": "markdown",
   "metadata": {},
   "source": [
    "## Functions, Scope"
   ]
  },
  {
   "cell_type": "markdown",
   "metadata": {
    "slideshow": {
     "slide_type": "slide"
    }
   },
   "source": [
    "## Modules in Python\n",
    "\n",
    "- Install\n",
    "- Import\n",
    "- Use functions"
   ]
  },
  {
   "cell_type": "markdown",
   "metadata": {
    "slideshow": {
     "slide_type": "slide"
    }
   },
   "source": [
    "## `numpy`\n",
    "\n",
    "- Numpy is known for arrays, random number generators\n",
    "- "
   ]
  },
  {
   "cell_type": "markdown",
   "metadata": {
    "slideshow": {
     "slide_type": "slide"
    }
   },
   "source": [
    "## `pandas`\n",
    "\n",
    "- Pandas are known for data frames with row names and column names similar to R `dplyr`\n"
   ]
  },
  {
   "cell_type": "markdown",
   "metadata": {
    "slideshow": {
     "slide_type": "slide"
    }
   },
   "source": [
    "## `scipy`\n",
    "\n",
    "- stats package in scipy has all statistical functions\n",
    "- "
   ]
  },
  {
   "cell_type": "markdown",
   "metadata": {
    "slideshow": {
     "slide_type": "slide"
    }
   },
   "source": [
    "## `matplotlib`"
   ]
  },
  {
   "cell_type": "markdown",
   "metadata": {},
   "source": [
    "## Miscellaneous \n",
    "\n",
    "- scikit \n",
    "- "
   ]
  },
  {
   "cell_type": "markdown",
   "metadata": {
    "slideshow": {
     "slide_type": "slide"
    }
   },
   "source": [
    "## Quiz"
   ]
  },
  {
   "cell_type": "markdown",
   "metadata": {},
   "source": [
    "## Quiz Soln."
   ]
  },
  {
   "cell_type": "markdown",
   "metadata": {},
   "source": [
    "## Quiz Soln. Contd.\n",
    "\n"
   ]
  },
  {
   "cell_type": "code",
   "execution_count": null,
   "metadata": {},
   "outputs": [],
   "source": []
  },
  {
   "cell_type": "markdown",
   "metadata": {
    "slideshow": {
     "slide_type": "slide"
    }
   },
   "source": [
    "## Important References\n",
    "\n",
    "- [Practical Data Science by Prof.Eubanks](https://www.practicaldatascience.org/html/index.html)\n",
    "- Anaconda and respective documentations\n",
    "- [W3Schools](https://www.w3schools.com/python/default.asp)\n",
    "\n"
   ]
  },
  {
   "cell_type": "markdown",
   "metadata": {
    "slideshow": {
     "slide_type": "slide"
    }
   },
   "source": [
    "## Acknowledgements:\n",
    "\n",
    "- I thank the audience for their patience and enthusiasm.\n",
    "- I thank Professor Jun Yan whose class has taught a lot\n",
    "- Also need to acknowledge IMSI bootcamp and the humongous open source available on internet.\n",
    "- Wish you all the best of luck with working on Python.\n",
    "- I will be available at [surya.eada@uconn.edu](mailto:surya.eada@uconn.edu)\n",
    "\n",
    "## Questions?"
   ]
  }
 ],
 "metadata": {
  "celltoolbar": "Slideshow",
  "kernelspec": {
   "display_name": "Python 3",
   "language": "python",
   "name": "python3"
  },
  "language_info": {
   "codemirror_mode": {
    "name": "ipython",
    "version": 3
   },
   "file_extension": ".py",
   "mimetype": "text/x-python",
   "name": "python",
   "nbconvert_exporter": "python",
   "pygments_lexer": "ipython3",
   "version": "3.8.3"
  }
 },
 "nbformat": 4,
 "nbformat_minor": 5
}
