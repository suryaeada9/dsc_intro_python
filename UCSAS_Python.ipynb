{
 "cells": [
  {
   "cell_type": "markdown",
   "id": "ce2f7d15",
   "metadata": {
    "slideshow": {
     "slide_type": "slide"
    }
   },
   "source": [
    "# Introduction to Python\n",
    "\n",
    "## [UCSAS 2021](https://statds.org/events/ucsas2021/)  Conference\n",
    "\n",
    "## Surya Teja Eada\n",
    "\n",
    "## October 09, 2021"
   ]
  },
  {
   "cell_type": "markdown",
   "id": "f80c7746",
   "metadata": {
    "slideshow": {
     "slide_type": "notes"
    }
   },
   "source": [
    "## Welcome\n",
    "\n",
    "- Welcome to today's workshop for Introduction to Python as part of [UCSAS 2021](https://statds.org/events/ucsas2021/) Conference.\n",
    "- This workshop aims at giving a quick tour to Python\n",
    "- The workshop may slightly lean towards statistics, data visualizations."
   ]
  },
  {
   "cell_type": "markdown",
   "id": "f9ba689d",
   "metadata": {
    "slideshow": {
     "slide_type": "slide"
    }
   },
   "source": [
    "## About Me\n",
    " \n",
    "<!-- <img src = 'figs/profile.JPG' alt=\"Anaconda Learning Library\" style=\"width:200px; height:200px; align:right;\"/> -->\n",
    "\n",
    "<div class=\"wrapingimage\">   \n",
    "<img src=    \n",
    "\"figs/profile.JPG\" height=\"100px\" width=\"100px\"  \n",
    "alt=\"image\">\n",
    "</div>  \n",
    "\n",
    "Third year Ph.D. student from Department of Statistics at UConn\n",
    "\n",
    "**Research Interests**: \n",
    "   - Stochastic Processes, Diffusion Processes.\n",
    "   - Financial Risk Modeling, Model Risk Assessment.\n",
    "   \n",
    "**Aspirations**:\n",
    "   - Collaborate in various domains to contribute with Statistics.\n",
    "   - Research and Academics\n",
    "   \n",
    "**Hobbies**:\n",
    "   - Sports, Painting, Travel, Learning new things"
   ]
  },
  {
   "cell_type": "markdown",
   "id": "6c454468",
   "metadata": {
    "slideshow": {
     "slide_type": "slide"
    }
   },
   "source": [
    "## Prerequisites\n",
    "\n",
    "- Prerequsites: A laptop with Anaconda installed. Anaconda can be downloaded for windows users [here](https://repo.anaconda.com/archive/Anaconda3-2020.07-Windows-x86_64.exe) and for Mac users [here](https://repo.anaconda.com/archive/Anaconda3-2020.07-MacOSX-x86_64.pkg).\n",
    "- The slides and Practice workbook for today's workshop can be found at: [Github UCSAS 2021](https://github.com/suryaeada9/ucsas_intro_python)"
   ]
  },
  {
   "cell_type": "markdown",
   "id": "908ba4b1",
   "metadata": {
    "slideshow": {
     "slide_type": "subslide"
    }
   },
   "source": [
    "### Anaconda\n",
    "- When you install Anaconda which is a package manager, it comes with `Python 3.8` (not the latest one), `pip 20`, `conda forge` and many other modules such as `Numpy`, `Scipy`, `Matplotlib` and many more.\n",
    "- As we progress along to further topics, let us learn how Anaconda can be helpful. Anaconda allows to keep track of modules required in data science along with appropriate version.\n",
    "- It also allows to create environments which are helpful to run multiple versions of software, modules and more.\n",
    "- pip and conda forge allows for these without a GUI using command line as well.\n",
    "- [More](https://conda.io/projects/conda/en/latest/user-guide/tasks/manage-environments.html#creating-an-environment-with-commands) documentation on Conda to create environments are available here.\n",
    "- Documentation regarding modules is also present as seen below:"
   ]
  },
  {
   "cell_type": "markdown",
   "id": "a21d3627",
   "metadata": {
    "slideshow": {
     "slide_type": "subslide"
    }
   },
   "source": [
    "<img src = 'figs/anaconda_library.png' alt=\"Anaconda Learning Library\" align=\"center\" style=\"width:600px; height:600px;\"/>"
   ]
  },
  {
   "cell_type": "markdown",
   "id": "08d6d857",
   "metadata": {
    "slideshow": {
     "slide_type": "slide"
    }
   },
   "source": [
    "## Motivation\n",
    "\n",
    "Let us look from around us what brings motivation to learning a new language.\n",
    "\n",
    "- Data is growing richer, bigger and broader and that means more utility for Data Science\n",
    "- Python provides us with a utilitarian, easy to read and write language\n",
    "- Most deep learning models are implemented here first and there is a \n",
    "  lot of demand for Python\n",
    "- It is an open source which implies it improves all the time\n",
    "- And also adaptation is key to survival with the job market"
   ]
  },
  {
   "cell_type": "markdown",
   "id": "19c0a7d3",
   "metadata": {
    "slideshow": {
     "slide_type": "subslide"
    }
   },
   "source": [
    "<!-- ![Data Per Day](figs/data_size_domo.png) -->\n",
    "<img src=\"figs/data_size_domo.png\" alt=\"Data Per Day\" style=\"width:600px; height:600px;\"/>"
   ]
  },
  {
   "cell_type": "markdown",
   "id": "3c907162",
   "metadata": {
    "slideshow": {
     "slide_type": "subslide"
    }
   },
   "source": [
    "<!-- ![\"Rankings of Computer Languages\"](figs/language_rankings.png) -->\n",
    "<img src=\"figs/language_rankings.png\" alt=\"Rankings of Computer Languages\" style=\"width:600px; height:600px;\"/>"
   ]
  },
  {
   "cell_type": "markdown",
   "id": "cffb7884",
   "metadata": {
    "slideshow": {
     "slide_type": "subslide"
    }
   },
   "source": [
    "<img src=\"figs/likely_python.png\" alt=\"Anaconda Most used language\" style=\"width:600px; height:600px;\"/>"
   ]
  },
  {
   "cell_type": "markdown",
   "id": "3b5afe76",
   "metadata": {
    "slideshow": {
     "slide_type": "slide"
    }
   },
   "source": [
    "## Python Intro\n",
    "\n",
    "- Python is one of the most promising programming language released in 1991 by `Guido Van Rossum`.\n",
    "- It is useful for creation of web applications, for software development, and now a lot in data science and constantly evolving.\n",
    "- It has an easy `syntax` similar to English, simple to read and write.\n",
    "- The most recent major version of Python is `Python 3` although Python 2 is still used majorly inside mac systems for development.\n",
    "- We can use Python via `command line`, IDE's like `PyCharm`, or applications such as `Jupyter Notebook`. \n",
    "- Python works on all the different platforms like `Windows, Mac, Linux`."
   ]
  },
  {
   "cell_type": "markdown",
   "id": "555c3c16",
   "metadata": {
    "slideshow": {
     "slide_type": "slide"
    }
   },
   "source": [
    "## Aims of the Workshop\n",
    "\n",
    "- **Python Syntax**\n",
    "    + Variable\n",
    "    + Indentation\n",
    "    + Comments\n",
    "    + Python Help\n",
    "- **Data Types**: Mutable and Immutable\n",
    "    + **Text Type**: `str`\n",
    "    + **Numeric Types**: `int, float, complex`\n",
    "    + **Sequence Types**: `list, tuple, range`\n",
    "    + **Mapping Type**:\t`dict`\n",
    "    + **Set Types**: `set, frozenset`\n",
    "    + **Boolean Type**:\t`bool`\n",
    "- **Conditions, Loops, Functions**\n",
    "- **Basic Modules** and respective Functions\n",
    "    + **`Numpy`**: Arrays, Universal Functions (Vectorized), Random numbers (Simulations)\n",
    "    + **`Pandas`**: DataFrames, Data Manipulation\n",
    "    + **`Scipy`**: Stats functions, optimize functions\n",
    "    + **`Matplotlib`**: Visualization\n",
    "- Exercises "
   ]
  },
  {
   "cell_type": "markdown",
   "id": "d4cdc469",
   "metadata": {
    "slideshow": {
     "slide_type": "slide"
    }
   },
   "source": [
    "## Let's get Started\n",
    "\n",
    "- We will be working on Jupyter Notebook to open a `Practice.ipynb` located in the [Github UCSAS 2021](https://github.com/suryaeada9/ucsas_intro_python).\n",
    "- Download the file `Practice.ipynb`\n",
    "- Open a Jupyter notebook from Anaconda GUI or from command line using command `jupyter notebook`\n",
    "- Open the `Practice.ipynb` file"
   ]
  },
  {
   "cell_type": "markdown",
   "id": "68c6b2ba",
   "metadata": {
    "slideshow": {
     "slide_type": "subslide"
    }
   },
   "source": [
    "## Jupyter Notebook\n",
    "\n",
    "### Some Useful comments for Jupyter\n",
    "- In order to work with a jupyter notebook that allows for `markdown` and `code chunks`, it is most importanat to note the difference between `command` mode and `edit` mode. \n",
    "    + `Command` mode is activated when a `blue border` is around the highlighted chunk and often can be obtained by pressing `ESC`\n",
    "    + This implies that you can add a new chunk using `A` or `B`, change the current chunk into a markdown chunk using `M`, or a code chunk using `Y`, activate help to find all shortcuts using `H` \n",
    "    + During the `Command` mode anything you type is considered a command for the notebook and will not be typed into the chunk. \n",
    "    + `Edit` mode is activated when a `green border` is highlighting the chunk you are at and can be attained by pressing `Enter`.\n",
    "    + This implies you are editing the current chunk by writing code or text depending on the type of chunk it is.\n",
    "    + A code chunk can be determined by a `In []` to the left of the chunk and a markdown chunk does not have the same. Moreover, a markdown chunk can be run using `CMD + ENTER` in which case it looks like a PDF."
   ]
  },
  {
   "cell_type": "markdown",
   "id": "7d5d3901",
   "metadata": {
    "slideshow": {
     "slide_type": "slide"
    }
   },
   "source": [
    "### Python Installation Check and our first Python run"
   ]
  },
  {
   "cell_type": "code",
   "execution_count": 1,
   "id": "c014c9ba",
   "metadata": {
    "slideshow": {
     "slide_type": "fragment"
    }
   },
   "outputs": [
    {
     "name": "stdout",
     "output_type": "stream",
     "text": [
      "Python 3.8.8\n",
      "Hello World!\n"
     ]
    }
   ],
   "source": [
    "## Check Python Installation & Version (`!`)\n",
    "!python --version\n",
    "\n",
    "## print Hello World\n",
    "print(\"Hello World!\")"
   ]
  },
  {
   "cell_type": "markdown",
   "id": "a59dd75f",
   "metadata": {
    "slideshow": {
     "slide_type": "subslide"
    }
   },
   "source": [
    "## Python \"f-string\" and \"input\" function\n",
    "\n",
    "- Python \"f-string\" allows concatenation of strings with variables"
   ]
  },
  {
   "cell_type": "code",
   "execution_count": 2,
   "id": "4a6be4b6",
   "metadata": {
    "slideshow": {
     "slide_type": "fragment"
    }
   },
   "outputs": [
    {
     "name": "stdout",
     "output_type": "stream",
     "text": [
      "Enter your name: Surya\n",
      "Enter your age: 29\n",
      "My name is Surya and I am 29 years old\n"
     ]
    }
   ],
   "source": [
    "## taking user input\n",
    "name = input(\"Enter your name: \")\n",
    "age  = input(\"Enter your age: \")\n",
    "print(f\"My name is {name} and I am {age} years old\")"
   ]
  },
  {
   "cell_type": "markdown",
   "id": "dac50304",
   "metadata": {
    "slideshow": {
     "slide_type": "subslide"
    }
   },
   "source": [
    "## Save this a source file to run multiple times\n",
    "\n",
    "%save is a magic function that allows us to save a source file once we like a function run, application run etc by running it in Jupyter and using the chunk number dynamically as an input."
   ]
  },
  {
   "cell_type": "code",
   "execution_count": 3,
   "id": "337d49ee",
   "metadata": {
    "slideshow": {
     "slide_type": "fragment"
    }
   },
   "outputs": [
    {
     "name": "stdout",
     "output_type": "stream",
     "text": [
      "The following commands were written to file `firstscript.py`:\n",
      "## taking user input\n",
      "name = input(\"Enter your name: \")\n",
      "age  = input(\"Enter your age: \")\n",
      "print(f\"My name is {name} and I am {age} years old\")\n"
     ]
    }
   ],
   "source": [
    "## magic command allows you to save second run chunk in `.py`\n",
    "## and -a allows to append to that rather than overwrite.\n",
    "\n",
    "## I will run this once and comment it as it is a dynamic function\n",
    "## and I don't want to create mutliple files.\n",
    "\n",
    "# %save firstscript.py -n 2 -a "
   ]
  },
  {
   "cell_type": "markdown",
   "id": "17bf1d4f",
   "metadata": {
    "slideshow": {
     "slide_type": "fragment"
    }
   },
   "source": [
    "- `!` allows for magic use of `bash` within jupyter notebook. \n",
    "- `%save` allows for magic save of a code chunk into a `.py` file that you can run using python in bash."
   ]
  },
  {
   "cell_type": "markdown",
   "id": "c0eb99f5",
   "metadata": {
    "slideshow": {
     "slide_type": "slide"
    }
   },
   "source": [
    "## Python Syntax\n",
    "\n",
    "- Python uses `new line` to inform `end` of command or function.\n",
    "- This is unlike other programs that use brackets or semi-colons.\n",
    "- Python requires `indentation` or white space to inform to inform `scope` of loops, functions, conditions and classes. \n",
    "\n",
    "### Comments\n",
    "- Comments are applied using `#` or apply shortcut `CMD + /`"
   ]
  },
  {
   "cell_type": "code",
   "execution_count": 4,
   "id": "227cb60c",
   "metadata": {
    "slideshow": {
     "slide_type": "fragment"
    }
   },
   "outputs": [
    {
     "name": "stdout",
     "output_type": "stream",
     "text": [
      "Hello UCSAS\n",
      "Workshop is going good??\n"
     ]
    }
   ],
   "source": [
    "# Demo: Print, End of command, Commenting\n",
    "print(\"Hello UCSAS\")\n",
    "print(\"Workshop is going good??\")"
   ]
  },
  {
   "cell_type": "markdown",
   "id": "97a58de7",
   "metadata": {
    "slideshow": {
     "slide_type": "subslide"
    }
   },
   "source": [
    "## Python Syntax\n",
    "\n",
    "### Variable Assignment\n",
    "- We use \"=\" for assignment of a value to a variable name.\n",
    "- We can assign integers, floats, strings, boolean or lists to a variable.\n",
    "- Also allows multiple assignment in a single line from multiple objects or single list.\n",
    "- \"is\" verifies if it is the same object in the same address while \"==\" verifies the equality pointwise."
   ]
  },
  {
   "cell_type": "code",
   "execution_count": 60,
   "id": "d0c1693b",
   "metadata": {
    "slideshow": {
     "slide_type": "subslide"
    }
   },
   "outputs": [
    {
     "name": "stdout",
     "output_type": "stream",
     "text": [
      "2\n",
      "UCSAS\n",
      "True\n",
      "[1, 2, 3, 4]\n",
      "2 , UCSAS , True\n"
     ]
    }
   ],
   "source": [
    "# Integer Assignment to a variable\n",
    "x = 2\n",
    "\n",
    "# String\n",
    "z = \"UCSAS\"\n",
    "\n",
    "## Boolean\n",
    "w = True\n",
    "\n",
    "## list\n",
    "a = [1, 2, 3, 4]\n",
    "\n",
    "## Mutliple Assignment at once\n",
    "a1,  a2, a3 = 2, \"UCSAS\", True\n",
    "\n",
    "print(x)\n",
    "print(z)\n",
    "print(w)\n",
    "print(a)\n",
    "\n",
    "print(a1, ',', a2, ',', a3)"
   ]
  },
  {
   "cell_type": "markdown",
   "id": "f92fbb21",
   "metadata": {
    "slideshow": {
     "slide_type": "subslide"
    }
   },
   "source": [
    "### Indentation\n",
    "- Indentation refers to the spaces at the beginning of a code line.\n",
    "    + You have to use some white space and it depends on programmer but should be `at least one space`.\n",
    "    + Use `same number` of space in same block of code."
   ]
  },
  {
   "cell_type": "code",
   "execution_count": 30,
   "id": "cb25ea4d",
   "metadata": {
    "slideshow": {
     "slide_type": "fragment"
    }
   },
   "outputs": [
    {
     "name": "stdout",
     "output_type": "stream",
     "text": [
      "Less than 2\n"
     ]
    }
   ],
   "source": [
    "# Indentation using one space to continue `if`\n",
    "# Also see the use of `:`\n",
    "x = 0\n",
    "\n",
    "if x>2: \n",
    " print(\"Greater than 2\")\n",
    "else: \n",
    " print(\"Less than 2\")"
   ]
  },
  {
   "cell_type": "markdown",
   "id": "65e92c04",
   "metadata": {
    "slideshow": {
     "slide_type": "slide"
    }
   },
   "source": [
    "## Mutability and Immutability\n",
    "\n",
    "- Few data types are mutable and few are immutable.\n",
    "- Few methods can be applied at the same address while modifying the original whereas few methods cannot be.\n",
    "- `is` allows to check if both are at the same address and not just the same value."
   ]
  },
  {
   "cell_type": "code",
   "execution_count": 61,
   "id": "e0d44505",
   "metadata": {
    "slideshow": {
     "slide_type": "fragment"
    }
   },
   "outputs": [
    {
     "name": "stdout",
     "output_type": "stream",
     "text": [
      "abcd\n",
      "Abcd\n",
      "A\n"
     ]
    }
   ],
   "source": [
    "## Immutable Data type - Example: String, tuple, pd.index\n",
    "x = 'abcd'\n",
    "y = x.capitalize()\n",
    "\n",
    "print(x)\n",
    "print(y)\n",
    "print(y[0])\n",
    "\n",
    "## Assignment such as `x[0] = b` gives error"
   ]
  },
  {
   "cell_type": "code",
   "execution_count": 63,
   "id": "b05069b1",
   "metadata": {
    "slideshow": {
     "slide_type": "subslide"
    }
   },
   "outputs": [
    {
     "name": "stdout",
     "output_type": "stream",
     "text": [
      "[1, 2, [1, 2]]\n",
      "[1, 2, [1, 2]]\n",
      "[1, 2, [1, 2]]\n",
      "True\n",
      "False\n",
      "True\n",
      "[2, 2, [1, 2], 4]\n",
      "[2, 2, [1, 2], 4]\n",
      "[1, 2, [1, 2]]\n"
     ]
    }
   ],
   "source": [
    "## Mutable Data type  - Example: List\n",
    "x = [1, 2, [1,2]]\n",
    "y = x\n",
    "z = x[:]\n",
    "\n",
    "print(x)\n",
    "print(y)\n",
    "print(z)\n",
    "\n",
    "## is vs. == \n",
    "print(x is y)\n",
    "print(x is z)\n",
    "print(x == z)\n",
    "\n",
    "## append is a method of class list\n",
    "a = x.append(4)\n",
    "x[0] = 2\n",
    "print(x)\n",
    "print(y)\n",
    "print(z)"
   ]
  },
  {
   "cell_type": "markdown",
   "id": "aefd5c52",
   "metadata": {
    "slideshow": {
     "slide_type": "slide"
    }
   },
   "source": [
    "### Help in Python\n",
    "\n",
    "- In python help can be required of three types.\n",
    "    + you don't know what function to use: google, tutorials can be helpful\n",
    "    + you know a function but don't know its usage: use `help`(function)\n",
    "    + you know module but forgot the name of the function: use `tab` after module name and a dot\n",
    "    + you want to use methods for your data type but don't know them: use `dir(type)`\n",
    "- `dir()` allows you to get all the methods of an class or a type.\n",
    "- If you wish to get only the meaningful ones that are predominantly used, the following \"`if` condition\" avoiding all those that start with `__` or `_` may be helpful.  "
   ]
  },
  {
   "cell_type": "code",
   "execution_count": 50,
   "id": "619410d3",
   "metadata": {
    "slideshow": {
     "slide_type": "subslide"
    }
   },
   "outputs": [
    {
     "name": "stdout",
     "output_type": "stream",
     "text": [
      "['append', 'clear', 'copy', 'count', 'extend', 'index', 'insert', 'pop', 'remove', 'reverse', 'sort']\n",
      "Help on built-in function sum in module builtins:\n",
      "\n",
      "sum(iterable, /, start=0)\n",
      "    Return the sum of a 'start' value (default: 0) plus an iterable of numbers\n",
      "    \n",
      "    When the iterable is empty, return the start value.\n",
      "    This function is intended specifically for use with numeric values and may\n",
      "    reject non-numeric types.\n",
      "\n"
     ]
    },
    {
     "data": {
      "text/plain": [
       "8"
      ]
     },
     "execution_count": 50,
     "metadata": {},
     "output_type": "execute_result"
    }
   ],
   "source": [
    "## Using dir to find the methods for list\n",
    "MyClass = list\n",
    "method_list = [method for method in dir(MyClass) if method.startswith('__') is False]\n",
    "print(method_list)\n",
    "\n",
    "## Help on function `sum`\n",
    "help(sum)\n",
    "\n",
    "x = [1, 2, 3]\n",
    "sum(x, 2)"
   ]
  },
  {
   "cell_type": "markdown",
   "id": "006fae95",
   "metadata": {
    "slideshow": {
     "slide_type": "slide"
    }
   },
   "source": [
    "## Data Types, Casting\n",
    "\n",
    "- **Data Types**: Mutable and Immutable\n",
    "    + **Text Type**: `str`\n",
    "    + **Numeric Types**: `int, float, complex`\n",
    "    + **Sequence Types**: `list, tuple, range`\n",
    "    + **Mapping Type**:\t`dict`\n",
    "    + **Set Types**: `set, frozenset`\n",
    "    + **Boolean Type**:\t`bool`\n",
    "    \n",
    "- Use `type()` to find the data type.\n",
    "\n",
    "### Try:\n",
    "- Do you know what happens if you find try `type(type(str))`"
   ]
  },
  {
   "cell_type": "code",
   "execution_count": null,
   "id": "a747c716",
   "metadata": {},
   "outputs": [],
   "source": [
    "## Mutable Types:\n"
   ]
  },
  {
   "cell_type": "markdown",
   "id": "0b63b82d",
   "metadata": {},
   "source": [
    "## Data Casting to types"
   ]
  },
  {
   "cell_type": "code",
   "execution_count": 2,
   "id": "7b0eb9a9",
   "metadata": {
    "slideshow": {
     "slide_type": "subslide"
    }
   },
   "outputs": [
    {
     "name": "stdout",
     "output_type": "stream",
     "text": [
      "1.0\n",
      "(1+0j)\n",
      "1\n",
      "1 , 2\n"
     ]
    }
   ],
   "source": [
    "## Integer to Float\n",
    "x = 1\n",
    "print(float(x))\n",
    "print(complex(x))\n",
    "\n",
    "## Boolean to Integer\n",
    "x = True\n",
    "print(int(x))\n",
    "\n",
    "## List to Integer\n",
    "x = [1, 2, 3]\n",
    "a, b, c = x\n",
    "print(a, ',', b)"
   ]
  },
  {
   "cell_type": "code",
   "execution_count": 54,
   "id": "8603615a",
   "metadata": {
    "slideshow": {
     "slide_type": "subslide"
    }
   },
   "outputs": [
    {
     "name": "stdout",
     "output_type": "stream",
     "text": [
      "Provide a vector:1,  2\n",
      "['1', ',', ' ', ' ', '2']\n"
     ]
    }
   ],
   "source": []
  },
  {
   "cell_type": "markdown",
   "id": "9fc8fc70",
   "metadata": {},
   "source": [
    "## Quiz"
   ]
  },
  {
   "cell_type": "markdown",
   "id": "bf39fdb3",
   "metadata": {},
   "source": [
    "## Quiz Soln."
   ]
  },
  {
   "cell_type": "markdown",
   "id": "440bb299",
   "metadata": {},
   "source": [
    "## Quiz Soln. Contd.\n",
    "\n"
   ]
  },
  {
   "cell_type": "code",
   "execution_count": null,
   "id": "6d25386a",
   "metadata": {},
   "outputs": [],
   "source": []
  },
  {
   "cell_type": "markdown",
   "id": "038d8db3",
   "metadata": {
    "slideshow": {
     "slide_type": "slide"
    }
   },
   "source": [
    "## Important References\n",
    "\n",
    "- [Practical Data Science by Prof.Eubanks](https://www.practicaldatascience.org/html/index.html)\n",
    "- Anaconda and respective documentations\n",
    "- [W3Schools](https://www.w3schools.com/python/default.asp)\n",
    "\n"
   ]
  },
  {
   "cell_type": "markdown",
   "id": "ef424bc4",
   "metadata": {
    "slideshow": {
     "slide_type": "slide"
    }
   },
   "source": [
    "## Acknowledgements:\n",
    "\n",
    "- I thank the audience for their patience and enthusiasm.\n",
    "- I thank Professor Jun Yan whose class has taught a lot\n",
    "- Also need to acknowledge IMSI bootcamp and the humongous open source available on internet.\n",
    "- Wish you all the best of luck with working on Python.\n",
    "- I will be available at [surya.eada@uconn.edu](mailto:surya.eada@uconn.edu)\n",
    "\n",
    "## Questions?"
   ]
  }
 ],
 "metadata": {
  "celltoolbar": "Slideshow",
  "kernelspec": {
   "display_name": "Python 3 (ipykernel)",
   "language": "python",
   "name": "python3"
  },
  "language_info": {
   "codemirror_mode": {
    "name": "ipython",
    "version": 3
   },
   "file_extension": ".py",
   "mimetype": "text/x-python",
   "name": "python",
   "nbconvert_exporter": "python",
   "pygments_lexer": "ipython3",
   "version": "3.9.7"
  }
 },
 "nbformat": 4,
 "nbformat_minor": 5
}
