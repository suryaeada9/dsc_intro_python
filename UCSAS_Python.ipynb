{
 "cells": [
  {
   "cell_type": "markdown",
   "id": "ce2f7d15",
   "metadata": {
    "slideshow": {
     "slide_type": "slide"
    }
   },
   "source": [
    "# Introduction to Python\n",
    "\n",
    "## [UCSAS 2021](https://statds.org/events/ucsas2021/)  Conference\n",
    "\n",
    "## Surya Teja Eada\n",
    "\n",
    "## October 09, 2021"
   ]
  },
  {
   "cell_type": "markdown",
   "id": "f80c7746",
   "metadata": {
    "slideshow": {
     "slide_type": "notes"
    }
   },
   "source": [
    "## Welcome\n",
    "\n",
    "- Welcome to today's workshop for Introduction to Python as part of [UCSAS 2021](https://statds.org/events/ucsas2021/) Conference.\n",
    "- This workshop aims at giving a quick tour to Python\n",
    "- The workshop may slightly lean towards statistics, data visualizations."
   ]
  },
  {
   "cell_type": "markdown",
   "id": "f9ba689d",
   "metadata": {
    "slideshow": {
     "slide_type": "slide"
    }
   },
   "source": [
    "## About Me\n",
    " \n",
    "<!-- <img src = 'figs/profile.JPG' alt=\"Anaconda Learning Library\" style=\"width:200px; height:200px; align:right;\"/> -->\n",
    "\n",
    "<div class=\"wrapingimage\">   \n",
    "<img src=    \n",
    "\"figs/profile.JPG\" height=\"100px\" width=\"100px\"  \n",
    "alt=\"image\">\n",
    "</div>  \n",
    "\n",
    "Third year Ph.D. student from Department of Statistics at UConn\n",
    "\n",
    "**Research Interests**: \n",
    "   - Stochastic Processes, Diffusion Processes.\n",
    "   - Financial Risk Modeling, Model Risk Assessment.\n",
    "   \n",
    "**Aspirations**:\n",
    "   - Collaborate in various domains to contribute with Statistics.\n",
    "   - Research and Academics\n",
    "   \n",
    "**Hobbies**:\n",
    "   - Sports, Painting, Travel, Learning new things"
   ]
  },
  {
   "cell_type": "markdown",
   "id": "6c454468",
   "metadata": {
    "slideshow": {
     "slide_type": "slide"
    }
   },
   "source": [
    "## Prerequisites\n",
    "\n",
    "- Prerequsites: A laptop with Anaconda installed. Anaconda can be downloaded for windows users [here](https://repo.anaconda.com/archive/Anaconda3-2020.07-Windows-x86_64.exe) and for Mac users [here](https://repo.anaconda.com/archive/Anaconda3-2020.07-MacOSX-x86_64.pkg).\n",
    "- The slides and Practice workbook for today's workshop can be found at: [Github UCSAS 2021](https://github.com/suryaeada9/ucsas_intro_python)"
   ]
  },
  {
   "attachments": {},
   "cell_type": "markdown",
   "id": "908ba4b1",
   "metadata": {
    "slideshow": {
     "slide_type": "subslide"
    }
   },
   "source": [
    "### Anaconda\n",
    "- When you install Anaconda which is a package manager, it comes with `Python 3.8` (not the latest one), `pip 20`, `conda forge` and many other modules such as `Numpy`, `Scipy`, `Matplotlib` and many more.\n",
    "- As we progress along to further topics, let us learn how Anaconda can be helpful. Anaconda allows to keep track of modules required in data science along with appropriate version.\n",
    "- It also allows to create environments which are helpful to run multiple versions of software, modules and more.\n",
    "- pip and conda forge allows for these without a GUI using command line as well.\n",
    "- [More](https://conda.io/projects/conda/en/latest/user-guide/tasks/manage-environments.html#creating-an-environment-with-commands) documentation on Conda to create environments are available here.\n",
    "- Documentation regarding modules is also present as seen below:"
   ]
  },
  {
   "cell_type": "markdown",
   "id": "a21d3627",
   "metadata": {
    "slideshow": {
     "slide_type": "subslide"
    }
   },
   "source": [
    "<img src = 'figs/anaconda_library.png' alt=\"Anaconda Learning Library\" align=\"center\" style=\"width:600px; height:600px;\"/>"
   ]
  },
  {
   "cell_type": "markdown",
   "id": "08d6d857",
   "metadata": {
    "slideshow": {
     "slide_type": "slide"
    }
   },
   "source": [
    "## Motivation\n",
    "\n",
    "Let us look from around us what brings motivation to learning a new language.\n",
    "\n",
    "- Data is growing richer, bigger and broader and that means more utility for Data Science\n",
    "- Python provides us with a utilitarian, easy to read and write language\n",
    "- Most deep learning models are implemented here first and there is a \n",
    "  lot of demand for Python\n",
    "- It is an open source which implies it improves all the time\n",
    "- And also adaptation is key to survival with the job market"
   ]
  },
  {
   "cell_type": "markdown",
   "id": "19c0a7d3",
   "metadata": {
    "slideshow": {
     "slide_type": "subslide"
    }
   },
   "source": [
    "<!-- ![Data Per Day](figs/data_size_domo.png) -->\n",
    "<img src=\"figs/data_size_domo.png\" alt=\"Data Per Day\" style=\"width:600px; height:600px;\"/>"
   ]
  },
  {
   "cell_type": "markdown",
   "id": "3c907162",
   "metadata": {
    "slideshow": {
     "slide_type": "subslide"
    }
   },
   "source": [
    "<!-- ![\"Rankings of Computer Languages\"](figs/language_rankings.png) -->\n",
    "<img src=\"figs/language_rankings.png\" alt=\"Rankings of Computer Languages\" style=\"width:600px; height:600px;\"/>"
   ]
  },
  {
   "cell_type": "markdown",
   "id": "cffb7884",
   "metadata": {
    "slideshow": {
     "slide_type": "subslide"
    }
   },
   "source": [
    "<img src=\"figs/likely_python.png\" alt=\"Anaconda Most used language\" style=\"width:600px; height:600px;\"/>"
   ]
  },
  {
   "cell_type": "markdown",
   "id": "3b5afe76",
   "metadata": {
    "slideshow": {
     "slide_type": "slide"
    }
   },
   "source": [
    "## Python Intro\n",
    "\n",
    "- Python is one of the most promising programming language released in 1991 by `Guido Van Rossum`.\n",
    "- It is useful for creation of web applications, for software development, and now a lot in data science and constantly evolving.\n",
    "- It has an easy `syntax` similar to English, simple to read and write.\n",
    "- The most recent major version of Python is `Python 3` although Python 2 is still used majorly inside mac systems for development.\n",
    "- We can use Python via `command line`, IDE's like `PyCharm`, or applications such as `Jupyter Notebook`. \n",
    "- Python works on all the different platforms like `Windows, Mac, Linux`."
   ]
  },
  {
   "cell_type": "markdown",
   "id": "555c3c16",
   "metadata": {
    "slideshow": {
     "slide_type": "slide"
    }
   },
   "source": [
    "## Aims of the Workshop\n",
    "\n",
    "- Python Install\n",
    "- Python Syntax\n",
    "    + Variable\n",
    "    + Indentation\n",
    "    + Comments\n",
    "- Data Types: Mutable and Immutable\n",
    "    + **Text Type**: `str`\n",
    "    + **Numeric Types**: `int, float, complex`\n",
    "    + **Sequence Types**: `list, tuple, range`\n",
    "    + **Mapping Type**:\t`dict`\n",
    "    + **Set Types**: `set, frozenset`\n",
    "    + **Boolean Type**:\t`bool`\n",
    "- Basic Modules and respective Functions\n",
    "    + **`Numpy`**: Arrays, Universal Functions (Vectorized), Random numbers (Simulations)\n",
    "    + **`Pandas`**: DataFrames, Data Manipulation\n",
    "    + **`Scipy`**: Stats functions, optimize functions\n",
    "    + **`Matplotlib`**: Visualization\n",
    "- Miscellaneous"
   ]
  },
  {
   "cell_type": "markdown",
   "id": "d4cdc469",
   "metadata": {
    "slideshow": {
     "slide_type": "slide"
    }
   },
   "source": [
    "## Let's get Started\n",
    "\n",
    "- We will be working on Jupyter Notebook to open a `Practice.ipynb` located in the [Github UCSAS 2021](https://github.com/suryaeada9/ucsas_intro_python).\n",
    "- Download the file `Practice.ipynb`\n",
    "- Open a Jupyter notebook from Anaconda GUI or from command line using command `jupyter notebook`\n",
    "- Open the `Practice.ipynb` file"
   ]
  },
  {
   "cell_type": "markdown",
   "id": "68c6b2ba",
   "metadata": {
    "slideshow": {
     "slide_type": "slide"
    }
   },
   "source": [
    "## Jupyter Notebook\n",
    "\n",
    "- In order to work with a jupyter notebook that allows for `markdown` and `code chunks`, it is most importanat to note the difference between `command` mode and `edit` mode. \n",
    "    + `Command` mode is activated when a `blue border` is around the highlighted chunk and often can be obtained by pressing `ESC`\n",
    "    + This implies that you can add a new chunk using `A` or `B`, change the current chunk into a markdown chunk using `M`, or a code chunk using `Y`, activate help to find all shortcuts using `H` \n",
    "    + During the `Command` mode anything you type is considered a command for the notebook and will not be typed into the chunk. \n",
    "    + `Edit` mode is activated when a `green border` is highlighting the chunk you are at and can be attained by pressing `Enter`.\n",
    "    + This implies you are editing the current chunk by writing code or text depending on the type of chunk it is.\n",
    "    + A code chunk can be determined by a `In []` to the left of the chunk and a markdown chunk does not have the same. Moreover, a markdown chunk can be run using `CMD + ENTER` in which case it looks like a PDF."
   ]
  },
  {
   "cell_type": "markdown",
   "id": "c0eb99f5",
   "metadata": {
    "slideshow": {
     "slide_type": "slide"
    }
   },
   "source": [
    "## Python Syntax & Indentation\n",
    "\n"
   ]
  },
  {
   "cell_type": "code",
   "execution_count": null,
   "id": "c014c9ba",
   "metadata": {},
   "outputs": [],
   "source": []
  },
  {
   "cell_type": "code",
   "execution_count": null,
   "id": "227cb60c",
   "metadata": {},
   "outputs": [],
   "source": []
  },
  {
   "cell_type": "code",
   "execution_count": null,
   "id": "d0c1693b",
   "metadata": {},
   "outputs": [],
   "source": []
  },
  {
   "cell_type": "code",
   "execution_count": null,
   "id": "cb25ea4d",
   "metadata": {},
   "outputs": [],
   "source": []
  },
  {
   "cell_type": "code",
   "execution_count": null,
   "id": "619410d3",
   "metadata": {},
   "outputs": [],
   "source": []
  },
  {
   "cell_type": "code",
   "execution_count": null,
   "id": "d027823c",
   "metadata": {},
   "outputs": [],
   "source": []
  },
  {
   "cell_type": "code",
   "execution_count": null,
   "id": "8603615a",
   "metadata": {},
   "outputs": [],
   "source": []
  },
  {
   "cell_type": "code",
   "execution_count": null,
   "id": "f12bbd76",
   "metadata": {},
   "outputs": [],
   "source": []
  },
  {
   "cell_type": "code",
   "execution_count": null,
   "id": "d963d2af",
   "metadata": {},
   "outputs": [],
   "source": []
  },
  {
   "cell_type": "code",
   "execution_count": null,
   "id": "33b81814",
   "metadata": {},
   "outputs": [],
   "source": []
  }
 ],
 "metadata": {
  "celltoolbar": "Slideshow",
  "kernelspec": {
   "display_name": "Python 3 (ipykernel)",
   "language": "python",
   "name": "python3"
  },
  "language_info": {
   "codemirror_mode": {
    "name": "ipython",
    "version": 3
   },
   "file_extension": ".py",
   "mimetype": "text/x-python",
   "name": "python",
   "nbconvert_exporter": "python",
   "pygments_lexer": "ipython3",
   "version": "3.9.7"
  }
 },
 "nbformat": 4,
 "nbformat_minor": 5
}
