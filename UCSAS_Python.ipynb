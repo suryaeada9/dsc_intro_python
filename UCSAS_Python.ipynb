{
 "cells": [
  {
   "cell_type": "markdown",
   "id": "bac90a16",
   "metadata": {
    "slideshow": {
     "slide_type": "slide"
    }
   },
   "source": [
    "# Introduction to Python\n",
    "\n",
    "## [UCSAS 2021](https://statds.org/events/ucsas2021/)  Conference\n",
    "\n",
    "## Surya Teja Eada\n",
    "\n",
    "## October 09, 2021"
   ]
  },
  {
   "cell_type": "markdown",
   "id": "fb609eed",
   "metadata": {
    "slideshow": {
     "slide_type": "notes"
    }
   },
   "source": [
    "## Welcome\n",
    "\n",
    "- Welcome to today's workshop for Introduction to Python as part of [UCSAS 2021](https://statds.org/events/ucsas2021/) Conference.\n",
    "- This workshop aims at giving a quick tour to Python\n",
    "- The workshop may slightly lean towards statistics, data visualizations."
   ]
  },
  {
   "cell_type": "markdown",
   "id": "6ec212d9",
   "metadata": {
    "slideshow": {
     "slide_type": "slide"
    }
   },
   "source": [
    "## About Me\n",
    " \n",
    "<!-- <img src = 'figs/profile.JPG' alt=\"Anaconda Learning Library\" style=\"width:200px; height:200px; align:right;\"/> -->\n",
    "\n",
    "<div class=\"wrapingimage\">   \n",
    "<img src=    \n",
    "\"figs/profile.JPG\" height=\"100px\" width=\"100px\"  \n",
    "alt=\"image\">\n",
    "</div>  \n",
    "\n",
    "Third year Ph.D. student from Department of Statistics at UConn\n",
    "\n",
    "**Research Interests**: \n",
    "   - Stochastic Processes, Diffusion Processes.\n",
    "   - Financial Risk Modeling, Model Risk Assessment.\n",
    "   \n",
    "**Aspirations**:\n",
    "   - Collaborate in various domains to contribute with Statistics.\n",
    "   - Research and Academics\n",
    "   \n",
    "**Hobbies**:\n",
    "   - Sports, Painting, Travel, Learning new things"
   ]
  },
  {
   "cell_type": "markdown",
   "id": "402068fd",
   "metadata": {
    "slideshow": {
     "slide_type": "slide"
    }
   },
   "source": [
    "## Prerequisites\n",
    "\n",
    "- Prerequsites: A laptop with Anaconda installed. Anaconda can be downloaded for windows users [here](https://repo.anaconda.com/archive/Anaconda3-2020.07-Windows-x86_64.exe) and for Mac users [here](https://repo.anaconda.com/archive/Anaconda3-2020.07-MacOSX-x86_64.pkg).\n",
    "- The slides and Practice workbook for today's workshop can be found at: [Github UCSAS 2021](https://github.com/suryaeada9/ucsas_intro_python)"
   ]
  },
  {
   "cell_type": "markdown",
   "id": "fc4cb74e",
   "metadata": {
    "slideshow": {
     "slide_type": "subslide"
    }
   },
   "source": [
    "### Anaconda\n",
    "- When you install Anaconda GUI (package manager), it comes with `Python 3.8` (not the latest one), `pip 20`, `conda forge` and most of the important modules such as `Numpy`, `Scipy`, `Matplotlib`, etc.\n",
    "- Anaconda allows to keep track of useful modules along with right version required for your project via environments\n",
    "- pip and conda forge allows for these without a GUI using command line.\n",
    "- [More](https://conda.io/projects/conda/en/latest/user-guide/tasks/manage-environments.html#creating-an-environment-with-commands) documentation on how conda allows to create environments are available here.\n",
    "- Anaconda also provides Jupyter notebook, a very useful tool in data science similar to Rmarkdown allowing for markdown and code runs.\n",
    "- Furthermore a library full of documentation regarding important modules is present as you can see below:"
   ]
  },
  {
   "cell_type": "markdown",
   "id": "29d61e60",
   "metadata": {
    "slideshow": {
     "slide_type": "subslide"
    }
   },
   "source": [
    "<img src = 'figs/anaconda_library.png' alt=\"Anaconda Learning Library\" align=\"center\" style=\"width:600px; height:600px;\"/>"
   ]
  },
  {
   "cell_type": "markdown",
   "id": "c04a348f",
   "metadata": {
    "slideshow": {
     "slide_type": "slide"
    }
   },
   "source": [
    "## Motivation\n",
    "\n",
    "Let us look from around us what brings motivation to learning a new language.\n",
    "\n",
    "- Data is growing richer, bigger and broader and that means more application of Data Science\n",
    "- Python provides us with a utilitarian, easy to read and write language\n",
    "- Most deep learning models are implemented here first and there is a \n",
    "  lot of demand for Python\n",
    "- It is an open source which implies it improves all the time\n",
    "- And also adaptation is key to survival with the job market"
   ]
  },
  {
   "cell_type": "markdown",
   "id": "f7a6e190",
   "metadata": {
    "slideshow": {
     "slide_type": "subslide"
    }
   },
   "source": [
    "<!-- ![Data Per Day](figs/data_size_domo.png) -->\n",
    "<img src=\"figs/data_size_domo.png\" alt=\"Data Per Day\" style=\"width:600px; height:600px;\"/>"
   ]
  },
  {
   "cell_type": "markdown",
   "id": "8f845357",
   "metadata": {
    "slideshow": {
     "slide_type": "subslide"
    }
   },
   "source": [
    "<!-- ![\"Rankings of Computer Languages\"](figs/language_rankings.png) -->\n",
    "<img src=\"figs/language_rankings.png\" alt=\"Rankings of Computer Languages\" style=\"width:600px; height:600px;\"/>"
   ]
  },
  {
   "cell_type": "markdown",
   "id": "5fc7a0ad",
   "metadata": {
    "slideshow": {
     "slide_type": "subslide"
    }
   },
   "source": [
    "<img src=\"figs/likely_python.png\" alt=\"Anaconda Most used language\" style=\"width:600px; height:600px;\"/>"
   ]
  },
  {
   "cell_type": "markdown",
   "id": "342cae07",
   "metadata": {
    "slideshow": {
     "slide_type": "slide"
    }
   },
   "source": [
    "## Python Intro\n",
    "\n",
    "- Python is one of the most promising programming language released in 1991 by `Guido Van Rossum`.\n",
    "- It is useful for creation of web applications, for software development, and now a lot in data science and constantly evolving.\n",
    "- It has an easy `syntax` similar to English, simple to read and write.\n",
    "- The most recent major version of Python is `Python 3` although Python 2 is still used majorly inside mac systems for development.\n",
    "- We can use Python via `command line`, IDE's like `PyCharm`, or applications such as `Jupyter Notebook`. \n",
    "- Python works on all the different platforms like `Windows, Mac, Linux`."
   ]
  },
  {
   "cell_type": "markdown",
   "id": "2ea4bed8",
   "metadata": {
    "slideshow": {
     "slide_type": "slide"
    }
   },
   "source": [
    "## Workshop Aim\n",
    "\n",
    "- **Python Syntax**: `Variable`, `Indentation`, `Comments`, `Help`\n",
    "\n",
    "- **Data Types and Methods**: Mutable and Immutable\n",
    "    + **Text Type**: `str`\n",
    "    + **Numeric Types**: `int, float, complex`\n",
    "    + **Sequence Types**: `list, tuple, range`\n",
    "    + **Mapping Type**:\t`dict`\n",
    "    + **Set Types**: `set, frozenset`\n",
    "    + **Boolean Type**:\t`bool`\n",
    "    + **Numpy module**: `array`\n",
    "    + **Pandas module**: `DataFrame`\n",
    "\n",
    "- **Conditions, Loops, Functions**\n",
    "\n",
    "- **Basic Modules** and respective Functions\n",
    "    + **`numpy`**: Arrays, Universal Functions (Vectorized), Random numbers (Simulations)\n",
    "    + **`pandas`**: DataFrames, Data Manipulation\n",
    "    + **`scipy`**: Stats functions, optimize functions\n",
    "    + **`seaborn`**: Visualization\n",
    "    + Miscellaneous\n",
    "\n",
    "- **Exercises**"
   ]
  },
  {
   "cell_type": "markdown",
   "id": "68ef7e35",
   "metadata": {
    "slideshow": {
     "slide_type": "slide"
    }
   },
   "source": [
    "## Let's get Started\n",
    "\n",
    "- We will be working on Jupyter Notebook to open a `Practice.ipynb` located in the [Github UCSAS 2021](https://github.com/suryaeada9/ucsas_intro_python).\n",
    "- Download the file `Practice.ipynb`\n",
    "- Open a Jupyter notebook from Anaconda GUI or from command line using command `jupyter notebook`\n",
    "- Open the `Practice.ipynb` file"
   ]
  },
  {
   "cell_type": "markdown",
   "id": "56cd63b5",
   "metadata": {
    "slideshow": {
     "slide_type": "subslide"
    }
   },
   "source": [
    "## Jupyter Notebook\n",
    "\n",
    "### Some Useful comments for Jupyter\n",
    "- In order to work with a jupyter notebook that allows for `markdown` and `code chunks`, it is most importanat to note the difference between `command` mode and `edit` mode. \n",
    "    + `Command` mode is activated when a `blue border` is around the highlighted chunk and often can be obtained by pressing `ESC`\n",
    "    + This implies that you can add a new chunk using `A` or `B`, change the current chunk into a markdown chunk using `M`, or a code chunk using `Y`, activate help to find all shortcuts using `H` \n",
    "    + During the `Command` mode anything you type is considered a command for the notebook and will not be typed into the chunk. \n",
    "    + `Edit` mode is activated when a `green border` is highlighting the chunk you are at and can be attained by pressing `Enter`.\n",
    "    + This implies you are editing the current chunk by writing code or text depending on the type of chunk it is.\n",
    "    + A code chunk can be determined by a `In []` to the left of the chunk and a markdown chunk does not have the same. Moreover, a markdown chunk can be run using `CMD + ENTER` in which case it looks like a PDF."
   ]
  },
  {
   "cell_type": "markdown",
   "id": "4a8a7b85",
   "metadata": {
    "slideshow": {
     "slide_type": "slide"
    }
   },
   "source": [
    "### Python Installation Check and our first Python run"
   ]
  },
  {
   "cell_type": "code",
   "execution_count": 1,
   "id": "60977889",
   "metadata": {
    "slideshow": {
     "slide_type": "fragment"
    }
   },
   "outputs": [
    {
     "name": "stdout",
     "output_type": "stream",
     "text": [
      "Python 3.8.8\n",
      "Hello World!\n"
     ]
    }
   ],
   "source": [
    "## Check Python Installation & Version (`!`)\n",
    "!python --version\n",
    "\n",
    "## print Hello World\n",
    "print(\"Hello World!\")"
   ]
  },
  {
   "cell_type": "markdown",
   "id": "f5d77d38",
   "metadata": {
    "slideshow": {
     "slide_type": "subslide"
    }
   },
   "source": [
    "## Python \"f-string\" and \"input\" function\n",
    "\n",
    "- Python \"f-string\" allows concatenation of strings with variables"
   ]
  },
  {
   "cell_type": "code",
   "execution_count": 2,
   "id": "1ada02b1",
   "metadata": {
    "slideshow": {
     "slide_type": "fragment"
    }
   },
   "outputs": [
    {
     "name": "stdout",
     "output_type": "stream",
     "text": [
      "Enter your name: Surya\n",
      "Enter your age: 29\n",
      "My name is Surya and I am 29 years old\n"
     ]
    }
   ],
   "source": [
    "## taking user input\n",
    "name = input(\"Enter your name: \")\n",
    "age  = input(\"Enter your age: \")\n",
    "print(f\"My name is {name} and I am {age} years old\")"
   ]
  },
  {
   "cell_type": "markdown",
   "id": "a24a1c9f",
   "metadata": {
    "slideshow": {
     "slide_type": "subslide"
    }
   },
   "source": [
    "## Save this a source file to run multiple times\n",
    "\n",
    "%save is a magic function that allows us to save a source file once we like a function run, application run etc by running it in Jupyter and using the chunk number dynamically as an input."
   ]
  },
  {
   "cell_type": "code",
   "execution_count": 3,
   "id": "286cad04",
   "metadata": {
    "slideshow": {
     "slide_type": "fragment"
    }
   },
   "outputs": [
    {
     "name": "stdout",
     "output_type": "stream",
     "text": [
      "The following commands were written to file `firstscript.py`:\n",
      "## taking user input\n",
      "name = input(\"Enter your name: \")\n",
      "age  = input(\"Enter your age: \")\n",
      "print(f\"My name is {name} and I am {age} years old\")\n"
     ]
    }
   ],
   "source": [
    "## magic command allows you to save second run chunk in `.py`\n",
    "## and -a allows to append to that rather than overwrite.\n",
    "\n",
    "## I will run this once and comment it as it is a dynamic function\n",
    "## and I don't want to create mutliple files.\n",
    "\n",
    "# %save firstscript.py -n 2 -a "
   ]
  },
  {
   "cell_type": "markdown",
   "id": "c123d9cb",
   "metadata": {
    "slideshow": {
     "slide_type": "fragment"
    }
   },
   "source": [
    "- `!` allows for magic use of `bash` within jupyter notebook. \n",
    "- `%save` allows for magic save of a code chunk into a `.py` file that you can run using python in bash."
   ]
  },
  {
   "cell_type": "markdown",
   "id": "124b7f77",
   "metadata": {
    "slideshow": {
     "slide_type": "slide"
    }
   },
   "source": [
    "## Python Syntax\n",
    "\n",
    "- Python uses `new line` to inform `end` of command or function.\n",
    "- This is unlike other programs that use brackets or semi-colons.\n",
    "\n",
    "### Comments\n",
    "- Comments are applied using `#` or apply shortcut `CMD + /`"
   ]
  },
  {
   "cell_type": "code",
   "execution_count": 4,
   "id": "e89386ae",
   "metadata": {
    "slideshow": {
     "slide_type": "fragment"
    }
   },
   "outputs": [
    {
     "name": "stdout",
     "output_type": "stream",
     "text": [
      "Hello UCSAS\n",
      "Workshop is going good??\n"
     ]
    }
   ],
   "source": [
    "# Demo: Print, End of command, Commenting\n",
    "print(\"Hello UCSAS\")\n",
    "print(\"Workshop is going good??\")"
   ]
  },
  {
   "cell_type": "markdown",
   "id": "af9afaa3",
   "metadata": {
    "slideshow": {
     "slide_type": "subslide"
    }
   },
   "source": [
    "## Python Syntax\n",
    "\n",
    "### Variable Assignment\n",
    "- Variable is a pointer associated to an object (int, list) in Python and thus stores address of where the object is saved. \n",
    "- We use \"=\" for assignment of a variable to such a name. \n",
    "- We can assign integers, floats, strings, boolean, lists, functions or any class object to a variable.\n",
    "- Python also allows multiple assignment in a single line from multiple objects or single list.\n",
    "- \"is\" verifies if it is the same object in the same address while \"==\" verifies the equality pointwise."
   ]
  },
  {
   "cell_type": "code",
   "execution_count": 8,
   "id": "fd707624",
   "metadata": {
    "slideshow": {
     "slide_type": "subslide"
    }
   },
   "outputs": [
    {
     "name": "stdout",
     "output_type": "stream",
     "text": [
      "2\n",
      "UCSAS\n",
      "True\n",
      "[1, 2, 3, 4]\n",
      "12\n"
     ]
    }
   ],
   "source": [
    "# Integer Assignment to a variable\n",
    "x = 2\n",
    "\n",
    "# String\n",
    "z = \"UCSAS\"\n",
    "\n",
    "## Boolean\n",
    "w = True\n",
    "\n",
    "## list\n",
    "a = [1, 2, 3, 4]\n",
    "\n",
    "## function\n",
    "def function_that_adds_10(x):\n",
    "    return(x + 10)\n",
    "\n",
    "f = function_that_adds_10\n",
    "\n",
    "print(x)\n",
    "print(z)\n",
    "print(w)\n",
    "print(a)\n",
    "print(f(2))"
   ]
  },
  {
   "cell_type": "code",
   "execution_count": 9,
   "id": "58764be8",
   "metadata": {
    "slideshow": {
     "slide_type": "fragment"
    }
   },
   "outputs": [
    {
     "name": "stdout",
     "output_type": "stream",
     "text": [
      "2 , UCSAS , True\n"
     ]
    }
   ],
   "source": [
    "## Mutliple Assignment at once\n",
    "a1,  a2, a3 = 2, \"UCSAS\", True\n",
    "\n",
    "print(a1, ',', a2, ',', a3)"
   ]
  },
  {
   "cell_type": "markdown",
   "id": "e143ccca",
   "metadata": {
    "slideshow": {
     "slide_type": "subslide"
    }
   },
   "source": [
    "### Indentation\n",
    "- Indentation refers to the spaces at the beginning of a code line used to inform scope of conditional, loop, or a function.\n",
    "    + You have to use some white space and it depends on programmer but should be `at least one space`\n",
    "    + Use `same number` of space in same block of code\n",
    "    + It informs that the next line does not mean end of the earlier code"
   ]
  },
  {
   "cell_type": "code",
   "execution_count": 30,
   "id": "d05fe56a",
   "metadata": {
    "slideshow": {
     "slide_type": "fragment"
    }
   },
   "outputs": [
    {
     "name": "stdout",
     "output_type": "stream",
     "text": [
      "Less than 2\n"
     ]
    }
   ],
   "source": [
    "# Indentation using one space to continue `if`\n",
    "# Also see the use of `:`\n",
    "x = 0\n",
    "\n",
    "if x>2: \n",
    " print(\"Greater than 2\")\n",
    "else: \n",
    " print(\"Less than 2\")"
   ]
  },
  {
   "cell_type": "markdown",
   "id": "cbed0dea",
   "metadata": {
    "slideshow": {
     "slide_type": "slide"
    }
   },
   "source": [
    "### Help in Python\n",
    "\n",
    "- In python help can be required of three types.\n",
    "    + you don't know what function to use: google, tutorials can be helpful\n",
    "    + you know a function but don't know its usage: use `help`(function)\n",
    "    + you know module but forgot the name of the function: use `tab` after module name and a dot\n",
    "    + you want to use methods for your data type but don't know them: use `dir(type)`\n",
    "- `dir()` allows you to get all the built-in methods applicable to a certain object.\n",
    "- One can apply these by using a `.` at the end of the list name, similar to `x.sort()` or `x.append(4)`\n",
    "- If you wish to get only the meaningful ones that are predominantly used, the following \"`if` condition\" avoiding all those that start with `__` or `_` may be helpful.  "
   ]
  },
  {
   "cell_type": "code",
   "execution_count": 36,
   "id": "04c86de3",
   "metadata": {
    "slideshow": {
     "slide_type": "subslide"
    }
   },
   "outputs": [
    {
     "name": "stdout",
     "output_type": "stream",
     "text": [
      "['append', 'clear', 'copy', 'count', 'extend', 'index', 'insert', 'pop', 'remove', 'reverse', 'sort']\n",
      "Help on built-in function sum in module builtins:\n",
      "\n",
      "sum(iterable, /, start=0)\n",
      "    Return the sum of a 'start' value (default: 0) plus an iterable of numbers\n",
      "    \n",
      "    When the iterable is empty, return the start value.\n",
      "    This function is intended specifically for use with numeric values and may\n",
      "    reject non-numeric types.\n",
      "\n"
     ]
    },
    {
     "data": {
      "text/plain": [
       "array([3, 4, 5])"
      ]
     },
     "execution_count": 36,
     "metadata": {},
     "output_type": "execute_result"
    }
   ],
   "source": [
    "## Using dir to find the methods for list\n",
    "MyClass = list\n",
    "method_list = [method for method in dir(MyClass) if method.startswith('__') is False]\n",
    "print(method_list)\n",
    "\n",
    "## Help on function `sum`\n",
    "help(sum)\n",
    "\n",
    "x = [1, 2, 3]\n",
    "sum(x, 2)"
   ]
  },
  {
   "cell_type": "markdown",
   "id": "f9bcfc5b",
   "metadata": {
    "slideshow": {
     "slide_type": "subslide"
    }
   },
   "source": [
    "## Quiz on Help with variables: \n",
    "\n",
    "Use the above manner of using `dir` to find the list of methods applicable\n",
    "to class `list` and apply those that are most appropriate for the following task:\n",
    "\n",
    "**Task:** \n",
    "Use `x = [3, 10, 7]` and using the methods for a `list` and:\n",
    "   - concatenate 4 to the list\n",
    "   - sort in descending order\n",
    "   - remove the item at index 2 from original variable and return removed value to a new variable\n",
    "   - clear the entire list\n",
    "   - Also find using help, the difference between `pop` and `remove`.\n",
    "    \n",
    " Use print statements at the end of every task to view x at the end of every method application.\n",
    "\n",
    "**Note:** If you are unsure of a particular method, use `help(type.method)` or `help(object.method)`"
   ]
  },
  {
   "cell_type": "code",
   "execution_count": 125,
   "id": "599b067f",
   "metadata": {
    "slideshow": {
     "slide_type": "subslide"
    }
   },
   "outputs": [
    {
     "name": "stdout",
     "output_type": "stream",
     "text": [
      "['append', 'clear', 'copy', 'count', 'extend', 'index', 'insert', 'pop', 'remove', 'reverse', 'sort']\n"
     ]
    }
   ],
   "source": [
    "## Initiate a list\n",
    "x = [3, 10, 7]\n",
    "print([method for method in dir(x) if method.startswith('__') is False])"
   ]
  },
  {
   "cell_type": "code",
   "execution_count": null,
   "id": "df193d60",
   "metadata": {
    "slideshow": {
     "slide_type": "fragment"
    }
   },
   "outputs": [],
   "source": [
    "## Append 4\n",
    "x.append(4)\n",
    "print(x)"
   ]
  },
  {
   "cell_type": "code",
   "execution_count": null,
   "id": "aaef8e4a",
   "metadata": {
    "slideshow": {
     "slide_type": "fragment"
    }
   },
   "outputs": [],
   "source": [
    "# Sort in ascending\n",
    "x.sort()\n",
    "print(x)"
   ]
  },
  {
   "cell_type": "code",
   "execution_count": null,
   "id": "49d274f4",
   "metadata": {
    "slideshow": {
     "slide_type": "fragment"
    }
   },
   "outputs": [],
   "source": [
    "# Reverse order\n",
    "x.reverse()\n",
    "print(x)"
   ]
  },
  {
   "cell_type": "code",
   "execution_count": null,
   "id": "5597bf0a",
   "metadata": {
    "slideshow": {
     "slide_type": "fragment"
    }
   },
   "outputs": [],
   "source": [
    "# Pop and remove application\n",
    "y = x.pop(2)  ## uses index, defaults last\n",
    "print(x)\n",
    "print(y)\n",
    "x.remove(3)  ## uses value, removes its first occurence, no default\n",
    "print(x)"
   ]
  },
  {
   "cell_type": "code",
   "execution_count": null,
   "id": "c358e8e7",
   "metadata": {
    "slideshow": {
     "slide_type": "fragment"
    }
   },
   "outputs": [],
   "source": [
    "## Clear\n",
    "x.clear()\n",
    "print(x)\n",
    "\n",
    "print(help(x.pop))\n",
    "print(help(x.remove))"
   ]
  },
  {
   "cell_type": "markdown",
   "id": "69d3d560",
   "metadata": {
    "slideshow": {
     "slide_type": "slide"
    }
   },
   "source": [
    "## Data Types, Methods, Casting.\n",
    "\n",
    "\n",
    "Every object containing data has a data type that can be found using `type()`. You can access `type()` on the variable pointing to the object.\n",
    "\n",
    "- **Data Types**:\n",
    "    + **Text**: `str`\n",
    "    + **Numeric**: `int, float, complex`\n",
    "    + **Sequence**: `list, tuple, range`\n",
    "    + **Mapping**:\t`dict`\n",
    "    + **Set**: `set, frozenset`\n",
    "    + **Boolean**:\t`bool`\n",
    "\n",
    "- The above is not an exhaustive set of all possibilities\n",
    "\n",
    "### Guess/Try:\n",
    "Do you know what happens if you try `type(type(str))`"
   ]
  },
  {
   "cell_type": "markdown",
   "id": "6afa4806",
   "metadata": {
    "slideshow": {
     "slide_type": "slide"
    }
   },
   "source": [
    "### Illustration: Data types\n",
    "\n",
    "The following is an illustration of obtaining objects of different data types and some of the methods for each of them.\n",
    "\n",
    "#### String\n",
    "- String is an array of bytes representing unicode characters and thus elemets can be accessed.\n",
    "- Multiline strings need three quotes and keep line breaks in tact while printing.\n",
    "- Operators like `+` concatenates strings, `in` searches for membership\n",
    "- Commonly used methods:\n",
    "    + `upper()`: upper case\n",
    "    + `lower()`: lower case\n",
    "    + `strip()`: removes white space from beginning and end\n",
    "    + ``replace(`a`, `b`)``: replaces a with b in string\n",
    "    + ``split(`,`)``: splits based on given seperator\n",
    "    + `format(a)`: adds variable a at the `{}` left in the string\n",
    "    + `capitalize()`: converts first character to upper case.\n",
    "    + `casefold()`: converts string into lower case\n",
    "    + `count('a')`: counts number of times a specified value occurs in a string.\n",
    "    + `endswith()`, `startswith()`, `find()`, `index()`, `isalphabet()`, `isdigit()` and many more."
   ]
  },
  {
   "cell_type": "code",
   "execution_count": 126,
   "id": "28d5699d",
   "metadata": {
    "slideshow": {
     "slide_type": "fragment"
    }
   },
   "outputs": [
    {
     "name": "stdout",
     "output_type": "stream",
     "text": [
      "`abcd` is of type: <class 'str'>\n"
     ]
    }
   ],
   "source": [
    "## Primitive type\n",
    "\n",
    "# String\n",
    "x = 'abcd'\n",
    "print(f\"`{x}` is of type: {type(x)}\")"
   ]
  },
  {
   "cell_type": "code",
   "execution_count": 127,
   "id": "3a8c1ea4",
   "metadata": {
    "slideshow": {
     "slide_type": "fragment"
    }
   },
   "outputs": [
    {
     "name": "stdout",
     "output_type": "stream",
     "text": [
      "abcd\n",
      "let me show what line breaks do\n"
     ]
    }
   ],
   "source": [
    "# multiline string\n",
    "x = '''abcd\n",
    "let me show what line breaks do'''\n",
    "print(x)"
   ]
  },
  {
   "cell_type": "code",
   "execution_count": 128,
   "id": "cc5f5148",
   "metadata": {
    "slideshow": {
     "slide_type": "fragment"
    }
   },
   "outputs": [
    {
     "name": "stdout",
     "output_type": "stream",
     "text": [
      "`I` is the first character in string x\n",
      "` am at UC` are the next nine characters including spaces\n",
      "`I am` are the first four characters in x excluding index 4\n",
      "` at UCSAS` are the characters from location 4 including till end\n",
      "`S` is the last character\n"
     ]
    }
   ],
   "source": [
    "# string access and slicing\n",
    "x = 'I am at UCSAS'\n",
    "print(f\"`{x[0]}` is the first character in string x\")\n",
    "print(f\"`{x[1:10]}` are the next nine characters including spaces\")  # from index 1 to index 9\n",
    "print(f\"`{x[:4]}` are the first four characters in x excluding index 4\")\n",
    "print(f\"`{x[4:]}` are the characters from location 4 including till end\")\n",
    "print(f\"`{x[-1]}` is the last character\")"
   ]
  },
  {
   "cell_type": "code",
   "execution_count": 129,
   "id": "4dbdf4f3",
   "metadata": {
    "slideshow": {
     "slide_type": "fragment"
    }
   },
   "outputs": [
    {
     "name": "stdout",
     "output_type": "stream",
     "text": [
      "True\n"
     ]
    },
    {
     "data": {
      "text/plain": [
       "'I am Surya and I teach Statistics'"
      ]
     },
     "execution_count": 129,
     "metadata": {},
     "output_type": "execute_result"
    }
   ],
   "source": [
    "# check string for some\n",
    "print(\"at\" in x)\n",
    "\n",
    "# format\n",
    "x = \"I am {} and I teach {}\"\n",
    "x.format('Surya', 'Statistics')"
   ]
  },
  {
   "cell_type": "markdown",
   "id": "0a96585b",
   "metadata": {
    "slideshow": {
     "slide_type": "slide"
    }
   },
   "source": [
    "### Illustration: Data types - `int, float, complex, bool`\n",
    "\n",
    "- Integer, float, complex determine different kind of numbers in python.\n",
    "- Boolean is a logical (True or False).\n",
    "- Numbers can be cast from one type to other on Python (if **\"reasonable\"** conversion exist) using the syntax: `int(x), bool(x), float(x), complex(x)`"
   ]
  },
  {
   "cell_type": "code",
   "execution_count": 58,
   "id": "fd7a2419",
   "metadata": {
    "slideshow": {
     "slide_type": "fragment"
    }
   },
   "outputs": [
    {
     "name": "stdout",
     "output_type": "stream",
     "text": [
      "12 is of type: <class 'int'>\n"
     ]
    }
   ],
   "source": [
    "# integer \n",
    "y = 12\n",
    "print(f\"{y} is of type: {type(y)}\")"
   ]
  },
  {
   "cell_type": "code",
   "execution_count": 59,
   "id": "5c12253d",
   "metadata": {
    "slideshow": {
     "slide_type": "fragment"
    }
   },
   "outputs": [
    {
     "name": "stdout",
     "output_type": "stream",
     "text": [
      "12.0 if of type: <class 'float'>\n"
     ]
    }
   ],
   "source": [
    "# float\n",
    "z = 12.0\n",
    "print(f\"{z} if of type: {type(z)}\")"
   ]
  },
  {
   "cell_type": "code",
   "execution_count": 60,
   "id": "2eb98ef0",
   "metadata": {
    "slideshow": {
     "slide_type": "fragment"
    }
   },
   "outputs": [
    {
     "name": "stdout",
     "output_type": "stream",
     "text": [
      "(2+3j) is of type: <class 'complex'>\n"
     ]
    }
   ],
   "source": [
    "# complex\n",
    "a = 2 + 3j  # can use J as well, or casting like complex(2, 3)\n",
    "print(f\"{a} is of type: {type(a)}\")"
   ]
  },
  {
   "cell_type": "code",
   "execution_count": 62,
   "id": "a6c18d65",
   "metadata": {
    "slideshow": {
     "slide_type": "fragment"
    }
   },
   "outputs": [
    {
     "name": "stdout",
     "output_type": "stream",
     "text": [
      "True is object of type: <class 'bool'>\n"
     ]
    }
   ],
   "source": [
    "# Boolean\n",
    "x = True\n",
    "print(f\"{x} is object of type: {type(x)}\")"
   ]
  },
  {
   "cell_type": "markdown",
   "id": "bf46aedd",
   "metadata": {
    "slideshow": {
     "slide_type": "slide"
    }
   },
   "source": [
    "### Data types containing multiple objects:\n",
    "\n",
    "- In base python, we already have `list`, `tuple`, `range` for sequence like objects that allow repetitions while we have `set`, `dictionary` for objects that contain multiple items but without allowance for replacements.\n",
    "\n",
    "-  `list`: \n",
    "    + Created using square brackets `x = [1, 2, [1,2], 1, \"pen\", True]`\n",
    "    + Can contain any type of elements even a function.\n",
    "    + Indexed and Ordered as a sequence.\n",
    "    + Since indexed, it can contain repetitions.\n",
    "    + index starts with element 0, and continues unlike R.\n",
    "    + Elements can be accessed using index as `x[0], x[-1], x[0:3], x[:2], x[2:]`s\n",
    "    + Elements can be modified using `x[1:3] = [\"UCSAS\", [1,2,3]]`\n",
    "    + Mutable: Changes easily at the same address.\n",
    "    + Uses * to unpack elements (similar to tuples) pointwise except the * element can be assigned a list. For example `(a, *b, c) = ('a', [1, 2], 'c', 'd')`. In this case variable `b` points to `[[1, 2], 'c']`\n",
    "    + Methods: `len(x): length`, `x.insert(2, \"Python\")`, `x.append(\"Python\")`, `x.remove([1, 2])`, `x.pop(1)`,`del x[1]`, `x.clear()`, `x.sort()`, `y = x.copy()`, `x.extend(y)`"
   ]
  },
  {
   "cell_type": "code",
   "execution_count": 114,
   "id": "d3b8fc26",
   "metadata": {
    "slideshow": {
     "slide_type": "subslide"
    }
   },
   "outputs": [
    {
     "name": "stdout",
     "output_type": "stream",
     "text": [
      "[1, 2, 'abc', [1, 2]] is of type: <class 'list'>\n",
      "element in x at index 0 is 1\n",
      "sliced elements between locations 0 and 3(until location 2) is [1, 2, 'abc']\n"
     ]
    }
   ],
   "source": [
    "# list\n",
    "x = [1, 2, \"abc\", [1, 2]]\n",
    "print(f\"{x} is of type: {type(x)}\")\n",
    "\n",
    "# Indexing\n",
    "print(f\"element in x at index 0 is {x[0]}\")\n",
    "\n",
    "# Slicing\n",
    "print(f\"sliced elements between locations 0 and 3(until location 2) is {x[0:3]}\")\n",
    "\n",
    "\n",
    "## list of functions\n",
    "def a(x):\n",
    "    return(x[0])\n",
    "\n",
    "def b(x):\n",
    "    return(x[1])\n",
    "\n",
    "z = [a, b]\n",
    "[x('123') for x in z]\n",
    "\n",
    "## Use of asterik *\n",
    "[a, *b, c] = ['a', [1, 2], 'c', 'd']\n",
    "b"
   ]
  },
  {
   "cell_type": "markdown",
   "id": "daa18833",
   "metadata": {
    "slideshow": {
     "slide_type": "slide"
    }
   },
   "source": [
    "### Data types containing multiple objects:\n",
    "\n",
    "- `tuple`:\n",
    "    + Created using ().\n",
    "    + An equivalent of list but immutable and thus cannot change easily.\n",
    "    + Accessing is similar to lists.\n",
    "    + Adding an item may require converting to list, making modification and casting it into a tuple or adding a tuple consisting of on item that need to be added.\n",
    "    + Removing also needs converting to list and removing an element.\n",
    "    + Methods:  `len(x)`, `x.count('a')`, `x.index()`"
   ]
  },
  {
   "cell_type": "code",
   "execution_count": 131,
   "id": "296012f5",
   "metadata": {
    "slideshow": {
     "slide_type": "subslide"
    }
   },
   "outputs": [
    {
     "name": "stdout",
     "output_type": "stream",
     "text": [
      "(1, 2, [1, 2], 1, 'abc') is element of type: <class 'tuple'>\n",
      "(2, [1, 2])\n",
      "(1, 2, [1, 2], 1, 'abc', 2)\n",
      "(1, 2, [1, 2], 1, 'abc', 1, 2, [1, 2], 1, 'abc')\n",
      "2\n",
      "5189424288\n",
      "5190996608\n"
     ]
    }
   ],
   "source": [
    "# tuple `immutable equivalent of list`\n",
    "y = (1, 2, [1, 2], 1, \"abc\")\n",
    "print(f\"{y} is element of type: {type(y)}\")\n",
    "\n",
    "## Slicing or accessing\n",
    "print(y[1:3])\n",
    "\n",
    "## Try\n",
    "print(y + (2,))   ## creating a one element tuple needs a , at the end.\n",
    "print(y*2)\n",
    "\n",
    "## Methods\n",
    "print(y.count(1))\n",
    "\n",
    "## Check address of tuple after modification.\n",
    "print(id(y))\n",
    "print(id(y + (2,)))"
   ]
  },
  {
   "cell_type": "markdown",
   "id": "4512fe4b",
   "metadata": {
    "slideshow": {
     "slide_type": "slide"
    }
   },
   "source": [
    "### Data types containing multiple objects:\n",
    "\n",
    "- `range`:\n",
    "    + This is an object similar to list except containing sequential range of integers. \n",
    "    + Can be created while using `range(start, stop, step)` where step is an integer."
   ]
  },
  {
   "cell_type": "code",
   "execution_count": 34,
   "id": "693ce975",
   "metadata": {
    "slideshow": {
     "slide_type": "subslide"
    }
   },
   "outputs": [
    {
     "name": "stdout",
     "output_type": "stream",
     "text": [
      "range(1, 5) is element of type: <class 'range'>\n"
     ]
    }
   ],
   "source": [
    "# range(## start, stop, step). Also step can only be integers. This gives i, i+1, ... j-1\n",
    "z = range(1, 5, 1)   \n",
    "print(f\"{z} is element of type: {type(z)}\")"
   ]
  },
  {
   "cell_type": "markdown",
   "id": "4f40e530",
   "metadata": {
    "slideshow": {
     "slide_type": "slide"
    }
   },
   "source": [
    "### Data types containing multiple objects:\n",
    "- `set`:\n",
    "    + Created using {}\n",
    "    + Objects within the set can only be simple types or a tuple.\n",
    "    + Set is not ordered or indexed\n",
    "    + does not allow replacements\n",
    "    + accessing is only possible while looping through values in a set\n",
    "    + is mutable and can change easily but not with the usual ways of accessing\n",
    "    + `.add()` allows to add an element, `.update()` allows to append set to a set or a list removing duplicates\n",
    "    + `.remove()` or `.discard()`, `.pop()`\n",
    "    + `.union()`, `.update()`, `.intersection()`, `.symmetric_difference()`, `.intersection_update()` , `.symmetric_difference_update()`"
   ]
  },
  {
   "cell_type": "code",
   "execution_count": 114,
   "id": "c56de843",
   "metadata": {
    "slideshow": {
     "slide_type": "subslide"
    }
   },
   "outputs": [
    {
     "name": "stdout",
     "output_type": "stream",
     "text": [
      "{'ab', 'ed', 'cd'}\n",
      "['ab', 'ed', 'cd']\n",
      "{'cd', 'an', 'bc'}\n",
      "{(2, 3), (1, 2)}\n"
     ]
    }
   ],
   "source": [
    "# set\n",
    "x = {\"ab\", \"cd\", \"ed\", \"ab\"}\n",
    "print(x)\n",
    "\n",
    "## accessing\n",
    "print([i for i in x])\n",
    "\n",
    "# .symmetric_differencee\n",
    "y = {'ab', 'an', 'bc', 'ed'}\n",
    "z = x.symmetric_difference(y)\n",
    "print(z)\n",
    "\n",
    "x = {(1,2), (2,3)}\n",
    "print(x)"
   ]
  },
  {
   "cell_type": "markdown",
   "id": "6de23bbe",
   "metadata": {
    "slideshow": {
     "slide_type": "slide"
    }
   },
   "source": [
    "### Data types containing multiple objects:\n",
    "- `dict`:\n",
    "    + dictionary is a mapping of keys to certain values.\n",
    "    + dict is created explicitly using `{key1:value1, key2:value2}`\n",
    "    + dict keys are immutable, does not allow replacements and should be like a `frozenset`\n",
    "    + duplicate values of key will replace the original\n",
    "    + dictionary values can be mutable or immutable object and can also allow for replacement.\n",
    "    + dict can also be created using zip function on a set and list as: `dict(zip(set1, list1))`\n",
    "    + although not sequenced, it can be thought of having an index as the key and thus accessing a value can be done using the key.\n",
    "    + accessing elements in dict can happen using `dict[key]` to obtain value.\n",
    "    + accessing all keys can be done using `dict.keys()` and accessing all values can be done using `dict.values()`."
   ]
  },
  {
   "cell_type": "code",
   "execution_count": 120,
   "id": "2720c11b",
   "metadata": {
    "slideshow": {
     "slide_type": "subslide"
    }
   },
   "outputs": [
    {
     "name": "stdout",
     "output_type": "stream",
     "text": [
      "{'a': [2, 4], 'b': (2, 3), 'c': [1, 5]}\n"
     ]
    }
   ],
   "source": [
    "# dict\n",
    "x = {'a': [1, 2, 3], 'b': (2, 3), 'a': [2, 4]}\n",
    "\n",
    "# dict can update\n",
    "x.update({'c':[1, 5]})\n",
    "print(x)"
   ]
  },
  {
   "cell_type": "markdown",
   "id": "a7bdceb5",
   "metadata": {
    "slideshow": {
     "slide_type": "slide"
    }
   },
   "source": [
    "## Mutability and Immutability\n",
    "\n",
    "- Few data types are mutable and few data types are immutable and Python handles them differently.\n",
    "- Mutable objects: easy to change, less time expensive, doesn't create a copy\n",
    "- Immutable objects: expensive to change, creates a copy.\n",
    "- As a rule of thumb:\n",
    "    + primitive like types like `int`, `float`, `complex`, `str`, `bool` are immutable\n",
    "    + container like types like `list`, `set`\n",
    "    + `dict` contains a mapping of `keys` to `values`. \n",
    "    + While `dict` values can be mutable or immutable from the above list, `dict` keys are immutable\n",
    "- Others: \n",
    "    + `tuple` is immutable equivalent of `list`\n",
    "    + `frozen set` is immutable equivalent of `set`\n",
    "\n",
    "- **Exception:** immutable objects can contain mutable objects and may allow for mutation\n",
    "\n",
    "- Most methods for mutable objects can be applied at the same address while modifying the original\n",
    "- Methods on immutable objects often create a new object\n",
    "- Even though data types can be mutable, we may have some methods or functions that may change location.\n",
    "- Common way to find a immutable object is trying to change value and observing its id. \n",
    "\n",
    "#### Check address change\n",
    "- `id` allows to find the address of the object.\n",
    "- `is` allows to check if variables are at the same address."
   ]
  },
  {
   "cell_type": "code",
   "execution_count": 93,
   "id": "ea106964",
   "metadata": {
    "slideshow": {
     "slide_type": "subslide"
    }
   },
   "outputs": [
    {
     "name": "stdout",
     "output_type": "stream",
     "text": [
      "4582376688\n",
      "4582376688\n",
      "4582558512\n",
      "4582376688\n",
      "Error obtained\n"
     ]
    }
   ],
   "source": [
    "## Primitive objects are immutable\n",
    "x = 'abcd'\n",
    "y = 'abcd'\n",
    "print(id(x))\n",
    "print(id(y))\n",
    "\n",
    "x = x.capitalize()\n",
    "print(id(x))\n",
    "print(id(y))\n",
    "\n",
    "\n",
    "## tuples are immutable\n",
    "x = (1, 2, 3)\n",
    "\n",
    "try:\n",
    "    x[1] = 1\n",
    "except: \n",
    "    print(\"Error obtained\")"
   ]
  },
  {
   "cell_type": "code",
   "execution_count": 91,
   "id": "c3c9eadb",
   "metadata": {
    "slideshow": {
     "slide_type": "subslide"
    }
   },
   "outputs": [
    {
     "name": "stdout",
     "output_type": "stream",
     "text": [
      "[1, 2, [1, 2]]\n",
      "[1, 2, [1, 2]]\n",
      "[1, 2, [1, 2]]\n",
      "True\n",
      "False\n",
      "True\n",
      "True\n",
      "[2, 2, [1, 2], 4]\n",
      "[1, 2, [1, 2]]\n"
     ]
    }
   ],
   "source": [
    "## Mutable Data type  - Example: List\n",
    "x = [1, 2, [1,2]]\n",
    "y = x\n",
    "z = x[:]   ## [:] is method that changes location\n",
    "\n",
    "print(x)\n",
    "print(y)\n",
    "print(z)\n",
    "\n",
    "## is vs == \n",
    "print(x is y)\n",
    "print(x is z)\n",
    "print(x == z)\n",
    "\n",
    "## append is a method of class list\n",
    "a = x.append(4)\n",
    "x[0] = 2\n",
    "print(x is y)\n",
    "print(y)\n",
    "print(z)"
   ]
  },
  {
   "cell_type": "markdown",
   "id": "63da49f5",
   "metadata": {
    "slideshow": {
     "slide_type": "slide"
    }
   },
   "source": [
    "## Operators:\n",
    "\n",
    "- Arithmetic Operators: \n",
    "    + `add: +, subtract: -, multiply: *, division: /, modulus: %, exponentiation: **, floor division: //`\n",
    "    \n",
    "- Assignment Operators: \n",
    "    + `equals: =, add and equal: +=, subtract and equal: -=, multiply and equal: *=, divide and equal: /=, remainder and equal: %=, floor division and equal: //=, power and equal: **=`\n",
    "    + `Boolean and and equal &=, Boolean or and equal |=, Boolean xor and equal ^=`\n",
    "    \n",
    "- Comparison Operators: \n",
    "    + `value equality: ==, value not equal: !=, value greater than: >, value less than: <, value greater than equal: >=, value less than equal: <=`\n",
    "\n",
    "- Logical Operators: \n",
    "    + `and, or, ^, not`\n",
    "\n",
    "- Identity Operators: \n",
    "    + `is, is not` (checks for object being same)\n",
    "    \n",
    "- Membership Operators for being part of list or tuple: \n",
    "    + `in, not in`\n",
    "    \n",
    "- **Note** some operators like add, multiply does a different task on lists than a pointwise addition."
   ]
  },
  {
   "cell_type": "markdown",
   "id": "1e048fb9",
   "metadata": {
    "slideshow": {
     "slide_type": "slide"
    }
   },
   "source": [
    "## Data Casting to types\n",
    "\n",
    "- Some type of data can be cast to a different type as long as it is reasonable.\n",
    "- Casting can be done using `type name` as a `function`\n",
    "- For example, an `integer` can be cast into a `float` or a `complex` number. A `float` can become `int` by removing decimals (taking floor). However, a `complex` number cannot be cast into `int`\n",
    "- A `list`, `tuple` can always be cast to each other\n",
    "- A `list` can be cast into a `set` even if there are repetitions but not if they contain non-primitive elements.\n",
    "- A `set` is already a similar to the keys of a dictionary but remember set is unordered and unindexed.\n",
    "- Use `zip` function to map values to keys thus setting up a dictionary"
   ]
  },
  {
   "cell_type": "code",
   "execution_count": 38,
   "id": "208cd03f",
   "metadata": {
    "slideshow": {
     "slide_type": "subslide"
    }
   },
   "outputs": [
    {
     "name": "stdout",
     "output_type": "stream",
     "text": [
      "1.0\n",
      "(1+0j)\n",
      "1\n",
      "2\n",
      "[2, 3]\n"
     ]
    }
   ],
   "source": [
    "## Integer to Float\n",
    "x = 1\n",
    "print(float(x))\n",
    "print(complex(x))\n",
    "\n",
    "## Boolean to Integer\n",
    "x = True\n",
    "print(int(x))\n",
    "\n",
    "## List to Integer\n",
    "x = [1, 2, 3]\n",
    "a, b, c = x\n",
    "print(b)\n",
    "\n",
    "# Use of * in unpacking\n",
    "x = [1, 2, 3, 4]\n",
    "a, *b, c = x\n",
    "print(b)"
   ]
  },
  {
   "cell_type": "code",
   "execution_count": 6,
   "id": "1614fb0a",
   "metadata": {
    "slideshow": {
     "slide_type": "subslide"
    }
   },
   "outputs": [
    {
     "name": "stdout",
     "output_type": "stream",
     "text": [
      "{1, 2, 'a', (1+2j)}\n",
      "444 ns ± 17.2 ns per loop (mean ± std. dev. of 7 runs, 1000000 loops each)\n"
     ]
    }
   ],
   "source": [
    "# list to a set\n",
    "x = [1, 2, 1+2j, \"a\"]\n",
    "y = set(x)\n",
    "print(y)\n",
    "\n",
    "# set and list to a dictionary use y as set of keys and x as values\n",
    "dict(zip(y, x))"
   ]
  },
  {
   "cell_type": "markdown",
   "id": "e7771a45",
   "metadata": {
    "slideshow": {
     "slide_type": "slide"
    }
   },
   "source": [
    "## Conditionals\n",
    "\n",
    "### If, Elif, Else\n",
    "\n",
    "- The conditionals should be based on a logical input such as `==`, `>=`, `>`, `<`, `<=`, `is`, `is not`, `in`, `not in`.\n",
    "- They can be written in one line if the statement has only one statement.\n",
    "- An `if` statement cannot be empty. If it has to be, use `pass`\n",
    "- If condition are to result in more than two cases, use `elif`\n",
    "- `and` or `or` can be used for the conditional.\n",
    "- At the end of the condition to verify, use a `:` and then if a new line is used, use **indentation**."
   ]
  },
  {
   "cell_type": "code",
   "execution_count": 61,
   "id": "e1cc1ff7",
   "metadata": {
    "slideshow": {
     "slide_type": "subslide"
    }
   },
   "outputs": [
    {
     "name": "stdout",
     "output_type": "stream",
     "text": [
      "c is first\n",
      "b is first\n"
     ]
    }
   ],
   "source": [
    "## checking three scores and using `and`.\n",
    "a, b, c = 55, 60, 90\n",
    "\n",
    "if a > b and a > c:\n",
    "    print('a is first')\n",
    "elif a < b and b < c:\n",
    "        print('c is first')\n",
    "else: print('b is first')\n",
    "\n",
    "## checking between two scores in one line\n",
    "a, b = 55, 70\n",
    "\n",
    "print('a is first') if a > b else print('b is first')"
   ]
  },
  {
   "cell_type": "markdown",
   "id": "f821606b",
   "metadata": {
    "slideshow": {
     "slide_type": "slide"
    }
   },
   "source": [
    "## Loops\n",
    "\n",
    "### `while` loop:\n",
    "- Indentation and `:` are required.\n",
    "- It runs as long as a condition is true. Careful as it can run into an infinte loop if condition never gets satisfied.\n",
    "- `break` and `continue` allows to either break or continue based on a condition within the loop."
   ]
  },
  {
   "cell_type": "code",
   "execution_count": 135,
   "id": "bf524bab",
   "metadata": {
    "slideshow": {
     "slide_type": "subslide"
    }
   },
   "outputs": [
    {
     "name": "stdout",
     "output_type": "stream",
     "text": [
      "['usual', 'usual', 'usual', 'amazing', 'usual', 'usual', 'exit']\n",
      "process going on at step 1\n",
      "process going on at step 2\n",
      "process going on at step 3\n",
      "something amazing happened at 4 step\n",
      "process going on at step 4\n",
      "process going on at step 5\n",
      "process going on at step 6\n",
      "process stopped at step 7\n"
     ]
    }
   ],
   "source": [
    "# if i += 1 is not given i would always be 0 and it will \n",
    "# print infinite number of messages and not break unless you use break.\n",
    "\n",
    "x = ['usual']*3 + ['amazing'] + ['usual']*2 + ['exit']\n",
    "print(x)\n",
    "\n",
    "i = 1\n",
    "while x[i-1] != 'exit':\n",
    "    print(f'process going on at step {i}')\n",
    "    i += 1\n",
    "    if (x[i-1] == 'amazing'):\n",
    "        print(f'something amazing happened at {i} step')\n",
    "        continue\n",
    "else:\n",
    "    print(f'process stopped at step {i}')"
   ]
  },
  {
   "cell_type": "markdown",
   "id": "251901db",
   "metadata": {
    "slideshow": {
     "slide_type": "slide"
    }
   },
   "source": [
    "### `for` loop\n",
    "\n",
    "- Used to iterate over a sequence.\n",
    "- `range()` function is often used to create a sequence of integers for the `for` loop to run."
   ]
  },
  {
   "cell_type": "code",
   "execution_count": 137,
   "id": "b5b07cfe",
   "metadata": {
    "slideshow": {
     "slide_type": "subslide"
    }
   },
   "outputs": [
    {
     "name": "stdout",
     "output_type": "stream",
     "text": [
      "5\n"
     ]
    }
   ],
   "source": [
    "# count number of steps process was usual:\n",
    "count = 0\n",
    "for temp in x:\n",
    "    if temp == 'usual':\n",
    "        count += 1 \n",
    "\n",
    "print(count)"
   ]
  },
  {
   "cell_type": "code",
   "execution_count": 136,
   "id": "2b80fd60",
   "metadata": {
    "slideshow": {
     "slide_type": "fragment"
    }
   },
   "outputs": [
    {
     "name": "stdout",
     "output_type": "stream",
     "text": [
      "5\n"
     ]
    }
   ],
   "source": [
    "# using the range function\n",
    "count = 0\n",
    "for i in range(len(x)):\n",
    "    if x[i] == 'usual':\n",
    "        count += 1\n",
    "        \n",
    "print(count)"
   ]
  },
  {
   "cell_type": "markdown",
   "id": "6599c432",
   "metadata": {
    "slideshow": {
     "slide_type": "slide"
    }
   },
   "source": [
    "## `function`, scope\n",
    "\n",
    "- A function is defined using keywords `def` followed by function name and arguments within paranthesis.\n",
    "- This should be followed by `:` and indentation.\n",
    "- A function should either print or return some value. Else `pass` should be used to avoid error.\n",
    "- Often when we use functions to obtain values and store them in another variable, we need a return statement.\n",
    "- **Scope**: A variable created inside a function has only local scope which means it can only be used inside the function. It can be accessed by another function if it is within the previous function.\n",
    "- A variable created in the main body has global scope. A global scope variable can be created inside a function using the keyword `global`\n",
    "\n",
    "- A `lamdba` is a small anonymous function which returns the result in the same line (a useful property).\n",
    "\n",
    "#### `%timeit`\n",
    "- `%timeit` is a magic function in Python that evaluates time taken based on 1000 runs for optimizing time. Number of runs can also be changed"
   ]
  },
  {
   "cell_type": "code",
   "execution_count": 139,
   "id": "32e5444e",
   "metadata": {
    "slideshow": {
     "slide_type": "subslide"
    }
   },
   "outputs": [
    {
     "name": "stdout",
     "output_type": "stream",
     "text": [
      "13.9 µs ± 1.2 µs per loop (mean ± std. dev. of 7 runs, 100000 loops each)\n"
     ]
    }
   ],
   "source": [
    "## function definition\n",
    "def fib_rs(n):\n",
    "    if (n==1 or n==2):\n",
    "        return 1\n",
    "    else:\n",
    "        return fib_rs(n - 1) + fib_rs(n - 2)\n",
    "\n",
    "%timeit fib_rs(10)"
   ]
  },
  {
   "cell_type": "code",
   "execution_count": 138,
   "id": "70453d7b",
   "metadata": {
    "slideshow": {
     "slide_type": "fragment"
    }
   },
   "outputs": [
    {
     "name": "stdout",
     "output_type": "stream",
     "text": [
      "12\n"
     ]
    }
   ],
   "source": [
    "## lambda definition\n",
    "def n_multiplier(n):\n",
    "    return lambda a : a * n\n",
    "\n",
    "tripling = n_multiplier(3) ## returns an anonymous function\n",
    "print(tripling(4))         ## also saves from having 2 inputs (think of likelihood with parameter and data)"
   ]
  },
  {
   "cell_type": "markdown",
   "id": "dec2a851",
   "metadata": {
    "slideshow": {
     "slide_type": "slide"
    }
   },
   "source": [
    "## `class` for objects\n",
    "\n",
    "- A class is a blueprint for objects\n",
    "- It defines ways to initiate an object of the made up class, functions for various properties, methods, etc.\n",
    "- __init__(self, x, y) is a function that exists for all classes to initiate values to the class.\n",
    "- Methods are defined for the object class using functions with parameter self and more within the class."
   ]
  },
  {
   "cell_type": "code",
   "execution_count": 84,
   "id": "e67aebc6",
   "metadata": {
    "slideshow": {
     "slide_type": "subslide"
    }
   },
   "outputs": [
    {
     "name": "stdout",
     "output_type": "stream",
     "text": [
      "13\n",
      "8\n"
     ]
    }
   ],
   "source": [
    "class Gene:\n",
    "    def __init__(self, creationid, creationseq):\n",
    "        self.id = creationid\n",
    "        self.seq = creationseq\n",
    "    \n",
    "    def length(self):\n",
    "        return(str(len(self.seq)))\n",
    "    \n",
    "    # search for first instance\n",
    "    def search(self, searchseq):\n",
    "        return(self.seq.find(searchseq))\n",
    "\n",
    "x = Gene(11, 'AGTCATCGAACTG')\n",
    "print(x.length())\n",
    "print(x.search('AA'))"
   ]
  },
  {
   "cell_type": "markdown",
   "id": "7cc737ca",
   "metadata": {
    "slideshow": {
     "slide_type": "slide"
    }
   },
   "source": [
    "## Modules in Python\n",
    "\n",
    "Many new data types, functions are written already in many modules and thus modules serve as a great resource to avoid creating from scratch.\n",
    "\n",
    "- Install:\n",
    "     + With `anaconda`, most important modules are already installed.\n",
    "     + If not, as long as you have pip or conda, we can use `! pip install module1` to install module named `module1` from Jupyter notebook.\n",
    "     \n",
    "- Import\n",
    "- Use functions\n",
    "\n",
    "\n",
    "- Every installed module need to be imported. You can also import a set of functions sometimes to avoid using more space. "
   ]
  },
  {
   "cell_type": "markdown",
   "id": "f4ab37ec",
   "metadata": {
    "slideshow": {
     "slide_type": "slide"
    }
   },
   "source": [
    "## `numpy` basic\n",
    "\n",
    "- `numpy` is known for arrays, random number generators, and ufuncs\n",
    "- arrays are homogeneous set of values\n",
    "- Although python doesn't have a concept of array, numpy module allows for creation of multidimensional arrays and also many respective functions.\n",
    "- Often while importing `numpy` is aliased as `np` using:\n",
    "    + `import numpy as np`\n",
    "- In order to **create** a numpy array, we use: \n",
    "    + `np.array([]), np.array([[],[]]), np.empty(shape = (3, 4)), np.zeros(), np.ones(), np.arange(), np.eye()`\n",
    "- In order to **access** elements in an array x:\n",
    "    + `x[1], x[0:2], x[-1:-3], x[:, 1:3]`\n",
    "- **Stacking** by rows or columns (like rbind, cbind) and **splitting**\n",
    "    + `np.stack(), np.hstack(), np.vstack(), np.array_split()`\n",
    "- **Shape or reshape**: Allows to even change from 1-D to 3-D or viceversa.\n",
    "    + `arr.reshape(), arr.shape()`\n",
    "- **Iteration**: \n",
    "    + `np.nditer()` or\n",
    "    + ```\n",
    "        for x in arr:\n",
    "          for y in x:\n",
    "            print(y)\n",
    "        ```\n",
    "- **Searching**:\n",
    "    + `np.where()`\n",
    "- **Filtering**:\n",
    "    + `arr[arr > 42]`\n",
    "- **Methods**: using `axis = 0` for row operation, `axis = 1` for column operation.\n",
    "    + `.sum(), .min(), .max(), .flatten(), .ravel(), .copy()`\n",
    "- **functions**: Ufuncs that are applicable on the entire np array are created\n",
    "    + `np.unique(), np.add(), np.multiply(), np.cross(), np.dot(), np.transpose()`\n",
    "    + `np.exp(), np.std(), np.mean(), np.average(), np.percentile(), np.median(), np.log(), np.sin(), np.power()`\n",
    "- **Creating a structured array**: Using dtype as a list of tuples of name and format, one can create a structured array in np.\n",
    "\n",
    "\n",
    "\n",
    "### Random sub-module\n",
    "\n",
    "- `random` sub module consists of functions like \n",
    "    + `random.rand()` for uniform\n",
    "    + `random.choice()` from a sample \n",
    "    + `random.randint()` for integers\n",
    "    + `random.normal()` for normal\n",
    "    "
   ]
  },
  {
   "cell_type": "code",
   "execution_count": 108,
   "id": "1d5d86bd",
   "metadata": {
    "slideshow": {
     "slide_type": "subslide"
    }
   },
   "outputs": [
    {
     "name": "stdout",
     "output_type": "stream",
     "text": [
      "[[1 4 2 3]\n",
      " [1 3 4 1]]\n",
      "[('Honda Civic', 4, 30.4) ('Toyota Corolla', 4, 33.9)\n",
      " ('Ferrari Dino', 6, 19.7) ('Lincoln Continental', 8, 10.4)]\n"
     ]
    },
    {
     "data": {
      "text/plain": [
       "<seaborn.axisgrid.FacetGrid at 0x1354f6640>"
      ]
     },
     "execution_count": 108,
     "metadata": {},
     "output_type": "execute_result"
    },
    {
     "data": {
      "image/png": "[encoded data removed]",
      "text/plain": [
       "<Figure size 360x360 with 1 Axes>"
      ]
     },
     "metadata": {
      "needs_background": "light"
     },
     "output_type": "display_data"
    }
   ],
   "source": [
    "import numpy as np\n",
    "\n",
    "arr1 = np.array([1, 3, 2, 5])\n",
    "arr2 = np.array( [[1, 4, 2, 3], [1, 3, 4, 1]])\n",
    "print(arr2)\n",
    "\n",
    "\n",
    "arr2.shape\n",
    "arr3 = arr2.reshape((1, 8))\n",
    "arr3\n",
    "\n",
    "\n",
    "## structured array:\n",
    "data1 = np.zeros(4, dtype=[('name', 'U20'), ('cyl', 'i4'), ('mpg', 'f8')])\n",
    "data1['name'] =  ['Honda Civic', 'Toyota Corolla', 'Ferrari Dino', 'Lincoln Continental']\n",
    "data1['cyl'] =  [4, 4, 6, 8]\n",
    "data1['mpg'] = [30.4, 33.9, 19.7, 10.4]\n",
    "print(data1)\n",
    "\n",
    "## random sub-module of numpy\n",
    "from numpy import random\n",
    "# !pip install seaborn\n",
    "import seaborn as sns # plotting\n",
    "\n",
    "## generate random normal and show plot\n",
    "z = random.normal(loc = 1, scale = 5, size = 1000)\n",
    "sns.displot(z)"
   ]
  },
  {
   "cell_type": "markdown",
   "id": "c53113a6",
   "metadata": {
    "slideshow": {
     "slide_type": "slide"
    }
   },
   "source": [
    "## `pandas`\n",
    "\n",
    "- Pandas are mostly known for data frames with row names and column names which allows for collection of heterogeneous data.\n",
    "- The main data types here are: `pd.Series()`, `pd.DataFrame()`,`pd.Index()`\n",
    "- Series is an analog of a one-dimensional array with flexible indices, a DataFrame is an analog of a two-dimensional array with both flexible row indices and flexible column names\n",
    "- DataFrame as a sequence of aligned Series objects. Here, by “aligned” we mean that they share the same index.\n",
    "- Pandas index is an immutable array. It is like an array in many ways but cannot be modified unlike numpy arrays.\n",
    "- `iloc`, `loc` are important methods to access values based on labels or positions respectively.\n",
    "- `read_csv('filename.csv', header  = 0)` allows to read from a csv file while `header=None` allows for changing column labels later and method `.to_csv` allows to write to a file.\n",
    "- **Methods**: `.describe(), .hist(), .boxplot(), `\n",
    "- Pandas cheatsheet can be obtained from [here](https://pandas.pydata.org/Pandas_Cheat_Sheet.pdf)"
   ]
  },
  {
   "cell_type": "code",
   "execution_count": 120,
   "id": "f2e1103c",
   "metadata": {
    "slideshow": {
     "slide_type": "subslide"
    }
   },
   "outputs": [
    {
     "data": {
      "text/html": [
       "<div>\n",
       "<style scoped>\n",
       "    .dataframe tbody tr th:only-of-type {\n",
       "        vertical-align: middle;\n",
       "    }\n",
       "\n",
       "    .dataframe tbody tr th {\n",
       "        vertical-align: top;\n",
       "    }\n",
       "\n",
       "    .dataframe thead th {\n",
       "        text-align: right;\n",
       "    }\n",
       "</style>\n",
       "<table border=\"1\" class=\"dataframe\">\n",
       "  <thead>\n",
       "    <tr style=\"text-align: right;\">\n",
       "      <th></th>\n",
       "      <th>population</th>\n",
       "      <th>density</th>\n",
       "    </tr>\n",
       "  </thead>\n",
       "  <tbody>\n",
       "    <tr>\n",
       "      <th>California</th>\n",
       "      <td>38332521</td>\n",
       "      <td>90.413926</td>\n",
       "    </tr>\n",
       "    <tr>\n",
       "      <th>Texas</th>\n",
       "      <td>26448193</td>\n",
       "      <td>38.018740</td>\n",
       "    </tr>\n",
       "    <tr>\n",
       "      <th>New York</th>\n",
       "      <td>19651127</td>\n",
       "      <td>139.076746</td>\n",
       "    </tr>\n",
       "    <tr>\n",
       "      <th>Florida</th>\n",
       "      <td>19552860</td>\n",
       "      <td>114.806121</td>\n",
       "    </tr>\n",
       "  </tbody>\n",
       "</table>\n",
       "</div>"
      ],
      "text/plain": [
       "            population     density\n",
       "California    38332521   90.413926\n",
       "Texas         26448193   38.018740\n",
       "New York      19651127  139.076746\n",
       "Florida       19552860  114.806121"
      ]
     },
     "execution_count": 120,
     "metadata": {},
     "output_type": "execute_result"
    }
   ],
   "source": [
    "import pandas as pd\n",
    "data = pd.Series([0.25, 0.5, 0.75, 1.0])\n",
    "data.values\n",
    "data.index"
   ]
  },
  {
   "cell_type": "code",
   "execution_count": null,
   "id": "afacc89a",
   "metadata": {
    "slideshow": {
     "slide_type": "fragment"
    }
   },
   "outputs": [],
   "source": [
    "## Data Frame\n",
    "population_dict = {'California': 38332521,\n",
    " 'Texas': 26448193,\n",
    " 'New York': 19651127,\n",
    " 'Florida': 19552860,\n",
    " 'Illinois': 12882135}\n",
    "population = pd.Series(population_dict)\n",
    "\n",
    "population['California':'Florida']\n",
    "\n",
    "area_dict = {'California': 423967, 'Texas': 695662, 'New York': 141297,\n",
    " 'Florida': 170312, 'Illinois': 149995}\n",
    "area = pd.Series(area_dict)\n",
    "\n",
    "## A dataframe is a dictionary with keys as column names and values as pd.Series\n",
    "states = pd.DataFrame({'population': population,\n",
    " 'area': area})\n",
    "\n",
    "states"
   ]
  },
  {
   "cell_type": "code",
   "execution_count": null,
   "id": "60b9f4ab",
   "metadata": {
    "slideshow": {
     "slide_type": "fragment"
    }
   },
   "outputs": [],
   "source": [
    "## index\n",
    "ind = pd.Index([2, 3, 5, 7, 11])\n",
    "ind\n",
    "\n",
    "try:\n",
    "    ind[1] = 0\n",
    "except:\n",
    "    \"Error found\""
   ]
  },
  {
   "cell_type": "code",
   "execution_count": null,
   "id": "91bd798a",
   "metadata": {
    "slideshow": {
     "slide_type": "fragment"
    }
   },
   "outputs": [],
   "source": [
    "states['density'] =  states['population']/states['area']\n",
    "states\n",
    "\n",
    "\n",
    "## implicit and explicit index\n",
    "states.iloc[1:, :2]\n",
    "states.loc[:'Florida', ['population', 'density']]"
   ]
  },
  {
   "cell_type": "code",
   "execution_count": null,
   "id": "c97a4700",
   "metadata": {
    "slideshow": {
     "slide_type": "fragment"
    }
   },
   "outputs": [],
   "source": [
    "## read_csv('filename.csv', header  = 0)"
   ]
  },
  {
   "cell_type": "markdown",
   "id": "b8b485d6",
   "metadata": {
    "slideshow": {
     "slide_type": "slide"
    }
   },
   "source": [
    "## `scipy`\n",
    "\n",
    "- `stats` sub-module in scipy has most statistical functions\n",
    "- It also contains statistical models like linear regression\n",
    "- Scipy module also contains minimize function. "
   ]
  },
  {
   "cell_type": "markdown",
   "id": "9811be3e",
   "metadata": {
    "slideshow": {
     "slide_type": "slide"
    }
   },
   "source": [
    "## Data Visualization: `seaborn`\n",
    "\n",
    "- Tutorial on `seaborn` is available [Here](https://seaborn.pydata.org/tutorial.html)\n",
    "- \n"
   ]
  },
  {
   "cell_type": "markdown",
   "id": "127e4434",
   "metadata": {
    "slideshow": {
     "slide_type": "slide"
    }
   },
   "source": [
    "## Miscellaneous important modules\n",
    "\n",
    "- `scikit`: machine learning algorithms, built on numpy, scipy and matplotlib \n",
    "- `matplotlib`: more powerful data visualization\n",
    "- `requests`: web API (application programming interfaces)\n",
    "- `tensorflow: keras`: dense neural networks\n",
    "- `imageio`: image processing"
   ]
  },
  {
   "cell_type": "markdown",
   "id": "b3ae01f1",
   "metadata": {
    "slideshow": {
     "slide_type": "slide"
    }
   },
   "source": [
    "## Quiz\n",
    "\n",
    "- Read a dataset Lahman."
   ]
  },
  {
   "cell_type": "markdown",
   "id": "fef48e07",
   "metadata": {},
   "source": [
    "## Quiz Soln."
   ]
  },
  {
   "cell_type": "markdown",
   "id": "eecb89c3",
   "metadata": {},
   "source": [
    "## Quiz Soln. Contd.\n",
    "\n"
   ]
  },
  {
   "cell_type": "code",
   "execution_count": null,
   "id": "729a0d40",
   "metadata": {},
   "outputs": [],
   "source": []
  },
  {
   "cell_type": "markdown",
   "id": "87417423",
   "metadata": {
    "slideshow": {
     "slide_type": "slide"
    }
   },
   "source": [
    "## Important References\n",
    "\n",
    "- [Practical Data Science by Prof.Eubanks](https://www.practicaldatascience.org/html/index.html)\n",
    "- Anaconda and respective documentations\n",
    "- [W3Schools](https://www.w3schools.com/python/default.asp)\n",
    "\n"
   ]
  },
  {
   "cell_type": "markdown",
   "id": "75aa3e03",
   "metadata": {
    "slideshow": {
     "slide_type": "slide"
    }
   },
   "source": [
    "## Acknowledgements:\n",
    "\n",
    "- I thank the audience for their patience and enthusiasm.\n",
    "- I thank Professor Jun Yan whose class has taught a lot\n",
    "- Also need to acknowledge IMSI bootcamp and the humongous open source available on internet.\n",
    "- Wish you all the best of luck with working on Python.\n",
    "- I will be available at [surya.eada@uconn.edu](mailto:surya.eada@uconn.edu)\n",
    "\n",
    "\n",
    "## Questions:\n",
    "![Questions](https://hips.hearstapps.com/hmg-prod.s3.amazonaws.com/images/question-mark-icon-on-white-puzzle-royalty-free-image-917901148-1558452934.jpg?crop=0.66635xw:1xh;center,top&resize=980:*)"
   ]
  },
  {
   "cell_type": "code",
   "execution_count": null,
   "id": "97007c1a",
   "metadata": {},
   "outputs": [],
   "source": []
  }
 ],
 "metadata": {
  "celltoolbar": "Slideshow",
  "kernelspec": {
   "display_name": "Python 3 (ipykernel)",
   "language": "python",
   "name": "python3"
  },
  "language_info": {
   "codemirror_mode": {
    "name": "ipython",
    "version": 3
   },
   "file_extension": ".py",
   "mimetype": "text/x-python",
   "name": "python",
   "nbconvert_exporter": "python",
   "pygments_lexer": "ipython3",
   "version": "3.9.7"
  }
 },
 "nbformat": 4,
 "nbformat_minor": 5
}
