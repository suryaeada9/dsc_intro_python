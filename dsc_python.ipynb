{
 "cells": [
  {
   "cell_type": "markdown",
   "id": "bac90a16",
   "metadata": {
    "slideshow": {
     "slide_type": "slide"
    }
   },
   "source": [
    "# Introduction to Python\n",
    "\n",
    "## Data Science Club ( ITE C80)\n",
    "\n",
    "## Surya Teja Eada\n",
    "\n",
    "## October 13, 2021, 6 PM - 7 PM"
   ]
  },
  {
   "cell_type": "markdown",
   "id": "fb609eed",
   "metadata": {
    "slideshow": {
     "slide_type": "notes"
    }
   },
   "source": [
    "## Welcome\n",
    "\n",
    "- Welcome to today's workshop for Introduction to Python as part of talks from Data Science Club.\n",
    "- Thanks to the Data Science club for giving me this opportunity\n",
    "- This workshop aims at giving a quick tour to Python\n",
    "- The workshop may slightly lean towards statistics."
   ]
  },
  {
   "cell_type": "markdown",
   "id": "6ec212d9",
   "metadata": {
    "slideshow": {
     "slide_type": "slide"
    }
   },
   "source": [
    "## About Me\n",
    " \n",
    "<!-- <img src = 'figs/profile.JPG' alt=\"Anaconda Learning Library\" style=\"width:200px; height:200px; align:right;\"/> -->\n",
    "\n",
    "<div class=\"wrapingimage\">   \n",
    "<img src=    \n",
    "\"figs/profile.JPG\" height=\"100px\" width=\"100px\"  \n",
    "alt=\"image\">\n",
    "</div>  \n",
    "\n",
    "Third year Ph.D. student from Department of Statistics at UConn\n",
    "\n",
    "**Research Interests**: \n",
    "   - Stochastic Processes, Diffusion Processes.\n",
    "   - Financial Risk Modeling, Model Risk Assessment.\n",
    "   \n",
    "**Hobbies**:\n",
    "   - Sports, Painting, Travel, Learning new things"
   ]
  },
  {
   "cell_type": "markdown",
   "id": "342cae07",
   "metadata": {
    "slideshow": {
     "slide_type": "slide"
    }
   },
   "source": [
    "## Python Language:\n",
    "\n",
    "1. Python is one of the most promising programming language released in 1991 by `Guido Van Rossum`.\n",
    "1. It is useful for creation of web applications, for software development, and now a lot in data science and it is constantly evolving.\n",
    "1. It has an easy `syntax` similar to English, simple to read and write.\n",
    "1. The most recent major version of Python is `Python 3.10` although Python 2 is still used majorly inside mac systems for development.\n",
    "1. We can use Python via `command line`, IDE's like `PyCharm`, or applications such as `Jupyter Notebook`. \n",
    "1. Python works on all the different platforms like `Windows, Mac, Linux`.\n",
    "\n",
    "### As a language:\n",
    "1. It is a high-level object oriented programming language with built-in data structures, methods, operators and functions.\n",
    "1. It also allows these to be used to build more different data structures and methods that work with them.\n"
   ]
  },
  {
   "cell_type": "markdown",
   "id": "c04a348f",
   "metadata": {
    "slideshow": {
     "slide_type": "slide"
    }
   },
   "source": [
    "## Motivation for Python Usage\n",
    "\n",
    "Let us look from around us what brings motivation to learning a new language.\n",
    "\n",
    "- Data is **growing richer, larger** and that means more application of Data Science (This may be more valid from my perspective as I am a statistics student)\n",
    "- Python provides us with a **utilitarian, easy to read and write** language making it easy to remember.\n",
    "- Most **deep learning models** are implemented here first and there is a lot of demand for Python\n",
    "- It is an open source which implies it **improves all the time**\n",
    "\n",
    "|       `Data Size (DOMO)` | `Rankings (Experienced)`  |      `Survey (Public)`   |\n",
    ":-------------------------:|:-------------------------:|:-------------------------:\n",
    "|<img src=\"figs/data_size_domo.png\" alt=\"Data Per Day\" width=\"100\" height=\"100\"/> | <img src=\"figs/language_rankings.png\" alt=\"Rankings of Computer Languages\" width=\"100\" height=\"100\"/>  | <img src=\"figs/likely_python.png\" alt=\"Anaconda Most used language\" width=\"100\" height=\"100\"/> |"
   ]
  },
  {
   "cell_type": "markdown",
   "id": "2ea4bed8",
   "metadata": {
    "slideshow": {
     "slide_type": "slide"
    }
   },
   "source": [
    "## Aim of the workshop\n",
    "\n",
    "- **Jupyter Notebook**: Work in Jupyter notebook for writing Python and text \n",
    "\n",
    "- **Python Syntax**: `Variable`, `Indentation`, `Comments`, `Help`\n",
    "\n",
    "- **Data Types, Methods**: Mutable and Immutable\n",
    "\n",
    "- **Conditions, Loops, Functions**\n",
    "\n",
    "- **Basic Modules** and respective Functions\n",
    "    + **`pandas`**: DataFrames, Data Manipulation\n",
    "    + Miscellaneous\n",
    "\n",
    "- **Quiz**"
   ]
  },
  {
   "cell_type": "markdown",
   "id": "402068fd",
   "metadata": {
    "slideshow": {
     "slide_type": "slide"
    }
   },
   "source": [
    "## Resources, Prerequisites:\n",
    "\n",
    "### Resources: \n",
    "- The slides and Practice workbook for today's workshop can be found at: [Github UCSAS 2021](https://github.com/suryaeada9/dsc_intro_python)\n",
    "\n",
    "- **Prerequsites:** A laptop with `Anaconda` installed. Anaconda can be downloaded for windows users [here](https://repo.anaconda.com/archive/Anaconda3-2020.07-Windows-x86_64.exe) and for Mac users [here](https://repo.anaconda.com/archive/Anaconda3-2020.07-MacOSX-x86_64.pkg).\n"
   ]
  },
  {
   "cell_type": "markdown",
   "id": "fc4cb74e",
   "metadata": {
    "slideshow": {
     "slide_type": "slide"
    }
   },
   "source": [
    "### Anaconda\n",
    "\n",
    "- Anaconda GUI installation comes with:\n",
    "    + `Python 3.8`, \n",
    "    + `pip 20`, `conda forge`\n",
    "    + Important modules such as `Numpy`, `Scipy`, `Matplotlib`\n",
    "    + `Jupyter notebook` that allows markdown for text and python code chunks to run together.\n",
    "    + Library of tutorials and documentation for modules.\n",
    "   \n",
    "- `pip` and `conda forge` are package managers and they allow to download modules (with various versions) and manage environments.\n",
    "- [More](https://conda.io/projects/conda/en/latest/user-guide/tasks/manage-environments.html#creating-an-environment-with-commands) documentation on how conda allows to create environments are available here."
   ]
  },
  {
   "cell_type": "markdown",
   "id": "68ef7e35",
   "metadata": {
    "slideshow": {
     "slide_type": "slide"
    }
   },
   "source": [
    "## Let's get Started\n",
    "\n",
    "### Install, open Anaconda and launch Jupyter Notebook\n",
    "- Let's open Anaconda and see environments, and also launch jupyter notebook\n",
    "- Create a new `Python` notebook file and name it as `Practice.ipynb`\n",
    "\n",
    "### Know a little about Jupyter Notebook as well"
   ]
  },
  {
   "cell_type": "markdown",
   "id": "56cd63b5",
   "metadata": {
    "slideshow": {
     "slide_type": "slide"
    }
   },
   "source": [
    "## Jupyter Notebook\n",
    "\n",
    "### Some Useful comments for Jupyter\n",
    "- In order to work with a jupyter notebook that allows for `markdown` and `code chunks`, it is most importanat to note the difference between `command` mode and `edit` mode. \n",
    "    + `Command` mode is activated when a `blue border` is around the highlighted chunk and often can be obtained by pressing `ESC`\n",
    "    + This implies that you can add a new chunk using `A` or `B`, change the current chunk into a markdown chunk using `M`, or a code chunk using `Y`, activate help to find all shortcuts using `H` \n",
    "    + During the `Command` mode anything you type is considered a command for the notebook and will not be typed into the chunk. \n",
    "    + `Edit` mode is activated when a `green border` is highlighting the chunk you are at and can be attained by pressing `Enter`.\n",
    "    + This implies you are editing the current chunk by writing code or text depending on the type of chunk it is.\n",
    "    + A code chunk can be determined by a `In []` to the left of the chunk and a markdown chunk does not have the same. Moreover, a markdown chunk can be run using `CMD + ENTER` in which case it looks like a PDF."
   ]
  },
  {
   "cell_type": "markdown",
   "id": "4a8a7b85",
   "metadata": {
    "slideshow": {
     "slide_type": "slide"
    }
   },
   "source": [
    "## Python Installation Check\n",
    "\n",
    "- Try the following code.\n",
    "- This allows to observe the version of Python you are running (tells you also whether python is present)\n",
    "\n",
    "## Program 1:\n",
    "- As a first python run, use the `print` \"built-in\" function to print `\"Hello World\"`\n",
    "- If this was saved as \"example.py\" file and `python example.py` was run, it always prints \"Hello World\" "
   ]
  },
  {
   "cell_type": "code",
   "execution_count": null,
   "id": "3ef74866",
   "metadata": {
    "scrolled": true,
    "slideshow": {
     "slide_type": "fragment"
    }
   },
   "outputs": [],
   "source": [
    "## Check Python Installation & Version (`!`)\n",
    "!python --version\n",
    "\n",
    "## Exclamation at the beginning is equivalent to running the following function on bash file.\n",
    "\n",
    "## print Hello World\n",
    "print(\"Hello World!\")"
   ]
  },
  {
   "cell_type": "markdown",
   "id": "124b7f77",
   "metadata": {
    "slideshow": {
     "slide_type": "slide"
    }
   },
   "source": [
    "## Program 2:\n",
    "\n",
    "## Syntax: (End of Line)\n",
    "- Python uses `new line` to inform `end` of command or function.\n",
    "- This is unlike other programs that use brackets or semi-colons.\n",
    "\n",
    "### Comments\n",
    "- Comments are applied using `#` or apply shortcut `CMD + /`"
   ]
  },
  {
   "cell_type": "code",
   "execution_count": null,
   "id": "e89386ae",
   "metadata": {
    "scrolled": true,
    "slideshow": {
     "slide_type": "fragment"
    }
   },
   "outputs": [],
   "source": [
    "# Demo: Print, End of command, Commenting\n",
    "print(\"Hello Everyone\")\n",
    "2 + 3\n",
    "4 + 5, 7 + 11"
   ]
  },
  {
   "cell_type": "markdown",
   "id": "4064605d",
   "metadata": {
    "slideshow": {
     "slide_type": "slide"
    }
   },
   "source": [
    "### Interpretation of above code:\n",
    "\n",
    "In the above run, note that Python:\n",
    "\n",
    "- creates a `string-type object` \"Hello Python\".\n",
    "- uses `print` built-in function to print the object.\n",
    "- Since we moved to next line without `indentation`, it ends first call\n",
    "- Then, python creates two objects 2 and 3 of type `integer` and uses a `+` a pre-defined operator to add them and delivers as an ouput.\n",
    "- Note that print only prints but doesn't store.\n",
    "- Last evaluated output is always the output of a program that can also be stored in a `variable`"
   ]
  },
  {
   "cell_type": "markdown",
   "id": "416a5eeb",
   "metadata": {
    "slideshow": {
     "slide_type": "slide"
    }
   },
   "source": [
    "### Introduction to Objects\n",
    "- It is understandable that some `keys` like the following are recognized as objects of a certain type in Python:\n",
    "     + `2  (int)`\n",
    "     + `2.3 (float)`\n",
    "     + `2+3J (complex)`\n",
    "     + `\"fine\" (str)`\n",
    "     + `[1, 3, [1,3], 3] (list)`\n",
    "     + `(1, 3, [1, 2], 1) (tuple)`\n",
    "     + `{1, 3, 5} (set)`\n",
    "     + `{1:'x', 2:'3'} (dict)`\n",
    "- On the other hand, most other keys may give you a syntax error. For example: `2.0.0, 2+3i, (2, 3]`"
   ]
  },
  {
   "cell_type": "markdown",
   "id": "af9afaa3",
   "metadata": {
    "slideshow": {
     "slide_type": "slide"
    }
   },
   "source": [
    "## Variable:\n",
    "\n",
    "- We use any `string` without quotes to create a variable.\n",
    "- variable is a `pointer` associated to an `object` (int, list) in Python and thus stores address of where the object is saved. \n",
    "- It allows for calling on a number multiple times as required in a code.\n",
    "- We use **`=`** for assignment of a variable to such a name. \n",
    "- We can assign **integers, floats, strings, boolean, lists, functions or any class object** to a variable name.\n",
    "\n",
    "### Rules for variable names:\n",
    "- Officially, variable names in Python can be any length and can consist of uppercase and lowercase letters ( A-Z , a-z ), digits ( 0-9 ), and the underscore character ( _ ).\n",
    "- An additional restriction is that, although a variable name can contain digits, the first character of a variable name cannot be a digit."
   ]
  },
  {
   "cell_type": "code",
   "execution_count": null,
   "id": "fd707624",
   "metadata": {
    "scrolled": true,
    "slideshow": {
     "slide_type": "fragment"
    }
   },
   "outputs": [],
   "source": [
    "# string object being assigned to a variable\n",
    "A_1x = \"data science club\"\n",
    "print(A_1x)"
   ]
  },
  {
   "cell_type": "markdown",
   "id": "6fe10fcd",
   "metadata": {
    "slideshow": {
     "slide_type": "slide"
    }
   },
   "source": [
    "### Multiple Variable Assignment\n",
    "\n",
    "- Python also allows multiple assignment in a single line from multiple objects or single list."
   ]
  },
  {
   "cell_type": "code",
   "execution_count": null,
   "id": "58764be8",
   "metadata": {
    "scrolled": true,
    "slideshow": {
     "slide_type": "fragment"
    }
   },
   "outputs": [],
   "source": [
    "## Mutliple Assignment at once\n",
    "a1,  a2, a3, a4 = [1, 2, 3], \"UCSAS\", True, lambda x: x**2\n",
    "\n",
    "print(a1)\n",
    "print(a2)\n",
    "print(a3)\n",
    "print(a4)"
   ]
  },
  {
   "cell_type": "markdown",
   "id": "69d3d560",
   "metadata": {
    "slideshow": {
     "slide_type": "slide"
    }
   },
   "source": [
    "## Built-in Data Types and Methods\n",
    "\n",
    "- Python has already some existing data types that can be used. \n",
    "- Every object containing data has a data type that can be found using `type()`. You can access `type()` on the variable pointing to the object.\n",
    "- Every data type also has methods which are functions applicable to those data types already written for you. A method is applied as `object.method()`"
   ]
  },
  {
   "cell_type": "markdown",
   "id": "9e44c69d",
   "metadata": {
    "slideshow": {
     "slide_type": "slide"
    }
   },
   "source": [
    "## Built-in Data Types and Methods (Contd.)\n",
    "\n",
    "- **Data Types**:\n",
    "    + **Text**: `str` \n",
    "        + given in quotes, thought of as an array (`\"fine\", \"paper 2 example %\"`)\n",
    "        + `immutable` (changes happen at a new address)\n",
    "        + access elements like alphabets by `str[index]`\n",
    "        + operators: '+' concatenates, 'in' verifies membership\n",
    "        + built-in methods: `replace`, `split`, `count`, `startswith`, `isdigit`, `title`, `capitalize`\n",
    "    + **Numeric**: \n",
    "        + `int, float, complex`\n",
    "        + int: `2, 3` ; float: `2.0, 3.1` ; complex:  `2 + 3j`\n",
    "        + `immutable` (changes happen at different address, variable points to new address)\n",
    "        + operators: arithmetic operators\n",
    "        + methods: conjugate, imag, real, as_integer_ratio, numerator, denominator\n",
    "    + **Boolean**:\t\n",
    "        + `bool`\n",
    "        + True or False\n",
    "        + immutable\n",
    "        + operators: arithmetic operations (casts to int before operating), logical operators (`and`, `or`, `not`)"
   ]
  },
  {
   "cell_type": "markdown",
   "id": "63da49f5",
   "metadata": {
    "slideshow": {
     "slide_type": "slide"
    }
   },
   "source": [
    "## Operators:\n",
    "\n",
    "- **Arithmetic Operators**: \n",
    "    + `add: +, subtract: -, multiply: *, division: /, modulus: %, exponentiation: **, floor division: //`\n",
    "- **Note** some operators like add, multiply does a different task on lists than a pointwise addition.\n",
    "\n",
    "- **Assignment Operators**: \n",
    "    + `equals: =, add and equal: +=, subtract and equal: -=, multiply and equal: *=, divide and equal: /=, remainder and equal: %=, floor division and equal: //=, power and equal: **=`\n",
    "    + `Boolean and and equal &=, Boolean or and equal |=, Boolean xor and equal ^=`\n",
    "    \n",
    "- **Comparison Operators**: \n",
    "    + `value equality: ==, value not equal: !=, value greater than: >, value less than: <, value greater than equal: >=, value less than equal: <=`"
   ]
  },
  {
   "cell_type": "markdown",
   "id": "a9300d62",
   "metadata": {
    "slideshow": {
     "slide_type": "slide"
    }
   },
   "source": [
    "## Operators (Contd.)\n",
    "\n",
    "- **Logical Operators**: \n",
    "    + `and, or, ^, not`\n",
    "\n",
    "- **Identity Operators**: \n",
    "    + `is, is not` (checks for object being same)\n",
    "    \n",
    "- **Membership Operators for being part of list or tuple**: \n",
    "    + `in, not in`\n",
    "\n",
    "- **Access Operators**: `:4`, `4:`, `1:4`, `california:florida` works with indexed or mapped data types.\n",
    "\n",
    "### Try the following:"
   ]
  },
  {
   "cell_type": "code",
   "execution_count": null,
   "id": "8d2859ec",
   "metadata": {
    "scrolled": true,
    "slideshow": {
     "slide_type": "slide"
    }
   },
   "outputs": [],
   "source": [
    "# String\n",
    "x = 'abcd'\n",
    "print(type(x))\n",
    "x + 'efgh'"
   ]
  },
  {
   "cell_type": "code",
   "execution_count": null,
   "id": "923cd2d9",
   "metadata": {
    "scrolled": true,
    "slideshow": {
     "slide_type": "fragment"
    }
   },
   "outputs": [],
   "source": [
    "# string access and slicing\n",
    "x = 'I am at data science talk'\n",
    "print(f\"`{x[0]}` is the first character in string x\")\n",
    "print(f\"`{x[1:10]}` are the next nine characters including spaces\")  # from index 1 to index 9\n",
    "print(f\"`{x[:4]}` are the first four characters in x excluding index 4\")\n",
    "print(f\"`{x[4:]}` are the characters from location 4 including till end\")\n",
    "print(f\"`{x[-1]}` is the last character\")"
   ]
  },
  {
   "cell_type": "code",
   "execution_count": null,
   "id": "48eda7b2",
   "metadata": {
    "scrolled": true,
    "slideshow": {
     "slide_type": "slide"
    }
   },
   "outputs": [],
   "source": [
    "# integer \n",
    "y = 12\n",
    "print(y**2)\n",
    "\n",
    "try:\n",
    "    y[1]\n",
    "except:\n",
    "    print(\"Error\")\n",
    "    \n",
    "\n",
    "# float\n",
    "z = 12.0\n",
    "print(int(z))   ## This is called data casting from float to int.\n",
    "\n",
    "# complex\n",
    "a = 2 + 3j  # can use J as well, or casting like complex(2, 3)\n",
    "print(a)\n",
    "\n",
    "# Boolean\n",
    "x = True\n",
    "print(x or False)   ## using 'or' operator "
   ]
  },
  {
   "cell_type": "markdown",
   "id": "a7bdceb5",
   "metadata": {
    "slideshow": {
     "slide_type": "slide"
    }
   },
   "source": [
    "## Mutability and Immutability\n",
    "\n",
    "- Few data types are categorized as mutable and few data types are immutable and Python handles them differently.\n",
    "- Mutable objects: easy to change, less time expensive, doesn't create a copy\n",
    "- Immutable objects: expensive to change, creates a copy.\n",
    "- As a rule of thumb:\n",
    "    + primitive like types like `int`, `float`, `complex`, `str`, `bool` are immutable\n",
    "    + container like types like `list`, `set`\n",
    "    + `dict` contains a mapping of `keys` to `values`. \n",
    "    + While `dict` values can be mutable or immutable from the above list, `dict` keys are immutable\n",
    "- Others: \n",
    "    + `tuple` is immutable equivalent of `list`\n",
    "    + `frozen set` is immutable equivalent of `set`"
   ]
  },
  {
   "cell_type": "markdown",
   "id": "bf46aedd",
   "metadata": {
    "slideshow": {
     "slide_type": "slide"
    }
   },
   "source": [
    "### Data types containing multiple objects:\n",
    "\n",
    "- In base python, we already have `list`, `tuple` for sequence like objects that allow repetitions while we have `set`, `dictionary` for objects that contain multiple items but without allowance for replacements.\n",
    "\n",
    "-  `list`: \n",
    "    + Created using square brackets `x = [1, 2, [1,2], 1, \"pen\", True]`\n",
    "    + Can contain any type of elements even a function.\n",
    "    + Indexed and Ordered as a sequence.\n",
    "    + index starts with element 0 and uses sequence of integers\n",
    "    + Can contain repetitions or duplicates.\n",
    "    + Elements can be accessed using index as `x[0], x[-1], x[0:3], x[:2], x[2:]`\n",
    "    + Elements can be modified using `x[1:3] = [\"UCSAS\", [1,2,3]]`\n",
    "    + Mutable: Changes easily at the same address.\n",
    "    + Uses * to unpack elements (similar to tuples) pointwise except the * element can be assigned a list. For example `(a, *b, c) = ('a', [1, 2], 'c', 'd')`. In this case variable `b` points to `[[1, 2], 'c']`\n",
    "    + Methods: `len(x): length`, `x.insert(2, \"Python\")`, `x.append(\"Python\")`, `x.remove([1, 2])`, `x.pop(1)`,`del x[1]`, `x.clear()`, `x.sort()`, `y = x.copy()`, `x.extend(y)`"
   ]
  },
  {
   "cell_type": "code",
   "execution_count": null,
   "id": "9dbe2142",
   "metadata": {
    "scrolled": true,
    "slideshow": {
     "slide_type": "slide"
    }
   },
   "outputs": [],
   "source": [
    "# list\n",
    "x = [1, 2, \"abc\", [1, 2]]\n",
    "print(f\"{x} is of type: {type(x)}\")\n",
    "\n",
    "# Indexing\n",
    "print(f\"element in x at index 0 is {x[0]}\")\n",
    "\n",
    "# Slicing\n",
    "print(f\"sliced elements between locations 0 and 3(until location 2) is {x[0:3]}\")\n",
    "\n",
    "## Use of asterik * for unpacking a list \n",
    "[a, *b, c] = ['a', [1, 2], 'c', 'd']\n",
    "print(b[1])"
   ]
  },
  {
   "cell_type": "code",
   "execution_count": null,
   "id": "66d0b253",
   "metadata": {
    "scrolled": true,
    "slideshow": {
     "slide_type": "slide"
    }
   },
   "outputs": [],
   "source": [
    "# list\n",
    "x = [1, 2, \"abc\", [1, 2]]\n",
    "print(f\"{x} is of type: {type(x)}\")\n",
    "\n",
    "# Indexing\n",
    "print(f\"element in x at index 0 is {x[0]}\")\n",
    "\n",
    "# Slicing\n",
    "print(f\"sliced elements between locations 0 and 3(until location 2) is {x[0:3]}\")\n",
    "\n",
    "## Append\n",
    "x.append(3)\n",
    "print(x)\n",
    "\n",
    "## Use of asterik * for unpacking a list \n",
    "[a, *b, c] = ['a', [1, 2], 'c', 'd']\n",
    "print(b[1])"
   ]
  },
  {
   "cell_type": "markdown",
   "id": "daa18833",
   "metadata": {
    "slideshow": {
     "slide_type": "slide"
    }
   },
   "source": [
    "### Data types containing multiple objects:\n",
    "\n",
    "- `tuple`:\n",
    "    + Created using `()`.\n",
    "    + An equivalent of list but immutable and thus cannot change easily.\n",
    "    + Accessing is similar to lists.\n",
    "    + Adding an item may require converting to list, making modification and casting it into a tuple or adding a tuple consisting of on item that need to be added.\n",
    "    + Removing also needs converting to list and removing an element.\n",
    "    + Methods:  `x.count('a')`, `x.index()`, length function: `len(x)`,"
   ]
  },
  {
   "cell_type": "code",
   "execution_count": null,
   "id": "55d263ba",
   "metadata": {
    "scrolled": true,
    "slideshow": {
     "slide_type": "slide"
    }
   },
   "outputs": [],
   "source": [
    "## Creating\n",
    "x = (1, [1,2], 3, 'a', 1)\n",
    "\n",
    "## Accessing\n",
    "print(x[1])\n",
    "\n",
    "## Modifying\n",
    "try: \n",
    "    x[1] = 0\n",
    "except:\n",
    "    print(\"Error Found\")\n",
    "    \n",
    "## Deleting\n",
    "try: \n",
    "    del x[1]\n",
    "except:\n",
    "    print(\"Error Found\")\n",
    "\n",
    "## Method\n",
    "print(x.count(1))\n",
    "print(x.index(1)) ## first time 1 is observed"
   ]
  },
  {
   "cell_type": "code",
   "execution_count": null,
   "id": "8d6fdc99",
   "metadata": {
    "scrolled": true,
    "slideshow": {
     "slide_type": "slide"
    }
   },
   "outputs": [],
   "source": [
    "## Creating\n",
    "x = (1, [1,2], 3, 'a', 1)\n",
    "\n",
    "## Accessing\n",
    "print(x[1])\n",
    "\n",
    "## Modifying\n",
    "try: \n",
    "    x[1] = 0\n",
    "except:\n",
    "    print(\"Error Found\")\n",
    "    \n",
    "## Deleting\n",
    "try: \n",
    "    del x[1]\n",
    "except:\n",
    "    print(\"Error Found\")\n",
    "\n",
    "## Adding a value to a tuple\n",
    "print(x + (3, ))     ## creating a one element tuple needs a , at the end.\n",
    "\n",
    "## Method\n",
    "print(x.count(1))\n",
    "print(x.index(1)) ## first time 1 is observed"
   ]
  },
  {
   "cell_type": "markdown",
   "id": "4f40e530",
   "metadata": {
    "slideshow": {
     "slide_type": "slide"
    }
   },
   "source": [
    "### Data types containing multiple objects:\n",
    "- `set`:\n",
    "    + Created using `{}`\n",
    "    + Objects within the set can only be simple types or a tuple.\n",
    "    + Set is not ordered or indexed\n",
    "    + does not allow replacements\n",
    "    + accessing is only possible while looping through values in a set\n",
    "    + is mutable and can change easily but not with the usual ways of accessing\n",
    "    + `.add()` allows to add an element, `.update()` allows to append set to a set or a list removing duplicates\n",
    "    + `.remove()` or `.discard()`, `.pop()`\n",
    "    + `.union()`, `.update()`, `.intersection()`, `.symmetric_difference()`, `.intersection_update()` , `.symmetric_difference_update()`"
   ]
  },
  {
   "cell_type": "code",
   "execution_count": null,
   "id": "c56de843",
   "metadata": {
    "scrolled": true,
    "slideshow": {
     "slide_type": "slide"
    }
   },
   "outputs": [],
   "source": [
    "# set\n",
    "x = {\"ab\", \"cd\", \"ed\", \"ab\"}\n",
    "print(x)\n",
    "\n",
    "## accessing\n",
    "print([i for i in x])\n",
    "\n",
    "# .symmetric_differencee\n",
    "y = {'ab', 'an', 'bc', 'ed'}\n",
    "z = x.symmetric_difference(y)\n",
    "print(z)\n",
    "\n",
    "x = {(1,2), (2,3)}\n",
    "print(x)"
   ]
  },
  {
   "cell_type": "markdown",
   "id": "6de23bbe",
   "metadata": {
    "slideshow": {
     "slide_type": "slide"
    }
   },
   "source": [
    "### Data types containing multiple objects:\n",
    "- `dict`:\n",
    "    + dictionary is a mapping of keys to certain values.\n",
    "    + dict is created explicitly using `{key1:value1, key2:value2}`\n",
    "    + dict keys are immutable, does not allow replacements and should be like a `frozenset`\n",
    "    + duplicate values of key will replace the original\n",
    "    + dictionary values can be mutable or immutable object and can also allow for replacement.\n",
    "    + dict can also be created using zip function on a set and list as: `dict(zip(set1, list1))`\n",
    "    + although not sequenced, it can be thought of having an index as the key and thus accessing a value can be done using the key.\n",
    "    + accessing elements in dict can happen using `dict[key]` to obtain value.\n",
    "    + accessing all keys can be done using `dict.keys()` and accessing all values can be done using `dict.values()`."
   ]
  },
  {
   "cell_type": "code",
   "execution_count": null,
   "id": "2720c11b",
   "metadata": {
    "scrolled": true,
    "slideshow": {
     "slide_type": "slide"
    }
   },
   "outputs": [],
   "source": [
    "# dict\n",
    "x = {'a': [1, 2, 3], 'b': (2, 3), 'a': [2, 4]}\n",
    "\n",
    "print(x.keys())\n",
    "\n",
    "print(x.values())\n",
    "\n",
    "# dict can update\n",
    "x.update({'c':[1, 5]})\n",
    "print(x)"
   ]
  },
  {
   "cell_type": "markdown",
   "id": "1e048fb9",
   "metadata": {
    "slideshow": {
     "slide_type": "slide"
    }
   },
   "source": [
    "## Data Casting to types\n",
    "\n",
    "- Some type of data can be cast to a different type as long as it is reasonable.\n",
    "- Casting can be done using `type name` as a `function`\n",
    "- For example, an `integer` can be cast into a `float` or a `complex` number. A `float` can become `int` by removing decimals (taking floor). However, a `complex` number cannot be cast into `int`\n",
    "- A `list`, `tuple` can always be cast to each other\n",
    "- A `list` can be cast into a `set` even if there are repetitions but not if they contain non-primitive elements.\n",
    "- A `set` is already a similar to the keys of a dictionary but remember set is unordered and unindexed.\n",
    "- Use `zip` function and `dict` casting to map `values` to `keys` thus setting up a dictionary"
   ]
  },
  {
   "cell_type": "code",
   "execution_count": null,
   "id": "1614fb0a",
   "metadata": {
    "scrolled": true,
    "slideshow": {
     "slide_type": "slide"
    }
   },
   "outputs": [],
   "source": [
    "# list to a set\n",
    "x = [1, 2, 1+2j, \"a\"]\n",
    "y = set(x)\n",
    "print('Set:')\n",
    "print(y)\n",
    "\n",
    "print(' ')\n",
    "\n",
    "# set and list to a dictionary use y as set of keys and x as values\n",
    "print('Dictionary:')\n",
    "\n",
    "print(dict(zip(y, x)))"
   ]
  },
  {
   "cell_type": "markdown",
   "id": "ef736bd8",
   "metadata": {
    "slideshow": {
     "slide_type": "slide"
    }
   },
   "source": [
    "## Mutability and Immutability (Revisited)\n",
    "\n",
    "- Even though data types can be mutable, we may have some methods or functions that may change location.\n",
    "- Common way to find an immutable object is trying to change value and observing its id. \n",
    "\n",
    "#### Check if an object is mutable:\n",
    "- `id` allows to find the address of the object.\n",
    "- `is` allows to check if variables are at the same address.\n",
    "- Don't confuse with `==` which only checks if the values are equal."
   ]
  },
  {
   "cell_type": "code",
   "execution_count": null,
   "id": "c3c9eadb",
   "metadata": {
    "scrolled": true,
    "slideshow": {
     "slide_type": "slide"
    }
   },
   "outputs": [],
   "source": [
    "## Mutable Data type  - Example: List\n",
    "x = [1, 2, [1,2]]\n",
    "y = x\n",
    "z = x[:]   ## [:] is method that changes location\n",
    "\n",
    "print(x)\n",
    "print(y)\n",
    "print(z)\n",
    "\n",
    "## is vs == \n",
    "print(x is y)\n",
    "print(x is z)\n",
    "print(x == z)\n",
    "\n",
    "## append is a method of class list\n",
    "a = x.append(4)\n",
    "x[0] = 2\n",
    "print(x is y)\n",
    "print(y)\n",
    "print(z)"
   ]
  },
  {
   "cell_type": "markdown",
   "id": "f5d77d38",
   "metadata": {
    "slideshow": {
     "slide_type": "slide"
    }
   },
   "source": [
    "## Python \"input\" function and \"f-string\" object\n",
    "\n",
    "- Python can take inputs from users using `input` function.\n",
    "- Python \"f-string\" allows concatenation of strings with those saved in a variable name.\n",
    "\n",
    "- Can also be done using \"format\" method for string"
   ]
  },
  {
   "cell_type": "code",
   "execution_count": null,
   "id": "f8fbc49b",
   "metadata": {
    "scrolled": true,
    "slideshow": {
     "slide_type": "fragment"
    }
   },
   "outputs": [],
   "source": [
    "## taking user input\n",
    "name = input(\"Enter your name: \")\n",
    "age  = input(\"Enter your age: \")\n",
    "x = f\"My name is {name} and I am {age} years old\"\n",
    "print(x)"
   ]
  },
  {
   "cell_type": "markdown",
   "id": "cbed0dea",
   "metadata": {
    "slideshow": {
     "slide_type": "slide"
    }
   },
   "source": [
    "### Help in Python\n",
    "\n",
    "- In python help can be required of three types.\n",
    "    + you don't know what function to use: google, tutorials can be helpful\n",
    "    + you know a function but don't know its usage: use `help`(function)\n",
    "    + you know module but forgot the name of the function: use `tab` after module name and a dot\n",
    "    + you want to use methods for your data type but don't know them: use `dir(type)`\n",
    "- `dir()` allows you to get all the built-in methods applicable to a certain object.\n",
    "- One can apply these by using a `.` at the end of the list name, similar to `x.sort()` or `x.append(4)`\n",
    "- If you wish to get only the meaningful ones that are predominantly used, the following \"`if` condition\" avoiding all those that start with `__` or `_` may be helpful.  "
   ]
  },
  {
   "cell_type": "code",
   "execution_count": null,
   "id": "04c86de3",
   "metadata": {
    "scrolled": true,
    "slideshow": {
     "slide_type": "slide"
    }
   },
   "outputs": [],
   "source": [
    "## Using dir to find the methods for list\n",
    "MyClass = list\n",
    "method_list = [method for method in dir(MyClass) if method.startswith('__') is False]\n",
    "print(method_list)\n",
    "\n",
    "## Help on function `sum`\n",
    "help(sum)\n",
    "\n",
    "## application of function `sum`.\n",
    "x = [1, 2, 3]\n",
    "sum(x, 2)"
   ]
  },
  {
   "cell_type": "markdown",
   "id": "f9bcfc5b",
   "metadata": {
    "slideshow": {
     "slide_type": "slide"
    }
   },
   "source": [
    "## Quiz on Help with variables: \n",
    "\n",
    "Use the above manner of using `dir` to find the list of methods applicable\n",
    "to class `list` and apply those that are most appropriate for the following task:\n",
    "\n",
    "**Task:** \n",
    "Use `x = [3, 10, 7]` to create a variable x for the list, and using the methods for a `list` and:\n",
    "   - concatenate 4 to the list\n",
    "   - sort in descending order\n",
    "   - remove the item at index 2 from original variable and return removed value to a new variable\n",
    "   - clear the entire list\n",
    "   - Also find using help, the difference between `pop` and `remove`.\n",
    "    \n",
    " Use print statements at the end of every task to view x at the end of every method application.\n",
    "\n",
    "**Note:** If you are unsure of a particular method, use `help(type.method)` or `help(object.method)`"
   ]
  },
  {
   "cell_type": "code",
   "execution_count": null,
   "id": "599b067f",
   "metadata": {
    "scrolled": true,
    "slideshow": {
     "slide_type": "fragment"
    }
   },
   "outputs": [],
   "source": [
    "## Initiate a list\n",
    "x = [3, 10, 7]\n",
    "print([method for method in dir(x) if method.startswith('__') is False])"
   ]
  },
  {
   "cell_type": "code",
   "execution_count": null,
   "id": "df193d60",
   "metadata": {
    "scrolled": true,
    "slideshow": {
     "slide_type": "fragment"
    }
   },
   "outputs": [],
   "source": [
    "# Append 4\n",
    "x.append(4)\n",
    "print(x)"
   ]
  },
  {
   "cell_type": "code",
   "execution_count": null,
   "id": "aaef8e4a",
   "metadata": {
    "scrolled": true,
    "slideshow": {
     "slide_type": "slide"
    }
   },
   "outputs": [],
   "source": [
    "# Sort in ascending\n",
    "x.sort()\n",
    "print(x)"
   ]
  },
  {
   "cell_type": "code",
   "execution_count": null,
   "id": "49d274f4",
   "metadata": {
    "scrolled": true,
    "slideshow": {
     "slide_type": "fragment"
    }
   },
   "outputs": [],
   "source": [
    "# Reverse order\n",
    "x.reverse()\n",
    "print(x)"
   ]
  },
  {
   "cell_type": "code",
   "execution_count": null,
   "id": "5597bf0a",
   "metadata": {
    "scrolled": true,
    "slideshow": {
     "slide_type": "fragment"
    }
   },
   "outputs": [],
   "source": [
    "# Pop and remove application\n",
    "y = x.pop(2)  ## uses index, defaults last\n",
    "print(x)\n",
    "print(y)\n",
    "x.remove(3)  ## uses value, removes its first occurence, no default\n",
    "print(x)"
   ]
  },
  {
   "cell_type": "code",
   "execution_count": null,
   "id": "c358e8e7",
   "metadata": {
    "scrolled": true,
    "slideshow": {
     "slide_type": "fragment"
    }
   },
   "outputs": [],
   "source": [
    "## Clear\n",
    "x.clear()\n",
    "print(x)\n",
    "\n",
    "print(help(x.pop))\n",
    "print(help(x.remove))"
   ]
  },
  {
   "cell_type": "markdown",
   "id": "e143ccca",
   "metadata": {
    "slideshow": {
     "slide_type": "slide"
    }
   },
   "source": [
    "## Python Syntax (Revisited.)\n",
    "\n",
    "### Indentation\n",
    "- Indentation refers to the spaces at the beginning of a code line used to inform scope of conditional, loop, or a function.\n",
    "    + You have to use some white space and it depends on programmer but should be `at least one space`\n",
    "    + Use `same number` of space in same block of code\n",
    "    + It informs that the next line does not mean end of the earlier code"
   ]
  },
  {
   "cell_type": "code",
   "execution_count": null,
   "id": "d05fe56a",
   "metadata": {
    "scrolled": true,
    "slideshow": {
     "slide_type": "fragment"
    }
   },
   "outputs": [],
   "source": [
    "# Indentation using one space to continue `if`\n",
    "# Also see the use of `:`\n",
    "x = 3\n",
    "\n",
    "if x>2: \n",
    "     print(\"x greater than 2\")\n",
    "     print(\"also i feel like printing this line if x > 2\")\n",
    "else: \n",
    "     print(\"x less than 2\")"
   ]
  },
  {
   "cell_type": "markdown",
   "id": "e7771a45",
   "metadata": {
    "slideshow": {
     "slide_type": "slide"
    }
   },
   "source": [
    "## Conditionals\n",
    "\n",
    "### If, Elif, Else\n",
    "\n",
    "- The conditionals should be based on a logical input such as `==`, `>=`, `>`, `<`, `<=`, `is`, `is not`, `in`, `not in`.\n",
    "- They can be written in one line if the statement has only one statement.\n",
    "- An `if` statement cannot be empty. If it has to be, use `pass`\n",
    "- If condition are to result in more than two cases, use `elif`\n",
    "- `and` or `or` can be used for the conditional.\n",
    "- At the end of the condition to verify, use a `:` and then if a new line is used, use **indentation**."
   ]
  },
  {
   "cell_type": "code",
   "execution_count": null,
   "id": "e1cc1ff7",
   "metadata": {
    "scrolled": true,
    "slideshow": {
     "slide_type": "slide"
    }
   },
   "outputs": [],
   "source": [
    "## checking three scores and using `and`.\n",
    "a, b, c = 55, 60, 90\n",
    "\n",
    "if a > b and a > c:\n",
    "    print('a is first')\n",
    "elif a < b and b < c:\n",
    "        print('c is first')\n",
    "else: print('b is first')\n",
    "\n",
    "## checking between two scores in one line\n",
    "a, b = 55, 70\n",
    "\n",
    "print('a is first') if a > b else print('b is first')"
   ]
  },
  {
   "cell_type": "markdown",
   "id": "f821606b",
   "metadata": {
    "slideshow": {
     "slide_type": "slide"
    }
   },
   "source": [
    "## Loops\n",
    "\n",
    "### `while` loop:\n",
    "- Indentation and `:` are required.\n",
    "- It runs as long as a condition is true. Careful as it can run into an infinte loop if condition never gets satisfied.\n",
    "- `break` and `continue` allows to either break or continue based on a condition within the loop."
   ]
  },
  {
   "cell_type": "code",
   "execution_count": null,
   "id": "bf524bab",
   "metadata": {
    "scrolled": true,
    "slideshow": {
     "slide_type": "slide"
    }
   },
   "outputs": [],
   "source": [
    "# if i += 1 is not given i would always be 0 and it will \n",
    "# print infinite number of messages and not break unless you use break.\n",
    "\n",
    "x = ['usual']*3 + ['amazing'] + ['usual']*2 + ['exit']\n",
    "print(x)\n",
    "\n",
    "i = 1\n",
    "while x[i-1] != 'exit':\n",
    "    print(f'process going on at step {i}')\n",
    "    i += 1\n",
    "    if (x[i-1] == 'amazing'):\n",
    "        print(f'something amazing happened at {i} step')\n",
    "        continue\n",
    "else:\n",
    "    print(f'process stopped at step {i}')"
   ]
  },
  {
   "cell_type": "markdown",
   "id": "251901db",
   "metadata": {
    "slideshow": {
     "slide_type": "slide"
    }
   },
   "source": [
    "### `for` loop\n",
    "\n",
    "- Used to iterate over a sequence.\n",
    "- `range()` function is often used to create a sequence of integers for the `for` loop to run and `enumerate` creates a range of indices based on iterable counter."
   ]
  },
  {
   "cell_type": "code",
   "execution_count": null,
   "id": "b5b07cfe",
   "metadata": {
    "scrolled": true,
    "slideshow": {
     "slide_type": "slide"
    }
   },
   "outputs": [],
   "source": [
    "# count number of steps process was usual:\n",
    "count = 0\n",
    "for temp in x:\n",
    "    if temp == 'usual':\n",
    "        count += 1 \n",
    "\n",
    "print(count)"
   ]
  },
  {
   "cell_type": "code",
   "execution_count": null,
   "id": "2b80fd60",
   "metadata": {
    "scrolled": true,
    "slideshow": {
     "slide_type": "fragment"
    }
   },
   "outputs": [],
   "source": [
    "# using the range function\n",
    "count = 0\n",
    "for i in range(len(x)):\n",
    "    if x[i] == 'usual':\n",
    "        count += 1\n",
    "        \n",
    "print(count)"
   ]
  },
  {
   "cell_type": "markdown",
   "id": "6599c432",
   "metadata": {
    "slideshow": {
     "slide_type": "slide"
    }
   },
   "source": [
    "## `function`, scope\n",
    "\n",
    "- A function is defined using keywords `def` followed by function name and arguments within paranthesis.\n",
    "- This should be followed by `:` and indentation.\n",
    "- A function should either print or return some value. Else `pass` should be used to avoid error.\n",
    "- Often when we use functions to obtain values and store them in another variable, we need a return statement.\n",
    "- **Scope**: A variable created inside a function has only local scope which means it can only be used inside the function. It can be accessed by another function if it is within the previous function.\n",
    "- A variable created in the main body has global scope. A global scope variable can be created inside a function using the keyword `global`\n",
    "\n",
    "- A `lamdba` is a small anonymous function which returns the result in the same line (a useful property).\n",
    "\n",
    "#### `%timeit`\n",
    "- `%timeit` is a magic function in Python that evaluates time taken based on 1000 runs for optimizing time. Number of runs can also be changed"
   ]
  },
  {
   "cell_type": "code",
   "execution_count": null,
   "id": "32e5444e",
   "metadata": {
    "scrolled": true,
    "slideshow": {
     "slide_type": "slide"
    }
   },
   "outputs": [],
   "source": [
    "## function definition\n",
    "def fib_rs(n):\n",
    "    if (n==1 or n==2):\n",
    "        return 1\n",
    "    else:\n",
    "        return fib_rs(n - 1) + fib_rs(n - 2)\n",
    "\n",
    "print(fib_rs(10))\n",
    "%timeit fib_rs(10)"
   ]
  },
  {
   "cell_type": "code",
   "execution_count": null,
   "id": "70453d7b",
   "metadata": {
    "scrolled": true,
    "slideshow": {
     "slide_type": "fragment"
    }
   },
   "outputs": [],
   "source": [
    "## lambda definition\n",
    "def n_multiplier(n):\n",
    "    return lambda a : a * n\n",
    "\n",
    "tripling = n_multiplier(3) ## returns an anonymous function\n",
    "print(tripling(4))         ## also saves from having 2 inputs (think of likelihood with parameter and data)"
   ]
  },
  {
   "cell_type": "markdown",
   "id": "dec2a851",
   "metadata": {
    "slideshow": {
     "slide_type": "slide"
    }
   },
   "source": [
    "## `class` for objects\n",
    "\n",
    "- A class is a blueprint for objects\n",
    "- It defines ways to initiate an object of the made up class, functions for various properties, methods, etc.\n",
    "- __init__(self, x, y) is a function that exists for all classes to initiate values to the class.\n",
    "- Methods are defined for the object class using functions with parameter self and more within the class."
   ]
  },
  {
   "cell_type": "code",
   "execution_count": null,
   "id": "e67aebc6",
   "metadata": {
    "scrolled": true,
    "slideshow": {
     "slide_type": "slide"
    }
   },
   "outputs": [],
   "source": [
    "class GeneList:\n",
    "    def __init__(self, creationid, creationseq):\n",
    "        self.id = creationid\n",
    "        self.seqlist = creationseq\n",
    "    \n",
    "    def length(self):\n",
    "        y = [len(x) for x in self.seqlist] \n",
    "        return(f\"{str(len(self.seqlist))} number of genes and lengths are {y}\")\n",
    "    \n",
    "    # search for first instance\n",
    "    def search(self, searchseq):\n",
    "        return([x.find(searchseq) for x in self.seqlist])\n",
    "    \n",
    "    def map(self):\n",
    "        return(dict(zip(tuple(self.id), self.seqlist)))\n",
    "print('''\n",
    "Gene Object: Length and search\n",
    "''')\n",
    "\n",
    "x = GeneList([1, 2, 3], ['AGTCATCGAACTG', 'AGGTACTAACG', 'ACGTAGCA'])\n",
    "\n",
    "print(x.length())\n",
    "print(x.search('AA'))\n",
    "print(type(x))\n",
    "x.map()"
   ]
  },
  {
   "cell_type": "markdown",
   "id": "7cc737ca",
   "metadata": {
    "slideshow": {
     "slide_type": "slide"
    }
   },
   "source": [
    "## Modules in Python\n",
    "\n",
    "Many new data types, functions are written already in many modules and thus modules serve as a great resource to avoid creating from scratch.\n",
    "\n",
    "- Install:\n",
    "     + With `anaconda`, most important modules are already installed.\n",
    "     + If not, as long as you have pip or conda, we can use `! pip install module1` to install module named `module1` from Jupyter notebook.\n",
    "     \n",
    "- Import\n",
    "- Use functions\n",
    "\n",
    "\n",
    "- Every installed module need to be imported. You can also import a set of functions sometimes to avoid using more space. "
   ]
  },
  {
   "cell_type": "markdown",
   "id": "f4ab37ec",
   "metadata": {
    "slideshow": {
     "slide_type": "slide"
    }
   },
   "source": [
    "## `numpy`\n",
    "\n",
    "- `numpy` is known for arrays, random number generators, and ufuncs\n",
    "- arrays are homogeneous set of values\n",
    "- Although python doesn't have a concept of array, numpy module allows for creation of multidimensional arrays and also many respective functions.\n",
    "- Often while importing `numpy` is aliased as `np` using:\n",
    "    + `import numpy as np` to import\n",
    "    + `numpy.__version__` to find the version\n",
    "- In order to **create** a numpy array, we use: \n",
    "    + `np.array([]), np.array([[],[]]), np.empty(shape = (3, 4)), np.zeros(), np.ones(), np.arange(), np.eye()`\n",
    "- In order to **access** elements in an array x:\n",
    "    + `x[1], x[0:2], x[-1:-3], x[:, 1:3]`\n",
    "- **Stacking** by rows or columns (like rbind, cbind) and **splitting**\n",
    "    + `np.stack(), np.hstack(), np.vstack(), np.array_split()`\n",
    "- **Shape or reshape**: Allows to even change from 1-D to 3-D or viceversa.\n",
    "    + `arr.reshape(), arr.shape()`"
   ]
  },
  {
   "cell_type": "markdown",
   "id": "d80e2ce6",
   "metadata": {
    "slideshow": {
     "slide_type": "slide"
    }
   },
   "source": [
    "## `numpy`\n",
    "- **Iteration**: \n",
    "    + `np.nditer()` or\n",
    "    + ```\n",
    "        for x in arr:\n",
    "          for y in x:\n",
    "            print(y)\n",
    "        ```\n",
    "- **Searching**:\n",
    "    + `np.where()`\n",
    "- **Filtering**:\n",
    "    + `arr[arr > 42]`\n",
    "- **Methods**: using `axis = 0` for row operation, `axis = 1` for column operation.\n",
    "    + `.sum(), .min(), .max(), .flatten(), .ravel(), .copy()`\n",
    "- **functions**: Ufuncs that are applicable on the entire np array are created\n",
    "    + `np.unique(), np.add(), np.multiply(), np.cross(), np.dot(): matrix multiplication, np.transpose()`\n",
    "    + `np.exp(), np.std(), np.mean(), np.average(), np.percentile(), np.median(), np.log(), np.sin(), np.power()`\n",
    "- **Creating a structured array**: Using dtype as a list of tuples of name and format, one can create a structured array in np."
   ]
  },
  {
   "cell_type": "markdown",
   "id": "7a68ebf5",
   "metadata": {
    "slideshow": {
     "slide_type": "slide"
    }
   },
   "source": [
    "### Random sub-module\n",
    "\n",
    "- `random` sub module consists of functions like \n",
    "    + `random.rand()` for uniform\n",
    "    + `random.choice()` from a sample \n",
    "    + `random.randint()` for integers\n",
    "    + `random.normal()` for normal"
   ]
  },
  {
   "cell_type": "code",
   "execution_count": null,
   "id": "1d5d86bd",
   "metadata": {
    "scrolled": true,
    "slideshow": {
     "slide_type": "slide"
    }
   },
   "outputs": [],
   "source": [
    "import numpy as np\n",
    "\n",
    "arr1 = np.array([[1, 3, 2, 5],[2, 5, 1, 3]])                    ## 2 row and 4 columns\n",
    "arr2 = np.array( [[1, 4], [2, 3], [1, 3], [4, 1]])\n",
    "print(arr2)\n",
    "\n",
    "## shape and reshape\n",
    "print('''\n",
    "shape and reshape: dim and modify dim\n",
    "''')\n",
    "print(arr2.shape)\n",
    "arr3 = arr2.reshape((1, 8))\n",
    "print(arr3)"
   ]
  },
  {
   "cell_type": "code",
   "execution_count": null,
   "id": "a6be781a",
   "metadata": {
    "scrolled": true,
    "slideshow": {
     "slide_type": "slide"
    }
   },
   "outputs": [],
   "source": [
    "## matrix multiplication\n",
    "print('''\n",
    "Matrix multiplication: .dot\n",
    "''')\n",
    "arr4 = arr1.dot(arr2)\n",
    "print(arr4)\n",
    "\n",
    "## inverse\n",
    "print('''\n",
    "Inverse: np.linalg.inv()\n",
    "''')\n",
    "print(np.linalg.inv(arr4))"
   ]
  },
  {
   "cell_type": "code",
   "execution_count": null,
   "id": "9d488b81",
   "metadata": {
    "scrolled": true,
    "slideshow": {
     "slide_type": "slide"
    }
   },
   "outputs": [],
   "source": [
    "## structured array:\n",
    "data1 = np.zeros(4, dtype=[('name', 'U20'), ('cyl', 'i4'), ('mpg', 'f8')])\n",
    "data1['name'] =  ['Honda Civic', 'Toyota Corolla', 'Ferrari Dino', 'Lincoln Continental']\n",
    "data1['cyl'] =  [4, 4, 6, 8]\n",
    "data1['mpg'] = [30.4, 33.9, 19.7, 10.4]\n",
    "print(data1)\n",
    "\n",
    "## random sub-module of numpy\n",
    "from numpy import random\n",
    "# !pip install seaborn\n",
    "import seaborn as sns # plotting\n",
    "\n",
    "## generate random normal and show plot\n",
    "z = random.normal(loc = 1, scale = 5, size = 1000)\n",
    "sns.displot(z)"
   ]
  },
  {
   "cell_type": "markdown",
   "id": "c53113a6",
   "metadata": {
    "slideshow": {
     "slide_type": "slide"
    }
   },
   "source": [
    "## `pandas`\n",
    "\n",
    "- Pandas are mostly known for data frames with row names and column names which allows for collection of heterogeneous data.\n",
    "- The main data types here are: `pd.Series()`, `pd.DataFrame()`,`pd.Index()`\n",
    "- Series is an analog of a one-dimensional array with flexible indices, a DataFrame is an analog of a two-dimensional array with both flexible row indices and flexible column names\n",
    "- DataFrame as a sequence of aligned Series objects. Here, by “aligned” we mean that they share the same index.\n",
    "- Pandas index is an immutable array. It is like an array in many ways but cannot be modified unlike numpy arrays.\n",
    "- `iloc`, `loc` are important methods to access values based on labels or positions respectively.\n",
    "- `read_csv('filename.csv', header  = 0)` allows to read from a csv file while `header=None` allows for changing column labels later and method `.to_csv` allows to write to a file.\n",
    "- **Methods**: `.describe(), .hist(), .boxplot(), `\n",
    "- Pandas cheatsheet can be obtained from [here](https://pandas.pydata.org/Pandas_Cheat_Sheet.pdf)"
   ]
  },
  {
   "cell_type": "code",
   "execution_count": null,
   "id": "f2e1103c",
   "metadata": {
    "scrolled": true,
    "slideshow": {
     "slide_type": "slide"
    }
   },
   "outputs": [],
   "source": [
    "import pandas as pd\n",
    "data = pd.Series([0.25, 0.5, 0.75, 1.0])\n",
    "print(data.values)\n",
    "print(data.index)"
   ]
  },
  {
   "cell_type": "code",
   "execution_count": null,
   "id": "afacc89a",
   "metadata": {
    "scrolled": true,
    "slideshow": {
     "slide_type": "fragment"
    }
   },
   "outputs": [],
   "source": [
    "## Data Frame\n",
    "population_dict = {'California': 38332521,\n",
    " 'Texas': 26448193,\n",
    " 'New York': 19651127,\n",
    " 'Florida': 19552860,\n",
    " 'Illinois': 12882135}\n",
    "population = pd.Series(population_dict)\n",
    "\n",
    "population['California':'Florida']\n",
    "\n",
    "area_dict = {'California': 423967, 'Texas': 695662, 'New York': 141297,\n",
    " 'Florida': 170312, 'Illinois': 149995}\n",
    "area = pd.Series(area_dict)\n",
    "\n",
    "## A dataframe is a dictionary with keys as column names and values as pd.Series\n",
    "states = pd.DataFrame({'population': population,\n",
    " 'area': area})\n",
    "\n",
    "print(states)"
   ]
  },
  {
   "cell_type": "code",
   "execution_count": null,
   "id": "60b9f4ab",
   "metadata": {
    "scrolled": true,
    "slideshow": {
     "slide_type": "slide"
    }
   },
   "outputs": [],
   "source": [
    "## index\n",
    "ind = pd.Index([2, 3, 5, 7, 11])\n",
    "ind\n",
    "\n",
    "try:\n",
    "    ind[1] = 0\n",
    "except:\n",
    "    \"Error found\""
   ]
  },
  {
   "cell_type": "code",
   "execution_count": null,
   "id": "91bd798a",
   "metadata": {
    "scrolled": true,
    "slideshow": {
     "slide_type": "fragment"
    }
   },
   "outputs": [],
   "source": [
    "states['density'] =  states['population']/states['area']\n",
    "\n",
    "## implicit and explicit index\n",
    "print(states.iloc[1:, :2])\n",
    "print(states.loc[:'Florida', ['population', 'density']])"
   ]
  },
  {
   "cell_type": "markdown",
   "id": "a8e73d68",
   "metadata": {
    "slideshow": {
     "slide_type": "slide"
    }
   },
   "source": [
    "## Batting Dataset and Salaries Dataset"
   ]
  },
  {
   "cell_type": "markdown",
   "id": "b3ae01f1",
   "metadata": {
    "slideshow": {
     "slide_type": "slide"
    }
   },
   "source": [
    "## Quiz\n",
    "\n",
    "- Read Baseball datasets from Lahman available in github repository under data using `pd.read_csv()` \n",
    "- Get columns ('yearID', 'teamID', 'salary') from salary.csv and ('yearID', 'teamID', 'G', 'R', 'HR') from batting.csv. (G: Games, R: Runs, HR: Home Runs)\n",
    "- find `.head()` method to observe the first 6 rows.\n",
    "- Use `.describe()` method for obtaining summary for numeric variables."
   ]
  },
  {
   "cell_type": "code",
   "execution_count": null,
   "id": "fc725000",
   "metadata": {
    "scrolled": true,
    "slideshow": {
     "slide_type": "fragment"
    }
   },
   "outputs": [],
   "source": [
    "## salaries\n",
    "sal = pd.read_csv('data/salaries.csv', header  = 0)[['yearID', 'teamID', 'salary']]\n",
    "print(sal.head(6))\n",
    "print('')\n",
    "print('Describe:')\n",
    "print(sal.describe().round(2))"
   ]
  },
  {
   "cell_type": "code",
   "execution_count": null,
   "id": "de5235c1",
   "metadata": {
    "scrolled": true,
    "slideshow": {
     "slide_type": "fragment"
    }
   },
   "outputs": [],
   "source": [
    "batting = pd.read_csv('data/Batting.csv', header = 0)[['yearID', 'teamID', 'G', 'R', 'HR']]\n",
    "print('Head of batting:')\n",
    "print(batting.head(6))"
   ]
  },
  {
   "cell_type": "markdown",
   "id": "1a818b6f",
   "metadata": {
    "slideshow": {
     "slide_type": "slide"
    }
   },
   "source": [
    "## Quiz. Contd.\n",
    "\n",
    "- Merge datasets batting and sal based on `yearID`\n",
    "- Find the dimensions using `shape`"
   ]
  },
  {
   "cell_type": "code",
   "execution_count": null,
   "id": "8de075c9",
   "metadata": {
    "scrolled": true,
    "slideshow": {
     "slide_type": "fragment"
    }
   },
   "outputs": [],
   "source": [
    "merged = pd.merge(sal, batting, how=\"inner\", on=['yearID','teamID'])"
   ]
  },
  {
   "cell_type": "code",
   "execution_count": null,
   "id": "69165551",
   "metadata": {
    "scrolled": true,
    "slideshow": {
     "slide_type": "fragment"
    }
   },
   "outputs": [],
   "source": [
    "print(merged.head())"
   ]
  },
  {
   "cell_type": "code",
   "execution_count": null,
   "id": "07c03144",
   "metadata": {
    "scrolled": true,
    "slideshow": {
     "slide_type": "fragment"
    }
   },
   "outputs": [],
   "source": [
    "merged.shape"
   ]
  },
  {
   "cell_type": "markdown",
   "id": "838f2aa0",
   "metadata": {
    "slideshow": {
     "slide_type": "slide"
    }
   },
   "source": [
    "## Quiz Contd.\n",
    "\n",
    "- Sum rows by year to find `merged1` and by team to find `merged2`\n",
    "- Create new column `HRG` derived as `HR/G` (Home runs per gamee) for `merged1` and `merged2`."
   ]
  },
  {
   "cell_type": "code",
   "execution_count": null,
   "id": "d86502e2",
   "metadata": {
    "scrolled": true,
    "slideshow": {
     "slide_type": "fragment"
    }
   },
   "outputs": [],
   "source": [
    "merged1 = merged.groupby('yearID').sum()\n",
    "merged2 = merged.groupby('teamID').sum()\n",
    "print(merged1.head())"
   ]
  },
  {
   "cell_type": "code",
   "execution_count": null,
   "id": "187c5e13",
   "metadata": {
    "scrolled": true,
    "slideshow": {
     "slide_type": "fragment"
    }
   },
   "outputs": [],
   "source": [
    "merged.loc[:,'HRG'] = merged.loc[:,'HR']/merged.iloc[:, 3]\n",
    "merged1.loc[:,'HRG'] = merged1.loc[:,'HR']/merged1.iloc[:, 1]\n",
    "merged2.loc[:,'HRG'] = merged2.loc[:,'HR']/merged2.iloc[:, 1]\n",
    "\n",
    "merged.loc[:,'RG'] = merged.loc[:,'R']/merged.iloc[:, 3]\n",
    "merged1.loc[:,'RG'] = merged1.loc[:,'R']/merged1.iloc[:, 1]\n",
    "merged2.loc[:,'RG'] = merged2.loc[:,'R']/merged2.loc[:, 'G']"
   ]
  },
  {
   "cell_type": "markdown",
   "id": "165bcbd5",
   "metadata": {
    "slideshow": {
     "slide_type": "slide"
    }
   },
   "source": [
    "## Quiz Contd.\n",
    "\n",
    "- Plot `HR` vs. `yearID` for `merged1` and for `merged` when teamID is `ATL`"
   ]
  },
  {
   "cell_type": "code",
   "execution_count": null,
   "id": "43877b40",
   "metadata": {
    "scrolled": true,
    "slideshow": {
     "slide_type": "slide"
    }
   },
   "outputs": [],
   "source": [
    "import seaborn as sns\n",
    "sns.lineplot(data = merged[merged['teamID'] == 'ATL'], x = 'yearID', y = 'HRG')"
   ]
  },
  {
   "cell_type": "code",
   "execution_count": null,
   "id": "65f657cd",
   "metadata": {
    "scrolled": true,
    "slideshow": {
     "slide_type": "slide"
    }
   },
   "outputs": [],
   "source": [
    "sns.lineplot(data = merged1, x = 'yearID', y = 'HRG')"
   ]
  },
  {
   "cell_type": "markdown",
   "id": "127e4434",
   "metadata": {
    "slideshow": {
     "slide_type": "slide"
    }
   },
   "source": [
    "## Miscellaneous important modules\n",
    "\n",
    "- `scikit`: machine learning algorithms, built on numpy, scipy and matplotlib \n",
    "- `matplotlib`: more powerful data visualization\n",
    "- `requests`: web API (application programming interfaces)\n",
    "- `tensorflow: keras`: dense neural networks\n",
    "- `imageio`: image processing\n",
    "- `pybaseball`\n",
    "-  Data visualization: `plotnine` and [seaborn](https://seaborn.pydata.org/tutorial.html)\n",
    "\n",
    "## `scipy`\n",
    "- `stats` sub-module in scipy has most statistical functions\n",
    "- It also contains statistical models like linear regression\n",
    "- Scipy module also contains minimize function. "
   ]
  },
  {
   "cell_type": "markdown",
   "id": "87417423",
   "metadata": {
    "slideshow": {
     "slide_type": "slide"
    }
   },
   "source": [
    "## Important References\n",
    "\n",
    "- [Practical Data Science by Prof.Eubanks](https://www.practicaldatascience.org/html/index.html)\n",
    "- Anaconda and respective documentations\n",
    "- [W3Schools](https://www.w3schools.com/python/default.asp)\n",
    "\n"
   ]
  },
  {
   "cell_type": "markdown",
   "id": "75aa3e03",
   "metadata": {
    "slideshow": {
     "slide_type": "slide"
    }
   },
   "source": [
    "## Acknowledgements:\n",
    "\n",
    "- I thank the audience for their patience and enthusiasm.\n",
    "- I thank Professor Jun Yan whose class has taught a lot\n",
    "- Also need to acknowledge IMSI bootcamp and the humongous open source available on internet.\n",
    "- Wish you all the best of luck with working on Python.\n",
    "- I will be available at [surya.eada@uconn.edu](mailto:surya.eada@uconn.edu)\n",
    "\n",
    "\n",
    "## Questions:\n",
    "![Questions](https://hips.hearstapps.com/hmg-prod.s3.amazonaws.com/images/question-mark-icon-on-white-puzzle-royalty-free-image-917901148-1558452934.jpg?crop=0.66635xw:1xh;center,top&resize=980:*)"
   ]
  }
 ],
 "metadata": {
  "celltoolbar": "Slideshow",
  "kernelspec": {
   "display_name": "Python 3 (ipykernel)",
   "language": "python",
   "name": "python3"
  },
  "language_info": {
   "codemirror_mode": {
    "name": "ipython",
    "version": 3
   },
   "file_extension": ".py",
   "mimetype": "text/x-python",
   "name": "python",
   "nbconvert_exporter": "python",
   "pygments_lexer": "ipython3",
   "version": "3.9.7"
  }
 },
 "nbformat": 4,
 "nbformat_minor": 5
}
