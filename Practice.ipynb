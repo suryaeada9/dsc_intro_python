{
 "cells": [
  {
   "attachments": {},
   "cell_type": "markdown",
   "id": "93809da0",
   "metadata": {},
   "source": [
    "# Practice Workbook\n",
    "\n",
    "- On the right end you should see that it says `Python 3(ipykernel)`. \n",
    "- Note that when you create new files using Jupyter, you should select `Python` as the kernel.\n",
    "- In reality, Jupyter Notebook can be setup with other softwares too like `R`, `Julia` but with some additional configuration. \n",
    "- We will use this workbook for exercises through our Workshop.\n",
    "\n",
    "\n",
    "## Jupyter Notebook Essentials:\n",
    "- In order to work with a jupyter notebook that allows for `markdown` and `code chunks`, it is most importanat to note the difference between `command` mode and `edit` mode. \n",
    "    + `Command` mode is activated when a `blue border` is around the highlighted chunk and often can be obtained by pressing `ESC`\n",
    "    + This implies that you can add a new chunk using `A` or `B`, change the current chunk into a markdown chunk using `M`, or a code chunk using `Y`, activate help to find all shortcuts using `H` \n",
    "    + During the `Command` mode anything you type is considered a command for the notebook and will not be typed into the chunk. \n",
    "    + `Edit` mode is activated when a `green border` is highlighting the chunk you are at and can be attained by pressing `Enter`.\n",
    "    + This implies you are editing the current chunk by writing code or text depending on the type of chunk it is.\n",
    "    + A code chunk can be determined by a `In []` to the left of the chunk and a markdown chunk does not have a `In []`. Moreover, a markdown chunk can be run using `CMD + ENTER` in which case it looks like a PDF."
   ]
  },
  {
   "cell_type": "markdown",
   "id": "84f15402",
   "metadata": {},
   "source": []
  },
  {
   "cell_type": "code",
   "execution_count": 15,
   "id": "50f0650a",
   "metadata": {},
   "outputs": [],
   "source": []
  },
  {
   "cell_type": "markdown",
   "id": "2d83a486",
   "metadata": {},
   "source": [
    "## Python Indentation"
   ]
  },
  {
   "cell_type": "code",
   "execution_count": 33,
   "id": "b2534db0",
   "metadata": {},
   "outputs": [
    {
     "name": "stdout",
     "output_type": "stream",
     "text": [
      "<class 'str'> : \t ['capitalize', 'casefold', 'center', 'count', 'encode', 'endswith', 'expandtabs', 'find', 'format', 'format_map', 'index', 'isalnum', 'isalpha', 'isascii', 'isdecimal', 'isdigit', 'isidentifier', 'islower', 'isnumeric', 'isprintable', 'isspace', 'istitle', 'isupper', 'join', 'ljust', 'lower', 'lstrip', 'maketrans', 'partition', 'removeprefix', 'removesuffix', 'replace', 'rfind', 'rindex', 'rjust', 'rpartition', 'rsplit', 'rstrip', 'split', 'splitlines', 'startswith', 'strip', 'swapcase', 'title', 'translate', 'upper', 'zfill'] \n",
      "\n",
      "<class 'int'> : \t ['as_integer_ratio', 'bit_length', 'conjugate', 'denominator', 'from_bytes', 'imag', 'numerator', 'real', 'to_bytes'] \n",
      "\n",
      "<class 'float'> : \t ['as_integer_ratio', 'conjugate', 'fromhex', 'hex', 'imag', 'is_integer', 'real'] \n",
      "\n",
      "<class 'bool'> : \t ['as_integer_ratio', 'bit_length', 'conjugate', 'denominator', 'from_bytes', 'imag', 'numerator', 'real', 'to_bytes'] \n",
      "\n",
      "<class 'complex'> : \t ['conjugate', 'imag', 'real'] \n",
      "\n",
      "<class 'list'> : \t ['append', 'clear', 'copy', 'count', 'extend', 'index', 'insert', 'pop', 'remove', 'reverse', 'sort'] \n",
      "\n",
      "<class 'tuple'> : \t ['count', 'index'] \n",
      "\n",
      "<class 'range'> : \t ['count', 'index', 'start', 'step', 'stop'] \n",
      "\n",
      "<class 'dict'> : \t ['clear', 'copy', 'fromkeys', 'get', 'items', 'keys', 'pop', 'popitem', 'setdefault', 'update', 'values'] \n",
      "\n",
      "<class 'set'> : \t ['add', 'clear', 'copy', 'difference', 'difference_update', 'discard', 'intersection', 'intersection_update', 'isdisjoint', 'issubset', 'issuperset', 'pop', 'remove', 'symmetric_difference', 'symmetric_difference_update', 'union', 'update'] \n",
      "\n"
     ]
    }
   ],
   "source": [
    "method_list = [method for method in dir(MyClass) if method.startswith('__') is False]\n",
    "for MyClass in [str, int, float,  bool, complex, list, tuple, range, dict, set]:\n",
    "    print(f\"{MyClass} : \\t {[method for method in dir(MyClass) if method.startswith('__') is False]} \\n\")"
   ]
  },
  {
   "cell_type": "code",
   "execution_count": null,
   "id": "918a1baa",
   "metadata": {},
   "outputs": [],
   "source": []
  },
  {
   "cell_type": "code",
   "execution_count": null,
   "id": "2bf23162",
   "metadata": {},
   "outputs": [],
   "source": []
  },
  {
   "cell_type": "code",
   "execution_count": null,
   "id": "438f69ae",
   "metadata": {},
   "outputs": [],
   "source": []
  },
  {
   "cell_type": "code",
   "execution_count": null,
   "id": "ba82c818",
   "metadata": {},
   "outputs": [],
   "source": []
  },
  {
   "cell_type": "code",
   "execution_count": null,
   "id": "2c63090b",
   "metadata": {},
   "outputs": [],
   "source": []
  },
  {
   "cell_type": "code",
   "execution_count": null,
   "id": "4e7c3bab",
   "metadata": {},
   "outputs": [],
   "source": []
  },
  {
   "cell_type": "code",
   "execution_count": null,
   "id": "159616e5",
   "metadata": {},
   "outputs": [],
   "source": []
  },
  {
   "cell_type": "code",
   "execution_count": null,
   "id": "cecfc7f5",
   "metadata": {},
   "outputs": [],
   "source": []
  },
  {
   "cell_type": "code",
   "execution_count": null,
   "id": "95c0ecca",
   "metadata": {},
   "outputs": [],
   "source": []
  }
 ],
 "metadata": {
  "kernelspec": {
   "display_name": "Python 3 (ipykernel)",
   "language": "python",
   "name": "python3"
  },
  "language_info": {
   "codemirror_mode": {
    "name": "ipython",
    "version": 3
   },
   "file_extension": ".py",
   "mimetype": "text/x-python",
   "name": "python",
   "nbconvert_exporter": "python",
   "pygments_lexer": "ipython3",
   "version": "3.9.7"
  }
 },
 "nbformat": 4,
 "nbformat_minor": 5
}
