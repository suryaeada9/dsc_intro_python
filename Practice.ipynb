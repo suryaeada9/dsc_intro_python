{
 "cells": [
  {
   "cell_type": "markdown",
   "id": "93809da0",
   "metadata": {},
   "source": [
    "# Practice Workbook\n",
    "\n",
    "- On the right end you should see that it says `Python 3(ipykernel)`. \n",
    "- Note that when you create new files using Jupyter, you should select `Python` as the kernel.\n",
    "- In reality, Jupyter Notebook can be setup with other softwares too like `R`, `Julia` but with some additional configuration. \n",
    "- We will use this workbook for exercises through our Workshop.\n",
    "\n",
    "\n",
    "## Jupyter Notebook Essentials:\n",
    "- In order to work with a jupyter notebook that allows for `markdown` and `code chunks`, it is most importanat to note the difference between `command` mode and `edit` mode. \n",
    "    + `Command` mode is activated when a `blue border` is around the highlighted chunk and often can be obtained by pressing `ESC`\n",
    "    + This implies that you can add a new chunk using `A` or `B`, change the current chunk into a markdown chunk using `M`, or a code chunk using `Y`, activate help to find all shortcuts using `H` \n",
    "    + During the `Command` mode anything you type is considered a command for the notebook and will not be typed into the chunk. \n",
    "    + `Edit` mode is activated when a `green border` is highlighting the chunk you are at and can be attained by pressing `Enter`.\n",
    "    + This implies you are editing the current chunk by writing code or text depending on the type of chunk it is.\n",
    "    + A code chunk can be determined by a `In []` to the left of the chunk and a markdown chunk does not have a `In []`. Moreover, a markdown chunk can be run using `CMD + ENTER` in which case it looks like a PDF."
   ]
  },
  {
   "cell_type": "markdown",
   "id": "84f15402",
   "metadata": {},
   "source": [
    "## Find Python Installation and Version"
   ]
  },
  {
   "cell_type": "code",
   "execution_count": 15,
   "id": "50f0650a",
   "metadata": {},
   "outputs": [],
   "source": [
    "## Empty for your trial on finding python version\n",
    "\n",
    "\n"
   ]
  },
  {
   "cell_type": "markdown",
   "id": "96b873af",
   "metadata": {},
   "source": [
    "## Quiz on help with Variables\n",
    "\n",
    "Use the above manner of using `dir` to find the list of methods applicable\n",
    "to class `list` and apply those that are most appropriate for the following task:\n",
    "\n",
    "**Task:** \n",
    "Use `x = [3, 10, 7]` to create a variable x for the list, and using the methods for a `list` and:\n",
    "   - concatenate 4 to the list\n",
    "   - sort in descending order\n",
    "   - remove the item at index 2 from original variable and return removed value to a new variable\n",
    "   - clear the entire list\n",
    "   - Also find using help, the difference between `pop` and `remove`.\n",
    "    \n",
    " Use print statements at the end of every task to view x at the end of every method application.\n",
    "\n",
    "**Note:** If you are unsure of a particular method, use `help(type.method)` or `help(object.method)`"
   ]
  },
  {
   "cell_type": "code",
   "execution_count": null,
   "id": "23220ceb",
   "metadata": {},
   "outputs": [],
   "source": [
    "MyClass = list\n",
    "method_list = [method for method in dir(MyClass) if method.startswith('__') is False]\n",
    "print(method_list)\n",
    "\n",
    "# Use the above to find methods and apply as in the quiz.\n",
    "\n",
    "\n"
   ]
  },
  {
   "cell_type": "markdown",
   "id": "93e67d99",
   "metadata": {},
   "source": [
    "## Batting and Salaries Dataset\n",
    "\n",
    "## Quiz\n",
    "\n",
    "- Read Baseball datasets from Lahman available in github repository under data using `pd.read_csv()` \n",
    "- Get columns ('yearID', 'teamID', 'salary') from salary.csv and ('yearID', 'teamID', 'G', 'R', 'HR') from batting.csv. (G: Games, R: Runs, HR: Home Runs)\n",
    "- find `.head()` method to observe the first 6 rows.\n",
    "- Use `.describe()` method for obtaining summary for numeric variables.\n",
    "\n",
    "## Quiz. Contd.\n",
    "\n",
    "- Merge datasets batting and sal based on `yearID`\n",
    "- Find the dimensions using `shape`\n",
    "\n",
    "## Quiz Contd.\n",
    "\n",
    "- Sum rows by year to find `merged1` and by team to find `merged2`\n",
    "- Create new column `HRG` derived as `HR/G` (Home runs per gamee) for `merged1` and `merged2`.\n",
    "\n",
    "## Quiz Contd.\n",
    "\n",
    "- Plot `HR` vs. `yearID` for `merged1` and for `merged` when teamID is `ATL`"
   ]
  },
  {
   "cell_type": "code",
   "execution_count": null,
   "id": "d489087d",
   "metadata": {},
   "outputs": [],
   "source": [
    "## "
   ]
  }
 ],
 "metadata": {
  "kernelspec": {
   "display_name": "Python 3 (ipykernel)",
   "language": "python",
   "name": "python3"
  },
  "language_info": {
   "codemirror_mode": {
    "name": "ipython",
    "version": 3
   },
   "file_extension": ".py",
   "mimetype": "text/x-python",
   "name": "python",
   "nbconvert_exporter": "python",
   "pygments_lexer": "ipython3",
   "version": "3.9.7"
  }
 },
 "nbformat": 4,
 "nbformat_minor": 5
}
